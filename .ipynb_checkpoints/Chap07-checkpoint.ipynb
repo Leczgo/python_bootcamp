{
 "cells": [
  {
   "cell_type": "markdown",
   "id": "f06d4e5d",
   "metadata": {},
   "source": [
    "## Object-Oriented Programming"
   ]
  },
  {
   "cell_type": "markdown",
   "id": "053c7a8c",
   "metadata": {},
   "source": [
    "#### Creating & Instantiating a Class"
   ]
  },
  {
   "cell_type": "code",
   "execution_count": 1,
   "id": "cd12236f",
   "metadata": {},
   "outputs": [],
   "source": [
    "# creating your first class\n",
    "class car():\n",
    "    pass"
   ]
  },
  {
   "cell_type": "code",
   "execution_count": 2,
   "id": "93770bd2",
   "metadata": {},
   "outputs": [
    {
     "name": "stdout",
     "output_type": "stream",
     "text": [
      "<__main__.car object at 0x000001E819176500>\n"
     ]
    }
   ],
   "source": [
    "# instantiating an object from a class\n",
    "class car():\n",
    "    pass\n",
    "ford = car()\n",
    "print(ford)"
   ]
  },
  {
   "cell_type": "code",
   "execution_count": 3,
   "id": "69900fab",
   "metadata": {},
   "outputs": [
    {
     "name": "stdout",
     "output_type": "stream",
     "text": [
      "131022812881\n",
      "131022812581\n"
     ]
    }
   ],
   "source": [
    "# creating multiple instances of an object from a class\n",
    "class car():\n",
    "    pass\n",
    "ford = car()\n",
    "subaru = car()\n",
    "print(hash(ford))\n",
    "print(hash(subaru))"
   ]
  },
  {
   "cell_type": "markdown",
   "id": "51176ea2",
   "metadata": {},
   "source": [
    "#### Monday Exercises"
   ]
  },
  {
   "cell_type": "code",
   "execution_count": 5,
   "id": "1377fe35",
   "metadata": {},
   "outputs": [],
   "source": [
    "class animals():\n",
    "    pass\n",
    "lion = animals()\n",
    "tiger = animals()"
   ]
  },
  {
   "cell_type": "markdown",
   "id": "d03766ba",
   "metadata": {},
   "source": [
    "#### Attributes"
   ]
  },
  {
   "cell_type": "code",
   "execution_count": 7,
   "id": "63b15215",
   "metadata": {},
   "outputs": [
    {
     "name": "stdout",
     "output_type": "stream",
     "text": [
      "red\n"
     ]
    }
   ],
   "source": [
    "# assigning class attributes\n",
    "class car():\n",
    "    sound = \"beep\"    # all car objects will have this sound attribute and its value\n",
    "    color = 'red'    # all car objects will have this color attribute and its value\n",
    "ford = car()\n",
    "print( ford.color )"
   ]
  },
  {
   "cell_type": "code",
   "execution_count": 8,
   "id": "e8f0943d",
   "metadata": {},
   "outputs": [
    {
     "name": "stdout",
     "output_type": "stream",
     "text": [
      "beep\n",
      "honk\n"
     ]
    }
   ],
   "source": [
    "# changing the value of a class attribute\n",
    "class car():\n",
    "    sound = 'beep'\n",
    "    color = 'red'\n",
    "ford = car()\n",
    "print(ford.sound)\n",
    "ford.sound = 'honk'    # this changes the attribute of the ford object, all other car class objects are unaffected\n",
    "print(ford.sound)"
   ]
  },
  {
   "cell_type": "code",
   "execution_count": 9,
   "id": "f7b4590e",
   "metadata": {},
   "outputs": [
    {
     "name": "stdout",
     "output_type": "stream",
     "text": [
      "blue\n"
     ]
    }
   ],
   "source": [
    "# using the __init()__ method to give instances personalized attributes\n",
    "class car():\n",
    "    def __init__(self,color):\n",
    "        self.color = color    # sets color attribute to the value passed in the instance\n",
    "\n",
    "ford = car(\"blue\")    # ford object instantiated with color blue\n",
    "print( ford.color )"
   ]
  },
  {
   "cell_type": "code",
   "execution_count": 10,
   "id": "4e4bcbf6",
   "metadata": {},
   "outputs": [
    {
     "name": "stdout",
     "output_type": "stream",
     "text": [
      "blue 2018\n",
      "red 2016\n"
     ]
    }
   ],
   "source": [
    "# defining different values for multiple instances\n",
    "class car():\n",
    "    def __init__(self,color,year):\n",
    "        self.color = color\n",
    "        self.year = year\n",
    "\n",
    "ford = car('blue',2018)\n",
    "subaru = car('red',2016)\n",
    "\n",
    "print( ford.color,ford.year )\n",
    "print( subaru.color,subaru.year )"
   ]
  },
  {
   "cell_type": "code",
   "execution_count": 11,
   "id": "891932dc",
   "metadata": {},
   "outputs": [
    {
     "name": "stdout",
     "output_type": "stream",
     "text": [
      "beep\n",
      "blue\n"
     ]
    }
   ],
   "source": [
    "# using and accessing a global attribute\n",
    "class car():\n",
    "    sound = 'beep'    # global attribute\n",
    "    def __init__(self,color):\n",
    "        self.color = color    # instance specific attribute\n",
    "\n",
    "print( car.sound )\n",
    "# print( car.color )    # won't work because sound is an instance specific attribute\n",
    "\n",
    "ford = car('blue')\n",
    "print( ford.color )"
   ]
  },
  {
   "cell_type": "markdown",
   "id": "5ac69a61",
   "metadata": {},
   "source": [
    "#### Tuesday Exercises"
   ]
  },
  {
   "cell_type": "code",
   "execution_count": 12,
   "id": "9f4f0f92",
   "metadata": {},
   "outputs": [],
   "source": [
    "# create a class for dog\n",
    "class dog():\n",
    "    species = \"canine\"\n",
    "    def __init__(self,name,breed):\n",
    "        self.name = name\n",
    "        self.breed = breed\n",
    "\n",
    "dog1 = dog('Sammi','Husky')\n",
    "dog2 = dog('Casey','Chocolate Lab')"
   ]
  },
  {
   "cell_type": "code",
   "execution_count": 13,
   "id": "5b723699",
   "metadata": {},
   "outputs": [
    {
     "name": "stdout",
     "output_type": "stream",
     "text": [
      "Heather\n"
     ]
    }
   ],
   "source": [
    "# user input\n",
    "class Person():\n",
    "    def __init__(self,name):\n",
    "        self.name = name\n",
    "\n",
    "person1 = Person(\"Heather\")\n",
    "print(person1.name)"
   ]
  },
  {
   "cell_type": "code",
   "execution_count": null,
   "id": "952debdb",
   "metadata": {},
   "outputs": [],
   "source": []
  }
 ],
 "metadata": {
  "kernelspec": {
   "display_name": "Python 3 (ipykernel)",
   "language": "python",
   "name": "python3"
  },
  "language_info": {
   "codemirror_mode": {
    "name": "ipython",
    "version": 3
   },
   "file_extension": ".py",
   "mimetype": "text/x-python",
   "name": "python",
   "nbconvert_exporter": "python",
   "pygments_lexer": "ipython3",
   "version": "3.10.4"
  }
 },
 "nbformat": 4,
 "nbformat_minor": 5
}
