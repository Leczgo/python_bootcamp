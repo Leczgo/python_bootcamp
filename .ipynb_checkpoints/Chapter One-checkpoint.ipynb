{
 "cells": [
  {
   "cell_type": "markdown",
   "id": "5eb01069",
   "metadata": {},
   "source": [
    "Week 01"
   ]
  },
  {
   "cell_type": "code",
   "execution_count": 1,
   "id": "bb5bbc9d",
   "metadata": {},
   "outputs": [
    {
     "name": "stdout",
     "output_type": "stream",
     "text": [
      "Hello, buddy!\n"
     ]
    }
   ],
   "source": [
    "#this is python\n",
    "print(\"Hello, buddy!\")"
   ]
  },
  {
   "cell_type": "code",
   "execution_count": 2,
   "id": "829b166a",
   "metadata": {},
   "outputs": [],
   "source": [
    "#this is the first line\n",
    "\n",
    "\n",
    "\n",
    "#this is the fifth line"
   ]
  },
  {
   "cell_type": "markdown",
   "id": "1f145c1b",
   "metadata": {},
   "source": [
    "Guessing Game"
   ]
  },
  {
   "cell_type": "code",
   "execution_count": 6,
   "id": "88cc386b",
   "metadata": {},
   "outputs": [
    {
     "name": "stdout",
     "output_type": "stream",
     "text": [
      "Congrats! You guessed it correctly.\n",
      "It took you 7 guesses!\n"
     ]
    }
   ],
   "source": [
    "#guessing game\n",
    "from random import randint\n",
    "from IPython.display import clear_output\n",
    "guessed = False\n",
    "number = randint(0,100)\n",
    "guesses = 0\n",
    "while not guessed:\n",
    "    ans = input(\"Try to guess the number I am thinking of!\")\n",
    "    #use tab to indent\n",
    "    guesses += 1\n",
    "    clear_output()\n",
    "    if int(ans) == number:\n",
    "        print(\"Congrats! You guessed it correctly.\")\n",
    "        print(\"It took you {} guesses!\".format(guesses))\n",
    "        break\n",
    "    elif int(ans) > number:\n",
    "        print(\"The number is lower than what you guessed!\")\n",
    "    elif int(ans) < number:\n",
    "        print(\"The number is greater than what you guessed!\")"
   ]
  },
  {
   "cell_type": "code",
   "execution_count": null,
   "id": "79f83efb",
   "metadata": {},
   "outputs": [],
   "source": []
  }
 ],
 "metadata": {
  "kernelspec": {
   "display_name": "Python 3 (ipykernel)",
   "language": "python",
   "name": "python3"
  },
  "language_info": {
   "codemirror_mode": {
    "name": "ipython",
    "version": 3
   },
   "file_extension": ".py",
   "mimetype": "text/x-python",
   "name": "python",
   "nbconvert_exporter": "python",
   "pygments_lexer": "ipython3",
   "version": "3.10.4"
  }
 },
 "nbformat": 4,
 "nbformat_minor": 5
}
