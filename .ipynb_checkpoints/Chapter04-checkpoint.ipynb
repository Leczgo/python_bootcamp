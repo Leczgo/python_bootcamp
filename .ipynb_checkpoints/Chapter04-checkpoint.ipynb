{
 "cells": [
  {
   "cell_type": "markdown",
   "id": "3fb81ce4",
   "metadata": {},
   "source": [
    "## Lists"
   ]
  },
  {
   "cell_type": "code",
   "execution_count": 2,
   "id": "31ce555d",
   "metadata": {},
   "outputs": [
    {
     "name": "stdout",
     "output_type": "stream",
     "text": [
      "[5, 10, 15.2, 20]\n"
     ]
    }
   ],
   "source": [
    "# declaring a list of numbers\n",
    "nums = [5, 10, 15.2, 20]\n",
    "print(nums)"
   ]
  },
  {
   "cell_type": "code",
   "execution_count": 3,
   "id": "5fe638bc",
   "metadata": {},
   "outputs": [
    {
     "name": "stdout",
     "output_type": "stream",
     "text": [
      "10\n",
      "15.2\n"
     ]
    }
   ],
   "source": [
    "# accessing elements within a list\n",
    "print( nums[1] )    # will output the value 2 into num\n",
    "num = nums[2]    # saves index value 2 into num\n",
    "print( num )    # prints value assigned to num"
   ]
  },
  {
   "cell_type": "code",
   "execution_count": 4,
   "id": "6a64365f",
   "metadata": {},
   "outputs": [
    {
     "name": "stdout",
     "output_type": "stream",
     "text": [
      "[4.3, 'word', True]\n"
     ]
    }
   ],
   "source": [
    "# declaring a list of mixed data types\n",
    "num = 4.3\n",
    "data = [num, \"word\", True]    # the power of data collection\n",
    "print( data )"
   ]
  },
  {
   "cell_type": "code",
   "execution_count": 5,
   "id": "95ba5256",
   "metadata": {},
   "outputs": [
    {
     "name": "stdout",
     "output_type": "stream",
     "text": [
      "[5, 'book', [34, 'hello'], True]\n",
      "[34, 'hello']\n"
     ]
    }
   ],
   "source": [
    "# understanding lists within lists\n",
    "data = [5, \"book\", [34, \"hello\"], True]    # lists can hold any type\n",
    "print( data )\n",
    "print( data[2] )"
   ]
  },
  {
   "cell_type": "code",
   "execution_count": 7,
   "id": "949036ed",
   "metadata": {},
   "outputs": [
    {
     "name": "stdout",
     "output_type": "stream",
     "text": [
      "34\n",
      "hello\n",
      "o\n"
     ]
    }
   ],
   "source": [
    "# using repeated bracket notation to access lists within lists\n",
    "print( data[2][0] )    # will output 34\n",
    "inner_list = data[2]    # inner list will equal [34, 'hello']\n",
    "print( inner_list[1] )    # will output 'hello'\n",
    "print( data[1][1] )    # will output 'o'"
   ]
  },
  {
   "cell_type": "code",
   "execution_count": 8,
   "id": "d3680532",
   "metadata": {},
   "outputs": [
    {
     "name": "stdout",
     "output_type": "stream",
     "text": [
      "[5, 10, 15, 20]\n",
      "[100, 10, 15, 20]\n"
     ]
    }
   ],
   "source": [
    "# changing values in a list through index\n",
    "data = [5,10,15,20]\n",
    "print( data )\n",
    "data[0] = 100    # change the value at index 0 - (5 to 100)\n",
    "print( data )"
   ]
  },
  {
   "cell_type": "code",
   "execution_count": 9,
   "id": "f042dd16",
   "metadata": {},
   "outputs": [
    {
     "name": "stdout",
     "output_type": "stream",
     "text": [
      "a: [5, 10]\tb: [5, 10]\n",
      "Location a[0]: 1274558114224\t Location b[0]: 1274558114224\n",
      "a: [20, 10]\tb: [20, 10]\n"
     ]
    }
   ],
   "source": [
    "# understanding how lists are stored\n",
    "a = [5,10]\n",
    "b = a\n",
    "print( \"a: {}\\tb: {}\".format(a,b) )\n",
    "print( \"Location a[0]: {}\\t Location b[0]: {}\".format(id( a[0]),id(b[0] ) ) )\n",
    "a[0] = 20    # re-declaring the value of a[0] also changes b[0]\n",
    "print( \"a: {}\\tb: {}\".format(a,b) )"
   ]
  },
  {
   "cell_type": "code",
   "execution_count": 10,
   "id": "46bd752f",
   "metadata": {},
   "outputs": [
    {
     "name": "stdout",
     "output_type": "stream",
     "text": [
      "data:[50, 10, 15, 20]\tdata_copy:[5, 10, 15, 20]\n"
     ]
    }
   ],
   "source": [
    "# using [:] to copy a list\n",
    "data = [5,10,15,20]\n",
    "data_copy = data[:]    # a single colon copies the list\n",
    "data[0] = 50\n",
    "print( \"data:{}\\tdata_copy:{}\".format(data,data_copy) )"
   ]
  },
  {
   "cell_type": "markdown",
   "id": "4cdd5ec4",
   "metadata": {},
   "source": [
    "#### Monday Exercises"
   ]
  },
  {
   "cell_type": "code",
   "execution_count": 12,
   "id": "9986b9eb",
   "metadata": {},
   "outputs": [
    {
     "name": "stdout",
     "output_type": "stream",
     "text": [
      "I like to play football\n",
      "I like to play basketball\n",
      "I like to play soccer\n",
      "I like to play squash\n",
      "I like to play golf\n",
      "I like to play baseball\n",
      "I like to play hockey\n"
     ]
    }
   ],
   "source": [
    "sports = [\"football\",\"basketball\",\"soccer\",\"squash\",\"golf\",\"baseball\",\"hockey\"]\n",
    "print( \"I like to play {}\".format(sports[0]) )\n",
    "print( \"I like to play {}\".format(sports[1]) )\n",
    "print( \"I like to play {}\".format(sports[2]) )\n",
    "print( \"I like to play {}\".format(sports[3]) )\n",
    "print( \"I like to play {}\".format(sports[4]) )\n",
    "print( \"I like to play {}\".format(sports[5]) )\n",
    "print( \"I like to play {}\".format(sports[6]) )"
   ]
  },
  {
   "cell_type": "code",
   "execution_count": 13,
   "id": "78afeb5c",
   "metadata": {},
   "outputs": [
    {
     "name": "stdout",
     "output_type": "stream",
     "text": [
      "'J','A','S','K'\n"
     ]
    }
   ],
   "source": [
    "names = [\"John\",\"Abraham\",\"Sam\",\"Kelly\"]\n",
    "print(f\"'{names[0][0]}','{names[1][0]}','{names[2][0]}','{names[3][0]}'\")"
   ]
  },
  {
   "cell_type": "markdown",
   "id": "fc8d7857",
   "metadata": {},
   "source": [
    "## For Loops"
   ]
  },
  {
   "cell_type": "code",
   "execution_count": 16,
   "id": "26d6f230",
   "metadata": {},
   "outputs": [
    {
     "name": "stdout",
     "output_type": "stream",
     "text": [
      "Value: 0\n",
      "Value: 1\n",
      "Value: 2\n",
      "Value: 3\n",
      "Value: 4\n"
     ]
    }
   ],
   "source": [
    "# writing the first for loop using range\n",
    "for num in range(5):\n",
    "    print( \"Value: {}\".format(num) )"
   ]
  },
  {
   "cell_type": "code",
   "execution_count": 17,
   "id": "6a288e56",
   "metadata": {},
   "outputs": [
    {
     "name": "stdout",
     "output_type": "stream",
     "text": [
      "Value: 2\n",
      "Value: 4\n",
      "Value: 6\n",
      "Value: 8\n"
     ]
    }
   ],
   "source": [
    "# providing the start, stop, and step for the range function\n",
    "for num in range(2,10,2):\n",
    "    print( \"Value: {}\".format(num) )    # will print all evens between 2 and 10"
   ]
  },
  {
   "cell_type": "code",
   "execution_count": 18,
   "id": "e928c2e7",
   "metadata": {},
   "outputs": [
    {
     "name": "stdout",
     "output_type": "stream",
     "text": [
      "Value: J\n",
      "Value: o\n",
      "Value: h\n",
      "Value: n\n",
      "Value:  \n",
      "Value: S\n",
      "Value: m\n",
      "Value: i\n",
      "Value: t\n",
      "Value: h\n"
     ]
    }
   ],
   "source": [
    "# printing all characters in a name using the 'in' keyword\n",
    "name = 'John Smith'\n",
    "for letter in name:\n",
    "    print( \"Value: {}\".format(letter) )"
   ]
  },
  {
   "cell_type": "code",
   "execution_count": 19,
   "id": "d34f7e63",
   "metadata": {},
   "outputs": [
    {
     "name": "stdout",
     "output_type": "stream",
     "text": [
      "0\n",
      "1\n",
      "2\n",
      "4\n"
     ]
    }
   ],
   "source": [
    "# using the continue statement within a for loop\n",
    "for num in range(5):\n",
    "    if num == 3:\n",
    "        continue\n",
    "    print(num)"
   ]
  },
  {
   "cell_type": "code",
   "execution_count": 20,
   "id": "559faebd",
   "metadata": {},
   "outputs": [
    {
     "name": "stdout",
     "output_type": "stream",
     "text": [
      "0\n",
      "1\n",
      "2\n"
     ]
    }
   ],
   "source": [
    "# breaking out of a loop using the 'break statement'\n",
    "for num in range(5):\n",
    "    if num == 3:\n",
    "        break\n",
    "    print(num)"
   ]
  },
  {
   "cell_type": "code",
   "execution_count": 21,
   "id": "7e3e9ef6",
   "metadata": {},
   "outputs": [],
   "source": [
    "# setting a placeholder using the 'pass' keyword\n",
    "for i in range(5):\n",
    "    # TODO: add a code to print number\n",
    "    pass"
   ]
  },
  {
   "cell_type": "markdown",
   "id": "4a529bc4",
   "metadata": {},
   "source": [
    "#### Tuesday Exercises"
   ]
  },
  {
   "cell_type": "code",
   "execution_count": 22,
   "id": "3da6965c",
   "metadata": {},
   "outputs": [
    {
     "name": "stdout",
     "output_type": "stream",
     "text": [
      "3\n",
      "6\n",
      "9\n",
      "12\n",
      "15\n",
      "18\n",
      "21\n",
      "24\n",
      "27\n",
      "30\n",
      "33\n",
      "36\n",
      "39\n",
      "42\n",
      "45\n",
      "48\n",
      "51\n",
      "54\n",
      "57\n",
      "60\n",
      "63\n",
      "66\n",
      "69\n",
      "72\n",
      "75\n",
      "78\n",
      "81\n",
      "84\n",
      "87\n",
      "90\n",
      "93\n",
      "96\n",
      "99\n"
     ]
    }
   ],
   "source": [
    "# Divisible by 3\n",
    "for num in range(1,100,1):\n",
    "    if num % 3 == 0:\n",
    "        print(num)"
   ]
  },
  {
   "cell_type": "code",
   "execution_count": 36,
   "id": "adf81c63",
   "metadata": {},
   "outputs": [
    {
     "name": "stdout",
     "output_type": "stream",
     "text": [
      "eo\n"
     ]
    }
   ],
   "source": [
    "# only vowels\n",
    "wrd = \"Hello\"\n",
    "str = \"\"\n",
    "for s in wrd:\n",
    "    if s != \"e\" and s != \"o\":\n",
    "        continue\n",
    "    str = str + s\n",
    "print(str)"
   ]
  },
  {
   "cell_type": "code",
   "execution_count": null,
   "id": "798eec56",
   "metadata": {},
   "outputs": [],
   "source": []
  }
 ],
 "metadata": {
  "kernelspec": {
   "display_name": "Python 3 (ipykernel)",
   "language": "python",
   "name": "python3"
  },
  "language_info": {
   "codemirror_mode": {
    "name": "ipython",
    "version": 3
   },
   "file_extension": ".py",
   "mimetype": "text/x-python",
   "name": "python",
   "nbconvert_exporter": "python",
   "pygments_lexer": "ipython3",
   "version": "3.9.2"
  }
 },
 "nbformat": 4,
 "nbformat_minor": 5
}
