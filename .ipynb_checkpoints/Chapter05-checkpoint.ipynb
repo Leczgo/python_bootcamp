{
 "cells": [
  {
   "cell_type": "markdown",
   "id": "6461a923",
   "metadata": {},
   "source": [
    "## Functions"
   ]
  },
  {
   "cell_type": "code",
   "execution_count": 1,
   "id": "4f995ef2",
   "metadata": {},
   "outputs": [
    {
     "name": "stdout",
     "output_type": "stream",
     "text": [
      "Name: John Smith\n",
      "Age: 45\n",
      "Name: John Smith\n",
      "Age: 45\n"
     ]
    }
   ],
   "source": [
    "# writing your first function\n",
    "def printInfo():    # defines name of function\n",
    "    print(\"Name: John Smith\")\n",
    "    print(\"Age: 45\")\n",
    "printInfo()\n",
    "printInfo()"
   ]
  },
  {
   "cell_type": "code",
   "execution_count": 2,
   "id": "3fd435e3",
   "metadata": {},
   "outputs": [
    {
     "name": "stdout",
     "output_type": "stream",
     "text": [
      "15\n"
     ]
    }
   ],
   "source": [
    "# performing a calculation in a function\n",
    "def calc():\n",
    "    x, y = 5, 10\n",
    "    print(x + y)\n",
    "\n",
    "calc()"
   ]
  },
  {
   "cell_type": "markdown",
   "id": "3b3dca9a",
   "metadata": {},
   "source": [
    "#### Monday Exercises"
   ]
  },
  {
   "cell_type": "code",
   "execution_count": 3,
   "id": "51052b11",
   "metadata": {},
   "outputs": [
    {
     "name": "stdout",
     "output_type": "stream",
     "text": [
      "Adam Lecznar\n",
      "Adam Lecznar\n"
     ]
    }
   ],
   "source": [
    "# myName function\n",
    "def myName():\n",
    "    print(\"Adam Lecznar\")\n",
    "\n",
    "myName()\n",
    "myName()"
   ]
  },
  {
   "cell_type": "code",
   "execution_count": 4,
   "id": "f1b0e56a",
   "metadata": {},
   "outputs": [
    {
     "name": "stdout",
     "output_type": "stream",
     "text": [
      "cheese,pepperoni,bacon,sausage,onion\n",
      "cheese,pepperoni,bacon,sausage,onion\n",
      "cheese,pepperoni,bacon,sausage,onion\n"
     ]
    }
   ],
   "source": [
    "# Pizza Function\n",
    "def pizzaToppings():\n",
    "    print(\"cheese,pepperoni,bacon,sausage,onion\")\n",
    "\n",
    "pizzaToppings()\n",
    "pizzaToppings()\n",
    "pizzaToppings()"
   ]
  },
  {
   "cell_type": "markdown",
   "id": "f96c65e5",
   "metadata": {},
   "source": [
    "## Parameters"
   ]
  },
  {
   "cell_type": "code",
   "execution_count": 5,
   "id": "c5f367e7",
   "metadata": {},
   "outputs": [
    {
     "name": "stdout",
     "output_type": "stream",
     "text": [
      "John Smith\n",
      "Amanda Johnson\n"
     ]
    }
   ],
   "source": [
    "def printName(fullname):\n",
    "    print(\"My name is {}\".format(fullname))\n",
    "print('John Smith')\n",
    "print(\"Amanda Johnson\")"
   ]
  },
  {
   "cell_type": "code",
   "execution_count": 6,
   "id": "0599ab19",
   "metadata": {},
   "outputs": [
    {
     "name": "stdout",
     "output_type": "stream",
     "text": [
      "5 + 8 = 13\n",
      "3.5 + 3.5 = 7.0\n",
      "5 + -6 = -1\n"
     ]
    }
   ],
   "source": [
    "# passing multiple parameters into a function\n",
    "def addNums(num1,num2):\n",
    "    result = num1 + num2\n",
    "    print(f\"{num1} + {num2} = {result}\")\n",
    "\n",
    "addNums(5,8)\n",
    "addNums(3.5,3.5)\n",
    "addNums(5,-6)"
   ]
  },
  {
   "cell_type": "code",
   "execution_count": 7,
   "id": "c35ac313",
   "metadata": {},
   "outputs": [
    {
     "name": "stdout",
     "output_type": "stream",
     "text": [
      "4\n",
      "16\n",
      "25\n",
      "100\n",
      "1\n",
      "9\n",
      "36\n"
     ]
    }
   ],
   "source": [
    "# using a function to square all information\n",
    "numbers1 = [2,4,5,10]\n",
    "numbers2 = [1,3,6]\n",
    "def squares(nums):\n",
    "    for num in nums:\n",
    "        print(num ** 2)\n",
    "\n",
    "squares(numbers1)\n",
    "squares(numbers2)"
   ]
  },
  {
   "cell_type": "code",
   "execution_count": 8,
   "id": "64769301",
   "metadata": {},
   "outputs": [
    {
     "name": "stdout",
     "output_type": "stream",
     "text": [
      "Area: 12.56\n"
     ]
    }
   ],
   "source": [
    "# setting default parameters\n",
    "def calcArea(r,pi = 3.14):\n",
    "    area = pi * (r**2)\n",
    "    print(\"Area: {}\".format(area))\n",
    "\n",
    "calcArea(2)"
   ]
  },
  {
   "cell_type": "code",
   "execution_count": 9,
   "id": "c9a375a8",
   "metadata": {},
   "outputs": [
    {
     "name": "stdout",
     "output_type": "stream",
     "text": [
      "John Smith\n",
      "John Paul Smith\n"
     ]
    }
   ],
   "source": [
    "# setting optional parameters\n",
    "def printName(first,last,middle = \"\"):\n",
    "    if middle:\n",
    "        print(f\"{first} {middle} {last}\")\n",
    "    else:\n",
    "        print(f\"{first} {last}\")\n",
    "\n",
    "printName(\"John\",\"Smith\")\n",
    "printName(\"John\",\"Smith\",\"Paul\")"
   ]
  },
  {
   "cell_type": "code",
   "execution_count": 10,
   "id": "bb7beb19",
   "metadata": {},
   "outputs": [
    {
     "name": "stdout",
     "output_type": "stream",
     "text": [
      "5 + 7 = 12\n"
     ]
    }
   ],
   "source": [
    "# explicitly naming parameters\n",
    "addNums(5,num2 = 7)"
   ]
  },
  {
   "cell_type": "code",
   "execution_count": 11,
   "id": "7b9f6932",
   "metadata": {},
   "outputs": [
    {
     "name": "stdout",
     "output_type": "stream",
     "text": [
      "<class 'tuple'>\n",
      "5\n",
      "True\n",
      "Jess\n"
     ]
    }
   ],
   "source": [
    "# using args parameter to take in a tuple of arbitrary values\n",
    "def outputData(names,*args):\n",
    "    print( type(args) )\n",
    "    for arg in args:\n",
    "        print(arg)\n",
    "\n",
    "outputData(\"John Smith\",5,True,\"Jess\")"
   ]
  },
  {
   "cell_type": "code",
   "execution_count": 12,
   "id": "8bf9813b",
   "metadata": {},
   "outputs": [
    {
     "name": "stdout",
     "output_type": "stream",
     "text": [
      "<class 'dict'>\n",
      "John Smith\n",
      "5\n"
     ]
    }
   ],
   "source": [
    "# using kwargs parameter to take in a dictionary of arbitrary values\n",
    "def outputData(**kwargs):\n",
    "    print(type(kwargs))\n",
    "    print( kwargs[\"name\"] )\n",
    "    print( kwargs[\"num\"] )\n",
    "\n",
    "outputData(name = \"John Smith\", num = 5, b = True )"
   ]
  },
  {
   "cell_type": "markdown",
   "id": "720414ce",
   "metadata": {},
   "source": [
    "#### Tuesday Exercises"
   ]
  },
  {
   "cell_type": "code",
   "execution_count": 14,
   "id": "2aabf834",
   "metadata": {},
   "outputs": [
    {
     "name": "stdout",
     "output_type": "stream",
     "text": [
      "Enter a word:Hello\n",
      "True\n"
     ]
    }
   ],
   "source": [
    "# detect uppercased word\n",
    "s = input(\"Enter a word:\")\n",
    "def upDetect(word):\n",
    "    try:\n",
    "        if word[0].isupper():\n",
    "            print(True)\n",
    "        else:\n",
    "            print(False)\n",
    "    except:\n",
    "        print(\"Please enter a valid string.\")\n",
    "\n",
    "upDetect(word = s)"
   ]
  },
  {
   "cell_type": "code",
   "execution_count": 17,
   "id": "9df00b75",
   "metadata": {},
   "outputs": [
    {
     "name": "stdout",
     "output_type": "stream",
     "text": [
      "My name is John Smith\n",
      "My name is John\n",
      "My name is Smith\n",
      "No name passed\n"
     ]
    }
   ],
   "source": [
    "# optional name printing\n",
    "def printName(first = \"\",last = \"\"):\n",
    "    try:\n",
    "        if not first and not last:\n",
    "            print(\"No name passed\")\n",
    "        elif first and not last:\n",
    "            print(\"My name is {}\".format(first))\n",
    "        elif not first and last:\n",
    "            print(\"My name is {}\".format(last))\n",
    "        else:\n",
    "            fullname = first + \" \" + last\n",
    "            print(\"My name is {}\".format(fullname))\n",
    "    except:\n",
    "        print(\"Please enter a valid name.\")\n",
    "\n",
    "printName(\"John\",\"Smith\")\n",
    "printName(\"John\")\n",
    "printName(last = \"Smith\")\n",
    "printName()"
   ]
  },
  {
   "cell_type": "code",
   "execution_count": null,
   "id": "92bbfff9",
   "metadata": {},
   "outputs": [],
   "source": []
  }
 ],
 "metadata": {
  "kernelspec": {
   "display_name": "Python 3 (ipykernel)",
   "language": "python",
   "name": "python3"
  },
  "language_info": {
   "codemirror_mode": {
    "name": "ipython",
    "version": 3
   },
   "file_extension": ".py",
   "mimetype": "text/x-python",
   "name": "python",
   "nbconvert_exporter": "python",
   "pygments_lexer": "ipython3",
   "version": "3.10.4"
  }
 },
 "nbformat": 4,
 "nbformat_minor": 5
}
