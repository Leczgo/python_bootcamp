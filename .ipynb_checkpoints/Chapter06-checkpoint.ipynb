{
 "cells": [
  {
   "cell_type": "markdown",
   "id": "c4cafcd3",
   "metadata": {},
   "source": [
    "## Dictionaries"
   ]
  },
  {
   "cell_type": "code",
   "execution_count": 1,
   "id": "ba1d6603",
   "metadata": {},
   "outputs": [
    {
     "name": "stdout",
     "output_type": "stream",
     "text": [
      "{'name': 'Morty', 'Age': 26}\n"
     ]
    }
   ],
   "source": [
    "# declaring a dictionary variable\n",
    "empty = {}    # an empty dictionary\n",
    "person = {\"name\":\"John Smith\"}    # dictionary with key:value pair\n",
    "customer = {\"name\":\"Morty\",\"Age\":26}    # a dictionary with two key:value pairs\n",
    "print( customer )"
   ]
  },
  {
   "cell_type": "code",
   "execution_count": 2,
   "id": "17536950",
   "metadata": {},
   "outputs": [
    {
     "name": "stdout",
     "output_type": "stream",
     "text": [
      "John\n"
     ]
    }
   ],
   "source": [
    "# accessing information through keys\n",
    "person = {'name':'John'}\n",
    "print( person['name'] )"
   ]
  },
  {
   "cell_type": "code",
   "execution_count": 3,
   "id": "52a51a65",
   "metadata": {},
   "outputs": [
    {
     "name": "stdout",
     "output_type": "stream",
     "text": [
      "John\n",
      "None Age is not available.\n"
     ]
    }
   ],
   "source": [
    "# using the get() method to access dictionary information\n",
    "person = {'name':'John'}\n",
    "print( person.get('name') )\n",
    "print( person.get('age'),\"Age is not available.\" )"
   ]
  },
  {
   "cell_type": "code",
   "execution_count": 4,
   "id": "dfbaa8e0",
   "metadata": {},
   "outputs": [
    {
     "name": "stdout",
     "output_type": "stream",
     "text": [
      "baseball\n"
     ]
    }
   ],
   "source": [
    "# storing a list within a dictionary and accessing it\n",
    "data = {'sports':['baseball','hockey','basketball','soccer']}\n",
    "print( data['sports'][0] )"
   ]
  },
  {
   "cell_type": "code",
   "execution_count": 5,
   "id": "da7eb8f4",
   "metadata": {},
   "outputs": [
    {
     "name": "stdout",
     "output_type": "stream",
     "text": [
      "{'name': 'Kirsten'}\n",
      "Kirsten\n"
     ]
    }
   ],
   "source": [
    "# storing a dictionary within a list and accessing it\n",
    "data = ['John','dennis',{'name':\"Kirsten\"}]\n",
    "print( data[2] )\n",
    "print( data[2]['name'] )"
   ]
  },
  {
   "cell_type": "code",
   "execution_count": 6,
   "id": "fc0f2fb4",
   "metadata": {},
   "outputs": [
    {
     "name": "stdout",
     "output_type": "stream",
     "text": [
      "{'2018': 108, '2017': 93}\n",
      "108\n"
     ]
    }
   ],
   "source": [
    "# storing a dictionary within a dictionary and accessing it\n",
    "data = {\n",
    "    \"team\":\"Boston Red Sox\",\n",
    "    \"wins\":{'2018':108,'2017':93}\n",
    "}\n",
    "print( data['wins'] )\n",
    "print( data['wins']['2018'])"
   ]
  },
  {
   "cell_type": "markdown",
   "id": "0fbe7fad",
   "metadata": {},
   "source": [
    "#### Monday Exercises"
   ]
  },
  {
   "cell_type": "code",
   "execution_count": 8,
   "id": "f308018b",
   "metadata": {},
   "outputs": [
    {
     "name": "stdout",
     "output_type": "stream",
     "text": [
      "Please enter your name: John\n",
      "Please enter your age: 37\n",
      "{'name': 'John', 'age': 37}\n"
     ]
    }
   ],
   "source": [
    "# create a personal information dictionary\n",
    "def persInfo():\n",
    "    name = input( \"Please enter your name: \" )\n",
    "    age = input( \"Please enter your age: \" )\n",
    "    info = {'name':name,'age':int(age)}\n",
    "    print(info)\n",
    "\n",
    "persInfo()"
   ]
  },
  {
   "cell_type": "code",
   "execution_count": 10,
   "id": "a17b5312",
   "metadata": {},
   "outputs": [
    {
     "name": "stdout",
     "output_type": "stream",
     "text": [
      "cheese\n",
      "sausage\n",
      "peppers\n"
     ]
    }
   ],
   "source": [
    "# accessing ingredients\n",
    "pizza = { 'ingredients':['cheese','sausage','peppers'] }\n",
    "for j in range( len( pizza['ingredients'] ) ):\n",
    "    print( pizza['ingredients'][j] )"
   ]
  },
  {
   "cell_type": "markdown",
   "id": "c9d15c6d",
   "metadata": {},
   "source": [
    "#### Tuesday: Working With Dictionaries"
   ]
  },
  {
   "cell_type": "code",
   "execution_count": 11,
   "id": "5d4f5aea",
   "metadata": {},
   "outputs": [
    {
     "name": "stdout",
     "output_type": "stream",
     "text": [
      "Year: 2018\tColor: blue\n"
     ]
    }
   ],
   "source": [
    "# adding new key:value pairs to dictionaries\n",
    "car = { 'year':2018 }\n",
    "car['color'] = 'blue'\n",
    "print( \"Year: {}\\tColor: {}\".format(car['year'],car['color']) )"
   ]
  },
  {
   "cell_type": "code",
   "execution_count": 13,
   "id": "675a7c01",
   "metadata": {},
   "outputs": [
    {
     "name": "stdout",
     "output_type": "stream",
     "text": [
      "Year: 2018\tColor: red\n"
     ]
    }
   ],
   "source": [
    "# modifying key:value pairs in dictionaries\n",
    "car = {'year':2018,'color':'blue'}\n",
    "car['color'] = 'red'\n",
    "print( \"Year: {}\\tColor: {}\".format(car['year'],car['color']) )"
   ]
  },
  {
   "cell_type": "code",
   "execution_count": 14,
   "id": "99f8d15f",
   "metadata": {},
   "outputs": [
    {
     "name": "stdout",
     "output_type": "stream",
     "text": [
      "{}\n"
     ]
    }
   ],
   "source": [
    "# deleting a key:value pair in from a dictionary\n",
    "car = {'year':2018}\n",
    "try:\n",
    "    del car['year']\n",
    "    print( car )\n",
    "except:\n",
    "    print( \"That key does not exist.\" )"
   ]
  },
  {
   "cell_type": "code",
   "execution_count": 16,
   "id": "be94b70c",
   "metadata": {},
   "outputs": [
    {
     "name": "stdout",
     "output_type": "stream",
     "text": [
      "name\n",
      "John\n",
      "age\n",
      "24\n"
     ]
    }
   ],
   "source": [
    "# looping over a dictionary using keys\n",
    "person = {'name':'John','age':24}\n",
    "for key in person.keys():\n",
    "    print(key)\n",
    "    print(person[key])"
   ]
  },
  {
   "cell_type": "code",
   "execution_count": 17,
   "id": "6cad13f8",
   "metadata": {},
   "outputs": [
    {
     "name": "stdout",
     "output_type": "stream",
     "text": [
      "John\n",
      "24\n"
     ]
    }
   ],
   "source": [
    "# looping over a dictionay using values\n",
    "person = {'name':'John','age':24}\n",
    "for value in person.values():\n",
    "    print(value)"
   ]
  },
  {
   "cell_type": "code",
   "execution_count": 18,
   "id": "fcb6bfc9",
   "metadata": {},
   "outputs": [
    {
     "name": "stdout",
     "output_type": "stream",
     "text": [
      "name : John\n",
      "age : 26\n"
     ]
    }
   ],
   "source": [
    "# looping over a dictionary via the key:value pairs\n",
    "person = {'name':'John','age':26}\n",
    "for key,value in person.items():\n",
    "    print(\"{} : {}\".format(key,value) )"
   ]
  },
  {
   "cell_type": "markdown",
   "id": "0f0d7b81",
   "metadata": {},
   "source": [
    "#### Tuesday Exercises"
   ]
  },
  {
   "cell_type": "code",
   "execution_count": 20,
   "id": "9f6871f1",
   "metadata": {},
   "outputs": [
    {
     "name": "stdout",
     "output_type": "stream",
     "text": [
      "Enter your name: 衍达\n",
      "Enter your address: 台北\n",
      "Enter your phone number: 777-777-7777\n",
      "name : 衍达\n",
      "address : 台北\n",
      "number : 777-777-7777\n"
     ]
    }
   ],
   "source": [
    "# create user information dictionary\n",
    "def userInfo():\n",
    "    name = input( \"Enter your name: \" )\n",
    "    address = input( \"Enter your address: \" )\n",
    "    number = input( \"Enter your phone number: \" )\n",
    "    info = {'name':name,'address':address,'number':number}\n",
    "    for k,v in info.items():\n",
    "        print(\"{} : {}\".format(k,v) )\n",
    "\n",
    "userInfo()"
   ]
  },
  {
   "cell_type": "code",
   "execution_count": null,
   "id": "f47015b0",
   "metadata": {},
   "outputs": [],
   "source": []
  }
 ],
 "metadata": {
  "kernelspec": {
   "display_name": "Python 3 (ipykernel)",
   "language": "python",
   "name": "python3"
  },
  "language_info": {
   "codemirror_mode": {
    "name": "ipython",
    "version": 3
   },
   "file_extension": ".py",
   "mimetype": "text/x-python",
   "name": "python",
   "nbconvert_exporter": "python",
   "pygments_lexer": "ipython3",
   "version": "3.10.4"
  }
 },
 "nbformat": 4,
 "nbformat_minor": 5
}
