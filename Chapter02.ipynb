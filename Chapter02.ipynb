{
 "cells": [
  {
   "cell_type": "markdown",
   "id": "96986499",
   "metadata": {},
   "source": [
    "# Comments & Basic Data"
   ]
  },
  {
   "cell_type": "code",
   "execution_count": 1,
   "id": "4b6f16ee",
   "metadata": {},
   "outputs": [],
   "source": [
    "# this is a comment"
   ]
  },
  {
   "cell_type": "code",
   "execution_count": 2,
   "id": "1f598a22",
   "metadata": {},
   "outputs": [
    {
     "name": "stdout",
     "output_type": "stream",
     "text": [
      "Hello\n"
     ]
    }
   ],
   "source": [
    "print(\"Hello\") # this is also a comment"
   ]
  },
  {
   "cell_type": "code",
   "execution_count": 3,
   "id": "b663d4b9",
   "metadata": {},
   "outputs": [
    {
     "name": "stdout",
     "output_type": "stream",
     "text": [
      "Hello\n"
     ]
    }
   ],
   "source": [
    "\"\"\"\n",
    "    this is a multi-line comment\n",
    "\"\"\"\n",
    "print(\"Hello\") # this is also a comment"
   ]
  },
  {
   "cell_type": "markdown",
   "id": "d378825c",
   "metadata": {},
   "source": [
    "Integers"
   ]
  },
  {
   "cell_type": "code",
   "execution_count": 5,
   "id": "8ba61b50",
   "metadata": {},
   "outputs": [
    {
     "name": "stdout",
     "output_type": "stream",
     "text": [
      "2\n",
      "10\n"
     ]
    }
   ],
   "source": [
    "# the following are all integers\n",
    "print(2)\n",
    "print(10)"
   ]
  },
  {
   "cell_type": "markdown",
   "id": "382d03dc",
   "metadata": {},
   "source": [
    "Floats"
   ]
  },
  {
   "cell_type": "code",
   "execution_count": 6,
   "id": "8afadae9",
   "metadata": {},
   "outputs": [
    {
     "name": "stdout",
     "output_type": "stream",
     "text": [
      "10.953\n",
      "8.0\n"
     ]
    }
   ],
   "source": [
    "# the following are all floats\n",
    "print(10.953)\n",
    "print(8.0) # this is also a float"
   ]
  },
  {
   "cell_type": "markdown",
   "id": "123fa3ad",
   "metadata": {},
   "source": [
    "Booleans"
   ]
  },
  {
   "cell_type": "code",
   "execution_count": 7,
   "id": "44105f64",
   "metadata": {},
   "outputs": [
    {
     "name": "stdout",
     "output_type": "stream",
     "text": [
      "True\n",
      "False\n"
     ]
    }
   ],
   "source": [
    "# the following are all booleans\n",
    "print(True)\n",
    "print(False)"
   ]
  },
  {
   "cell_type": "markdown",
   "id": "44ed9ffe",
   "metadata": {},
   "source": [
    "Strings"
   ]
  },
  {
   "cell_type": "code",
   "execution_count": 8,
   "id": "da7ce24d",
   "metadata": {},
   "outputs": [
    {
     "name": "stdout",
     "output_type": "stream",
     "text": [
      "\n",
      "There's a snake in my boot!\n",
      "True\n"
     ]
    }
   ],
   "source": [
    "# the following are all strings\n",
    "print(\"\")\n",
    "print(\"There's a snake in my boot!\")\n",
    "print('True')"
   ]
  },
  {
   "cell_type": "markdown",
   "id": "5b964417",
   "metadata": {},
   "source": [
    "Monday Exercises"
   ]
  },
  {
   "cell_type": "code",
   "execution_count": 14,
   "id": "81b8b4ce",
   "metadata": {},
   "outputs": [
    {
     "name": "stdout",
     "output_type": "stream",
     "text": [
      "Adam Lecznar\n"
     ]
    },
    {
     "data": {
      "text/plain": [
       "float"
      ]
     },
     "execution_count": 14,
     "metadata": {},
     "output_type": "execute_result"
    }
   ],
   "source": [
    "print(\"Adam Lecznar\")\n",
    "type(37/3)"
   ]
  },
  {
   "cell_type": "markdown",
   "id": "f61e803f",
   "metadata": {},
   "source": [
    "Variables"
   ]
  },
  {
   "cell_type": "code",
   "execution_count": 15,
   "id": "1fa391e6",
   "metadata": {},
   "outputs": [
    {
     "name": "stdout",
     "output_type": "stream",
     "text": [
      "5 8.4\n"
     ]
    }
   ],
   "source": [
    "num1 = 5    # storing an integer into variable\n",
    "num2 = 8.4    # storing a float into a variable\n",
    "print(num1,num2)"
   ]
  },
  {
   "cell_type": "code",
   "execution_count": 17,
   "id": "d908109f",
   "metadata": {},
   "outputs": [
    {
     "name": "stdout",
     "output_type": "stream",
     "text": [
      "John Smith 9\n"
     ]
    }
   ],
   "source": [
    "# storing a boolean into a variable\n",
    "name = 'John Smith'\n",
    "fav_num = '9'\n",
    "print(name,fav_num)    # will print 9 next to the name"
   ]
  },
  {
   "cell_type": "code",
   "execution_count": 18,
   "id": "9433ce79",
   "metadata": {},
   "outputs": [
    {
     "name": "stdout",
     "output_type": "stream",
     "text": [
      "13.4\n"
     ]
    }
   ],
   "source": [
    "# using two variables to create a new variable\n",
    "result = num1 + num2\n",
    "print(result)"
   ]
  },
  {
   "cell_type": "code",
   "execution_count": 19,
   "id": "6cc10f37",
   "metadata": {},
   "outputs": [
    {
     "name": "stdout",
     "output_type": "stream",
     "text": [
      "14.4\n",
      "72.0\n"
     ]
    }
   ],
   "source": [
    "# adding, deleting, multiplying, and dividing from a variable\n",
    "result += 1    # the same as saying result = result + 1\n",
    "print(result)\n",
    "result *= num1    # the same as saying result = result * num1\n",
    "print(result)"
   ]
  },
  {
   "cell_type": "code",
   "execution_count": 20,
   "id": "2b6b74aa",
   "metadata": {},
   "outputs": [
    {
     "name": "stdout",
     "output_type": "stream",
     "text": [
      "John\n",
      "Sam\n"
     ]
    }
   ],
   "source": [
    "# defining a variable and overwriting its value\n",
    "name = 'John'\n",
    "print(name)\n",
    "name = 'Sam'\n",
    "print(name)"
   ]
  },
  {
   "cell_type": "markdown",
   "id": "b9571fce",
   "metadata": {},
   "source": [
    "Tuesday Exercises"
   ]
  },
  {
   "cell_type": "code",
   "execution_count": 21,
   "id": "3f4854e1",
   "metadata": {},
   "outputs": [
    {
     "name": "stdout",
     "output_type": "stream",
     "text": [
      "30\n",
      "3 + 10 = 13\n"
     ]
    }
   ],
   "source": [
    "x = 3\n",
    "y = 10\n",
    "result = x * y\n",
    "print(result)\n",
    "print(x,\"+\",y,\"=\",x + y)"
   ]
  },
  {
   "cell_type": "code",
   "execution_count": 26,
   "id": "84ae2d9c",
   "metadata": {},
   "outputs": [
    {
     "name": "stdout",
     "output_type": "stream",
     "text": [
      "3354.0764\n"
     ]
    }
   ],
   "source": [
    "leng = 245.54\n",
    "hgt = 13.66\n",
    "area = leng * hgt\n",
    "print(area)"
   ]
  },
  {
   "cell_type": "markdown",
   "id": "60511633",
   "metadata": {},
   "source": [
    "Working with Strings"
   ]
  },
  {
   "cell_type": "code",
   "execution_count": 27,
   "id": "4fd5e38b",
   "metadata": {},
   "outputs": [
    {
     "name": "stdout",
     "output_type": "stream",
     "text": [
      "John Smith\n"
     ]
    }
   ],
   "source": [
    "# using the addition operator without variables\n",
    "name = 'John' + \" \" + 'Smith'\n",
    "print(name)"
   ]
  },
  {
   "cell_type": "code",
   "execution_count": 28,
   "id": "170a3b20",
   "metadata": {},
   "outputs": [
    {
     "name": "stdout",
     "output_type": "stream",
     "text": [
      "John Smith\n"
     ]
    }
   ],
   "source": [
    "# using the addition operator with variables\n",
    "first_name = 'John'\n",
    "last_name = 'Smith'\n",
    "full_name = first_name + \" \" + last_name\n",
    "print(full_name)"
   ]
  },
  {
   "cell_type": "code",
   "execution_count": 34,
   "id": "4b29f51e",
   "metadata": {},
   "outputs": [
    {
     "name": "stdout",
     "output_type": "stream",
     "text": [
      "Hello John \n",
      "Hello John, you are 28 years old!\n"
     ]
    }
   ],
   "source": [
    "# injecting variables using the format method\n",
    "name = \"John\"\n",
    "print( \"Hello {} \".format(name))\n",
    "print( \"Hello {}, you are {} years old!\".format(name,28) )"
   ]
  },
  {
   "cell_type": "code",
   "execution_count": 36,
   "id": "f9e30d96",
   "metadata": {},
   "outputs": [
    {
     "name": "stdout",
     "output_type": "stream",
     "text": [
      "Hello John\n"
     ]
    }
   ],
   "source": [
    "# using the new f strings\n",
    "name = \"John\"\n",
    "print( f\"Hello {name}\")"
   ]
  },
  {
   "cell_type": "code",
   "execution_count": 37,
   "id": "9d5774e5",
   "metadata": {},
   "outputs": [
    {
     "name": "stdout",
     "output_type": "stream",
     "text": [
      "Hello John\n"
     ]
    }
   ],
   "source": [
    "# one major difference between python2 and python3\n",
    "name = \"John\"\n",
    "print(\"Hello %s\"%name)"
   ]
  },
  {
   "cell_type": "code",
   "execution_count": 39,
   "id": "a505d443",
   "metadata": {},
   "outputs": [
    {
     "name": "stdout",
     "output_type": "stream",
     "text": [
      "Hello John Smith\n"
     ]
    }
   ],
   "source": [
    "# python2 multiple variable formatting\n",
    "first_name = \"John\"\n",
    "last_name = \"Smith\"\n",
    "print(\"Hello %s %s\"%(first_name,last_name))\n",
    "    # surround the variables in parentheses"
   ]
  },
  {
   "cell_type": "code",
   "execution_count": 40,
   "id": "ede935dd",
   "metadata": {},
   "outputs": [
    {
     "name": "stdout",
     "output_type": "stream",
     "text": [
      "H\n",
      "e\n",
      "o\n"
     ]
    }
   ],
   "source": [
    "# using indexes to print out each element\n",
    "word = \"Hello\"\n",
    "print(word[ 0 ])    # will print out 'H'\n",
    "print(word[ 1 ])    # will print out 'e'\n",
    "print(word[ -1 ])    # will print out 'o'"
   ]
  },
  {
   "cell_type": "code",
   "execution_count": 42,
   "id": "ebdd1e11",
   "metadata": {},
   "outputs": [
    {
     "name": "stdout",
     "output_type": "stream",
     "text": [
      "He\n",
      "Hlo\n"
     ]
    }
   ],
   "source": [
    "print(word[ 0 : 2 ])    # will print out 'He'\n",
    "print(word[ 0 : 5 : 2 ])    # will print out 'Hl0'"
   ]
  },
  {
   "cell_type": "markdown",
   "id": "6a12630c",
   "metadata": {},
   "source": [
    "Wednesday Exercises"
   ]
  },
  {
   "cell_type": "code",
   "execution_count": 43,
   "id": "a48b4a5b",
   "metadata": {},
   "outputs": [
    {
     "name": "stdout",
     "output_type": "stream",
     "text": [
      "24 4.5 False John\n"
     ]
    }
   ],
   "source": [
    "intr = 24\n",
    "flt = 4.5\n",
    "boo = False\n",
    "name = \"John\"\n",
    "print(\"{} {} {} {}\".format(intr,flt,boo,name))"
   ]
  },
  {
   "cell_type": "code",
   "execution_count": 44,
   "id": "4b682a26",
   "metadata": {},
   "outputs": [
    {
     "name": "stdout",
     "output_type": "stream",
     "text": [
      "Adam's favorite sport is basketball\n",
      "Adam is working on python programming!\n"
     ]
    }
   ],
   "source": [
    "name = \"Adam\"\n",
    "sport = \"basketball\"\n",
    "program = \"python\"\n",
    "print(\"{}'s favorite sport is {}\".format(name,sport))\n",
    "print(f\"{name} is working on {program} programming!\")"
   ]
  },
  {
   "cell_type": "markdown",
   "id": "ac7146e1",
   "metadata": {},
   "source": [
    "Manipulating Strings"
   ]
  },
  {
   "cell_type": "code",
   "execution_count": 2,
   "id": "a3c0a126",
   "metadata": {},
   "outputs": [
    {
     "name": "stdout",
     "output_type": "stream",
     "text": [
      "John Smith\n",
      "JOHN SMITH\n",
      "john smith\n"
     ]
    }
   ],
   "source": [
    "# using the title method to capitalize a string\n",
    "name = 'john smith'\n",
    "print( name.title() )\n",
    "print( name.upper() )\n",
    "print( name.lower() )"
   ]
  },
  {
   "cell_type": "code",
   "execution_count": 3,
   "id": "f0b95483",
   "metadata": {},
   "outputs": [
    {
     "name": "stdout",
     "output_type": "stream",
     "text": [
      "Hello there.\n"
     ]
    }
   ],
   "source": [
    "# replacing an exclamation point with a period\n",
    "words = 'Hello there!'\n",
    "print( words.replace('!','.') )"
   ]
  },
  {
   "cell_type": "code",
   "execution_count": 5,
   "id": "baac8983",
   "metadata": {},
   "outputs": [
    {
     "name": "stdout",
     "output_type": "stream",
     "text": [
      "5\n"
     ]
    }
   ],
   "source": [
    "# finding the starting index of our searched term\n",
    "s = \"Look over that way\"\n",
    "print( s.find(\"over\") )"
   ]
  },
  {
   "cell_type": "code",
   "execution_count": 6,
   "id": "3a99ad55",
   "metadata": {},
   "outputs": [
    {
     "name": "stdout",
     "output_type": "stream",
     "text": [
      "john\n",
      "john   \n",
      "   john\n"
     ]
    }
   ],
   "source": [
    "# removing white space with strip\n",
    "name = \"   john   \"\n",
    "print( name.strip() )\n",
    "print( name.lstrip() )\n",
    "print( name.rstrip() )"
   ]
  },
  {
   "cell_type": "code",
   "execution_count": 8,
   "id": "a11888bb",
   "metadata": {},
   "outputs": [
    {
     "name": "stdout",
     "output_type": "stream",
     "text": [
      "['These', 'words', 'are', 'separated', 'by', 'spaces']\n"
     ]
    }
   ],
   "source": [
    "# converting a string into a list of words\n",
    "s = \"These words are separated by spaces\"\n",
    "print( s.split(\" \") )"
   ]
  },
  {
   "cell_type": "markdown",
   "id": "bc7f4155",
   "metadata": {},
   "source": [
    "Thursday Exercises"
   ]
  },
  {
   "cell_type": "code",
   "execution_count": 9,
   "id": "d38892bc",
   "metadata": {},
   "outputs": [
    {
     "name": "stdout",
     "output_type": "stream",
     "text": [
      "UPPERCASE\n",
      "John Smith\n",
      "John Smith\n"
     ]
    }
   ],
   "source": [
    "# Uppercasing\n",
    "upr = 'uppercase'\n",
    "print( upr.upper() )\n",
    "# Stripping\n",
    "name = \"$$John Smith\"\n",
    "print( name.lstrip(\"$\") )\n",
    "print( name.strip(\"$\") )"
   ]
  },
  {
   "cell_type": "markdown",
   "id": "385ef144",
   "metadata": {},
   "source": [
    "Friday Project: Printing Receipts"
   ]
  },
  {
   "cell_type": "code",
   "execution_count": 10,
   "id": "bc650dce",
   "metadata": {},
   "outputs": [],
   "source": [
    "# create a product and price for three items\n",
    "p1_name, p1_price = \"Books\", 49.95\n",
    "p2_name, p2_price = \"Computer\", 579.99\n",
    "p3_name, p3_price = \"Monitor\", 124.89\n",
    "\n",
    "# create a company name and information\n",
    "company_name = \"coding temple, inc.\"\n",
    "company_address = \"283 Franklin St.\"\n",
    "company_city = \"Boston, MA\"\n",
    "\n",
    "# declare ending message\n",
    "message = \"Thanks for shopping with us today!\""
   ]
  },
  {
   "cell_type": "code",
   "execution_count": 11,
   "id": "c2e1e879",
   "metadata": {},
   "outputs": [
    {
     "name": "stdout",
     "output_type": "stream",
     "text": [
      "**************************************************\n"
     ]
    }
   ],
   "source": [
    "# create the top border\n",
    "print(\"*\" * 50)"
   ]
  },
  {
   "cell_type": "code",
   "execution_count": 13,
   "id": "7606779a",
   "metadata": {},
   "outputs": [
    {
     "name": "stdout",
     "output_type": "stream",
     "text": [
      "\t\tCoding Temple, Inc.\n",
      "\t\t283 Franklin St.\n",
      "\t\tBoston, MA\n"
     ]
    }
   ],
   "source": [
    "# print company information first\n",
    "print( \"\\t\\t{}\".format( company_name.title() ) )\n",
    "print( \"\\t\\t{}\".format(company_address) )\n",
    "print( \"\\t\\t{}\".format(company_city) )"
   ]
  },
  {
   "cell_type": "code",
   "execution_count": 14,
   "id": "e131198d",
   "metadata": {},
   "outputs": [
    {
     "name": "stdout",
     "output_type": "stream",
     "text": [
      "==================================================\n"
     ]
    }
   ],
   "source": [
    "# print a line between sections\n",
    "print(\"=\" * 50)"
   ]
  },
  {
   "cell_type": "code",
   "execution_count": 15,
   "id": "379bc890",
   "metadata": {},
   "outputs": [
    {
     "name": "stdout",
     "output_type": "stream",
     "text": [
      "\tProduct Name\tProduct Price\n"
     ]
    }
   ],
   "source": [
    "# print out header for section of items\n",
    "print(\"\\tProduct Name\\tProduct Price\")"
   ]
  },
  {
   "cell_type": "code",
   "execution_count": 18,
   "id": "5fe4437f",
   "metadata": {},
   "outputs": [
    {
     "name": "stdout",
     "output_type": "stream",
     "text": [
      "\tBooks\t\t$49.95\n",
      "\tComputer\t$579.99\n",
      "\tMonitor\t\t$124.89\n"
     ]
    }
   ],
   "source": [
    "# create a print statement for each product\n",
    "print( \"\\t{}\\t\\t${}\".format(p1_name.title(),p1_price) )\n",
    "print( \"\\t{}\\t${}\".format(p2_name.title(),p2_price) )\n",
    "print( \"\\t{}\\t\\t${}\".format(p3_name.title(),p3_price) )"
   ]
  },
  {
   "cell_type": "code",
   "execution_count": 19,
   "id": "da77ee10",
   "metadata": {},
   "outputs": [
    {
     "name": "stdout",
     "output_type": "stream",
     "text": [
      "==================================================\n"
     ]
    }
   ],
   "source": [
    "# print a line between sections\n",
    "print(\"=\" * 50)"
   ]
  },
  {
   "cell_type": "code",
   "execution_count": 20,
   "id": "d4248db0",
   "metadata": {},
   "outputs": [
    {
     "name": "stdout",
     "output_type": "stream",
     "text": [
      "\t\t\tTotal\n"
     ]
    }
   ],
   "source": [
    "# print out header for section of total\n",
    "print(\"\\t\\t\\tTotal\")"
   ]
  },
  {
   "cell_type": "code",
   "execution_count": 22,
   "id": "df9fa8b7",
   "metadata": {},
   "outputs": [
    {
     "name": "stdout",
     "output_type": "stream",
     "text": [
      "\t\t\t754.83\n"
     ]
    }
   ],
   "source": [
    "# calculate the total price and print out\n",
    "total = p1_price + p2_price + p3_price\n",
    "print( \"\\t\\t\\t{}\".format(total) )"
   ]
  },
  {
   "cell_type": "code",
   "execution_count": 23,
   "id": "06e7b5e2",
   "metadata": {},
   "outputs": [
    {
     "name": "stdout",
     "output_type": "stream",
     "text": [
      "==================================================\n"
     ]
    }
   ],
   "source": [
    "# print a line between sections\n",
    "print(\"=\" * 50)"
   ]
  },
  {
   "cell_type": "code",
   "execution_count": 24,
   "id": "24c83580",
   "metadata": {},
   "outputs": [
    {
     "name": "stdout",
     "output_type": "stream",
     "text": [
      "\n",
      "\tThanks for shopping with us today!\n",
      "\n"
     ]
    }
   ],
   "source": [
    "# output thank you message\n",
    "print( \"\\n\\t{}\\n\".format(message) )"
   ]
  },
  {
   "cell_type": "code",
   "execution_count": 25,
   "id": "8cfab32b",
   "metadata": {},
   "outputs": [
    {
     "name": "stdout",
     "output_type": "stream",
     "text": [
      "**************************************************\n"
     ]
    }
   ],
   "source": [
    "# print bottom border\n",
    "print(\"*\" * 50)"
   ]
  },
  {
   "cell_type": "markdown",
   "id": "5679a6bc",
   "metadata": {},
   "source": [
    "Weekly Exercises"
   ]
  },
  {
   "cell_type": "code",
   "execution_count": 48,
   "id": "59ea75e1",
   "metadata": {},
   "outputs": [
    {
     "name": "stdout",
     "output_type": "stream",
     "text": [
      "**************************************************\n",
      "*\t\tCoding Temple, Inc.\t\t *\n",
      "*\t\t283 Franklin St.\t\t *\n",
      "*\t\tBoston, MA\t\t\t *\n",
      "*================================================*\n",
      "*\tBooks\t\t$49.95\t\t\t *\n",
      "*\tComputer\t$579.99\t\t\t *\n",
      "*\tMonitor\t\t$124.89\t\t\t *\n",
      "*================================================*\n",
      "*\t\t\tTotal\t\t\t *\n",
      "*\t\t\t$754.83\t\t\t *\n",
      "*================================================*\n",
      "*\t\t\t\t\t\t *\n",
      "*\tThanks for shopping with us today!\t *\n",
      "*\t\t\t\t\t\t *\n",
      "**************************************************\n"
     ]
    }
   ],
   "source": [
    "# create a product and price for three items\n",
    "p1_name, p1_price = \"Books\", 49.95\n",
    "p2_name, p2_price = \"Computer\", 579.99\n",
    "p3_name, p3_price = \"Monitor\", 124.89\n",
    "\n",
    "# create a company name and information\n",
    "company_name = \"coding temple, inc.\"\n",
    "company_address = \"283 Franklin St.\"\n",
    "company_city = \"Boston, MA\"\n",
    "\n",
    "# declare ending message\n",
    "message = \"Thanks for shopping with us today!\"\n",
    "\n",
    "# create the top border\n",
    "print(\"*\" * 50)\n",
    "\n",
    "# print company information first\n",
    "print( \"*\\t\\t{}\\t\\t *\".format( company_name.title() ) )\n",
    "print( \"*\\t\\t{}\\t\\t *\".format(company_address) )\n",
    "print( \"*\\t\\t{}\\t\\t\\t *\".format(company_city) )\n",
    "\n",
    "# print a line between sections\n",
    "print(\"*\" + \"=\" * 48 + \"*\")\n",
    "\n",
    "# create a print statement for each product\n",
    "print( \"*\\t{}\\t\\t${}\\t\\t\\t *\".format(p1_name.title(),p1_price) )\n",
    "print( \"*\\t{}\\t${}\\t\\t\\t *\".format(p2_name.title(),p2_price) )\n",
    "print( \"*\\t{}\\t\\t${}\\t\\t\\t *\".format(p3_name.title(),p3_price) )\n",
    "\n",
    "# print a line between sections\n",
    "print(\"*\" + \"=\" * 48 + \"*\")\n",
    "\n",
    "# print out header for section of total\n",
    "print(\"*\\t\\t\\tTotal\\t\\t\\t *\")\n",
    "\n",
    "# calculate the total price and print out\n",
    "total = p1_price + p2_price + p3_price\n",
    "print( \"*\\t\\t\\t${}\\t\\t\\t *\".format(total) )\n",
    "\n",
    "# print a line between sections\n",
    "print(\"*\" + \"=\" * 48 + \"*\")\n",
    "\n",
    "# output thank you message\n",
    "print( \"*\" + \"\\t\" * 6 + \" *\" + \n",
    "           \"\\n*\\t{}\\t *\".format(message) + \n",
    "           \"\\n*\" + \"\\t\" * 6 + \" *\" )\n",
    "\n",
    "# print bottom border\n",
    "print(\"*\" * 50)"
   ]
  },
  {
   "cell_type": "code",
   "execution_count": 59,
   "id": "2a6a137a",
   "metadata": {
    "scrolled": true
   },
   "outputs": [
    {
     "name": "stdout",
     "output_type": "stream",
     "text": [
      "olleH\n"
     ]
    }
   ],
   "source": [
    "s = 'Hello'\n",
    "print(s[::-1])"
   ]
  },
  {
   "cell_type": "code",
   "execution_count": null,
   "id": "d793d699",
   "metadata": {},
   "outputs": [],
   "source": []
  }
 ],
 "metadata": {
  "kernelspec": {
   "display_name": "Python 3 (ipykernel)",
   "language": "python",
   "name": "python3"
  },
  "language_info": {
   "codemirror_mode": {
    "name": "ipython",
    "version": 3
   },
   "file_extension": ".py",
   "mimetype": "text/x-python",
   "name": "python",
   "nbconvert_exporter": "python",
   "pygments_lexer": "ipython3",
   "version": "3.10.4"
  }
 },
 "nbformat": 4,
 "nbformat_minor": 5
}
