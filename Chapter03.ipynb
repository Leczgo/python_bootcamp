{
 "cells": [
  {
   "cell_type": "markdown",
   "id": "b59105f4",
   "metadata": {},
   "source": [
    "User Input & Type Converting"
   ]
  },
  {
   "cell_type": "code",
   "execution_count": 1,
   "id": "bbe1f949",
   "metadata": {},
   "outputs": [
    {
     "name": "stdout",
     "output_type": "stream",
     "text": [
      "What is your name?Adam\n",
      "Adam\n"
     ]
    }
   ],
   "source": [
    "# accepting & outputting user input\n",
    "print( input(\"What is your name?\") )"
   ]
  },
  {
   "cell_type": "code",
   "execution_count": 2,
   "id": "8a128fe6",
   "metadata": {},
   "outputs": [
    {
     "name": "stdout",
     "output_type": "stream",
     "text": [
      "What is your name?Adam\n",
      "Hello, Adam!\n"
     ]
    }
   ],
   "source": [
    "# saving what the user inputs\n",
    "ans = input(\"What is your name?\")\n",
    "print(\"Hello, {}!\".format(ans))"
   ]
  },
  {
   "cell_type": "code",
   "execution_count": 4,
   "id": "a47874e3",
   "metadata": {},
   "outputs": [
    {
     "name": "stdout",
     "output_type": "stream",
     "text": [
      "<class 'int'>\n"
     ]
    }
   ],
   "source": [
    "# how to check the data type of a variable\n",
    "num = 5\n",
    "print( type(num) )"
   ]
  },
  {
   "cell_type": "code",
   "execution_count": 6,
   "id": "156bb4e2",
   "metadata": {},
   "outputs": [
    {
     "name": "stdout",
     "output_type": "stream",
     "text": [
      "<class 'int'>\n"
     ]
    }
   ],
   "source": [
    "# converting a variable from one type to another\n",
    "num = \"9\"\n",
    "num = int(num) # redeclaring num to store an integer\n",
    "print( type(num) ) # checking the type to make sure the conversion worked"
   ]
  },
  {
   "cell_type": "code",
   "execution_count": 7,
   "id": "c9f02d4c",
   "metadata": {},
   "outputs": [
    {
     "name": "stdout",
     "output_type": "stream",
     "text": [
      "Type a number to add:99\n",
      "<class 'str'>\n",
      "100 + 99 = 199\n"
     ]
    }
   ],
   "source": [
    "# working with user input to perform calculations\n",
    "ans = input(\"Type a number to add:\")\n",
    "print( type(ans) ) # default type is string; must convert\n",
    "result = 100 + int(ans)\n",
    "print( \"100 + {} = {}\".format(ans,result) )"
   ]
  },
  {
   "cell_type": "code",
   "execution_count": 10,
   "id": "a4746429",
   "metadata": {},
   "outputs": [
    {
     "name": "stdout",
     "output_type": "stream",
     "text": [
      "Type a number to add:36\n",
      "100 + 36.0 = 136.0\n",
      "The program did not break!\n"
     ]
    }
   ],
   "source": [
    "# using the try and except blocks\n",
    "try:\n",
    "    ans = float( input(\"Type a number to add:\") )\n",
    "    print( \"100 + {} = {}\".format(ans,100 + ans) )\n",
    "except:\n",
    "    print( \"You did not input a valid number!\" )\n",
    "# without try/except the print statment would not get hit if errors were present\n",
    "print( \"The program did not break!\" )"
   ]
  },
  {
   "cell_type": "markdown",
   "id": "b43fa2af",
   "metadata": {},
   "source": [
    "Monday Exercises"
   ]
  },
  {
   "cell_type": "code",
   "execution_count": 11,
   "id": "23b927e8",
   "metadata": {},
   "outputs": [
    {
     "name": "stdout",
     "output_type": "stream",
     "text": [
      "<class 'bool'>\n"
     ]
    }
   ],
   "source": [
    "# converting boolean\n",
    "boo = 'True'\n",
    "boo = bool(boo)\n",
    "print( type(boo) )"
   ]
  },
  {
   "cell_type": "code",
   "execution_count": 12,
   "id": "57fe7b29",
   "metadata": {},
   "outputs": [
    {
     "name": "stdout",
     "output_type": "stream",
     "text": [
      "Enter a number:9\n",
      "Enter another number:13\n",
      "The sum of 9 and 13 is 22!\n"
     ]
    }
   ],
   "source": [
    "# calculating input numbers\n",
    "num1 = input( \"Enter a number:\" )\n",
    "num2 = input( \"Enter another number:\" )\n",
    "try:\n",
    "    result = int(num1) + int(num2)\n",
    "    print( f\"The sum of {num1} and {num2} is {result}!\" )\n",
    "except:\n",
    "    print( \"One or both of the numbers you entered is invalid. Try again!\")"
   ]
  },
  {
   "cell_type": "code",
   "execution_count": 13,
   "id": "76071233",
   "metadata": {},
   "outputs": [
    {
     "name": "stdout",
     "output_type": "stream",
     "text": [
      "Enter the year that your car was built:2008\n",
      "Enter the make of your car:Dodge\n",
      "Enter the model of your car:Grand Caravan\n",
      "Enter the color of your car:White\n",
      "You drive a 2008 White Dodge Grand Caravan vehicle\n"
     ]
    }
   ],
   "source": [
    "# print out entered car information\n",
    "yr = input(\"Enter the year that your car was built:\")\n",
    "make = input(\"Enter the make of your car:\")\n",
    "model = input(\"Enter the model of your car:\")\n",
    "colr = input(\"Enter the color of your car:\")\n",
    "print(f\"You drive a {yr} {colr} {make} {model}.\")"
   ]
  },
  {
   "cell_type": "markdown",
   "id": "4ab70469",
   "metadata": {},
   "source": [
    "If Statements"
   ]
  },
  {
   "cell_type": "code",
   "execution_count": 1,
   "id": "920ba983",
   "metadata": {},
   "outputs": [
    {
     "name": "stdout",
     "output_type": "stream",
     "text": [
      "x is less than y\n"
     ]
    }
   ],
   "source": [
    "# using an if statement to only run code if the condition is met\n",
    "x,y = 5,10\n",
    "if x < y:\n",
    "    print(\"x is less than y\")"
   ]
  },
  {
   "cell_type": "code",
   "execution_count": 3,
   "id": "900324be",
   "metadata": {},
   "outputs": [
    {
     "name": "stdout",
     "output_type": "stream",
     "text": [
      "What is 5 + 5?10\n",
      "You got it right!\n"
     ]
    }
   ],
   "source": [
    "# checking user input\n",
    "ans = int( input( \"What is 5 + 5?\" ) )\n",
    "if ans == 10:\n",
    "    print( \"You got it right!\" )"
   ]
  },
  {
   "cell_type": "code",
   "execution_count": 4,
   "id": "a42ad3f1",
   "metadata": {},
   "outputs": [
    {
     "name": "stdout",
     "output_type": "stream",
     "text": [
      "Both statments were true\n"
     ]
    }
   ],
   "source": [
    "# using the keyword 'and' in an if statement\n",
    "x, y, z = 5, 10, 5\n",
    "if x < y and x == z:\n",
    "    print( \"Both statments were true\" )"
   ]
  },
  {
   "cell_type": "code",
   "execution_count": 5,
   "id": "f6bfabdb",
   "metadata": {},
   "outputs": [
    {
     "name": "stdout",
     "output_type": "stream",
     "text": [
      "One or both statements were true\n"
     ]
    }
   ],
   "source": [
    "# using the keyword 'or' in an if statement\n",
    "x, y, z = 5, 10, 5\n",
    "if x < y or x != z:\n",
    "    print( \"One or both statements were true\" )"
   ]
  },
  {
   "cell_type": "code",
   "execution_count": 6,
   "id": "4d211559",
   "metadata": {},
   "outputs": [
    {
     "name": "stdout",
     "output_type": "stream",
     "text": [
      "Flag is False\n"
     ]
    }
   ],
   "source": [
    "# using the 'not' keyword in an if statement\n",
    "flag = False\n",
    "if not flag:\n",
    "    print( \"Flag is False\" )"
   ]
  },
  {
   "cell_type": "code",
   "execution_count": 7,
   "id": "aaf1485d",
   "metadata": {},
   "outputs": [
    {
     "name": "stdout",
     "output_type": "stream",
     "text": [
      "baseball contains the character 'b'\n"
     ]
    }
   ],
   "source": [
    "# using the 'in' keyword in an if statment\n",
    "word = 'baseball'\n",
    "if \"b\" in word:\n",
    "    print( \"{} contains the character 'b'\".format(word) )"
   ]
  },
  {
   "cell_type": "code",
   "execution_count": 8,
   "id": "c6fb9b8d",
   "metadata": {},
   "outputs": [
    {
     "name": "stdout",
     "output_type": "stream",
     "text": [
      "Baseball does not contain the character 'x'\n"
     ]
    }
   ],
   "source": [
    "# using the 'not in' keyword in an if statement\n",
    "word = \"Baseball\"\n",
    "if \"x\" not in word:\n",
    "    print( \"{} does not contain the character 'x'\".format(word) )"
   ]
  },
  {
   "cell_type": "markdown",
   "id": "5eaca799",
   "metadata": {},
   "source": [
    "Tuesday Exercises"
   ]
  },
  {
   "cell_type": "code",
   "execution_count": 10,
   "id": "db612a92",
   "metadata": {},
   "outputs": [
    {
     "name": "stdout",
     "output_type": "stream",
     "text": [
      "Enter a word:Apples\n",
      "Apples contains the string 'es'\n"
     ]
    }
   ],
   "source": [
    "# checking Inclusion Part 1\n",
    "word = input(\"Enter a word:\")\n",
    "if \"es\" in word:\n",
    "    print( \"{} contains the string 'es'\".format(word) )"
   ]
  },
  {
   "cell_type": "code",
   "execution_count": 19,
   "id": "b792fd9e",
   "metadata": {},
   "outputs": [
    {
     "name": "stdout",
     "output_type": "stream",
     "text": [
      "Enter a word:slicing\n",
      "ing contains the string 'ing'\n"
     ]
    }
   ],
   "source": [
    "# checking Inclusion Part 2\n",
    "word = input( \"Enter a word:\" )\n",
    "word = word[-3:]\n",
    "if 'ing' in word:\n",
    "    print( \"{} contains the string 'ing'\".format(word) )"
   ]
  },
  {
   "cell_type": "code",
   "execution_count": 23,
   "id": "09543dc5",
   "metadata": {},
   "outputs": [
    {
     "name": "stdout",
     "output_type": "stream",
     "text": [
      "Enter a word:fish\n",
      "Enter another word:Fish\n",
      "The two words are the same\n"
     ]
    }
   ],
   "source": [
    "# Checking equality\n",
    "word1 = input(\"Enter a word:\").lower()\n",
    "word2 = input(\"Enter another word:\").lower()\n",
    "if word1 == word2:\n",
    "    print( \"The two words are the same\" )"
   ]
  },
  {
   "cell_type": "code",
   "execution_count": 25,
   "id": "51cebbbd",
   "metadata": {},
   "outputs": [
    {
     "name": "stdout",
     "output_type": "stream",
     "text": [
      "Enter a number:4\n",
      "16\n"
     ]
    }
   ],
   "source": [
    "# Returning Exponents\n",
    "ent = int( input( \"Enter a number:\" ) )\n",
    "if ent < 10:\n",
    "    print(ent**2)"
   ]
  },
  {
   "cell_type": "markdown",
   "id": "1bc3832e",
   "metadata": {},
   "source": [
    "Elif Statements"
   ]
  },
  {
   "cell_type": "code",
   "execution_count": 3,
   "id": "be3409f4",
   "metadata": {},
   "outputs": [
    {
     "name": "stdout",
     "output_type": "stream",
     "text": [
      "equal\n"
     ]
    }
   ],
   "source": [
    "# using the Elif conditional statement\n",
    "x, y = 5, 10\n",
    "if (x > y):\n",
    "    print( \"x is greater than y\" )\n",
    "elif (x + 10 < y):\n",
    "    print( \"x is less\" )    # checking if 15 is less than 10 \n",
    "elif (x + 5 == 10):\n",
    "    print( \"equal\" )    # checking if 10 is equal to 10"
   ]
  },
  {
   "cell_type": "code",
   "execution_count": 4,
   "id": "73077de8",
   "metadata": {},
   "outputs": [
    {
     "name": "stdout",
     "output_type": "stream",
     "text": [
      "x is equal to z\n"
     ]
    }
   ],
   "source": [
    "# writing multiple levels withing each other - multiple block levels\n",
    "x, y, z = 5, 10, 5\n",
    "if x > y:\n",
    "    print( \"greater\" )\n",
    "elif x <= y:\n",
    "    if x == z:\n",
    "        print( \"x is equal to z\" )    # resulting output\n",
    "    elif x != z:\n",
    "        print( \"x is not equal to z\" )    # won't get hit"
   ]
  },
  {
   "cell_type": "code",
   "execution_count": 5,
   "id": "26d19afa",
   "metadata": {},
   "outputs": [
    {
     "name": "stdout",
     "output_type": "stream",
     "text": [
      "x is less\n",
      "x is equal\n"
     ]
    }
   ],
   "source": [
    "# testing output of two if statments in a row that are both true\n",
    "x, y, z = 5, 10, 5\n",
    "if x < y:\n",
    "    print( \"x is less\" )\n",
    "if x == z:\n",
    "    print( \"x is equal\" )"
   ]
  },
  {
   "cell_type": "code",
   "execution_count": 6,
   "id": "5ded9d06",
   "metadata": {},
   "outputs": [
    {
     "name": "stdout",
     "output_type": "stream",
     "text": [
      "x is less\n"
     ]
    }
   ],
   "source": [
    "# testing output of an if and elif statement that are both true\n",
    "x, y, z = 5, 10, 5\n",
    "if x < y:\n",
    "    print( \"x is less\" )\n",
    "elif x == z:\n",
    "    print( \"x is equal to z\" )"
   ]
  },
  {
   "cell_type": "markdown",
   "id": "30dc3d48",
   "metadata": {},
   "source": [
    "Wednesday Exercises"
   ]
  },
  {
   "cell_type": "code",
   "execution_count": 9,
   "id": "1dfc6f55",
   "metadata": {},
   "outputs": [
    {
     "name": "stdout",
     "output_type": "stream",
     "text": [
      "Enter a number:100\n"
     ]
    }
   ],
   "source": [
    "# Higher/Lower\n",
    "s = int( input(\"Enter a number:\") )\n",
    "if s > 100:\n",
    "    print( \"The number is greater than 100!\" )\n",
    "elif s < 100:\n",
    "    print( \"The number is less than 100!\" )"
   ]
  },
  {
   "cell_type": "code",
   "execution_count": 10,
   "id": "b0a68c3b",
   "metadata": {},
   "outputs": [
    {
     "name": "stdout",
     "output_type": "stream",
     "text": [
      "lower\n"
     ]
    }
   ],
   "source": [
    "# Find the solution\n",
    "x, y = 5, 10\n",
    "if x > y:\n",
    "    print( \"greater\" )\n",
    "elif x < y:\n",
    "    print( \"lower\" )"
   ]
  },
  {
   "cell_type": "markdown",
   "id": "a323c97b",
   "metadata": {},
   "source": [
    "Else Statements"
   ]
  },
  {
   "cell_type": "code",
   "execution_count": 12,
   "id": "a406df6e",
   "metadata": {},
   "outputs": [
    {
     "name": "stdout",
     "output_type": "stream",
     "text": [
      "Hello John!\n"
     ]
    }
   ],
   "source": [
    "# using an Else statement\n",
    "name = 'John'\n",
    "if name == \"Jacob\":\n",
    "    print( \"Hello Jacob!\" )\n",
    "else:\n",
    "    print(\"Hello {}!\".format(name) )"
   ]
  },
  {
   "cell_type": "code",
   "execution_count": 13,
   "id": "b3cc84db",
   "metadata": {},
   "outputs": [
    {
     "name": "stdout",
     "output_type": "stream",
     "text": [
      "Name starts with a 'J'\n"
     ]
    }
   ],
   "source": [
    "# writing a full conditional statement with If, Elif, and Else\n",
    "name = \"John\"\n",
    "if name[0] == \"A\":\n",
    "    print( \"Name starts with an 'A'\" )\n",
    "elif name[0] == \"B\":\n",
    "    print( \"Name starts with a 'B'\" )\n",
    "elif name[0] == \"J\":\n",
    "    print( \"Name starts with a 'J'\" )\n",
    "else:                                   # covers all possibilities\n",
    "    print( \"Name starts with '{}'\".format(name[0]) )"
   ]
  },
  {
   "cell_type": "markdown",
   "id": "36214d24",
   "metadata": {},
   "source": [
    "Thursday Exercises"
   ]
  },
  {
   "cell_type": "code",
   "execution_count": 14,
   "id": "9c4b3782",
   "metadata": {},
   "outputs": [
    {
     "name": "stdout",
     "output_type": "stream",
     "text": [
      "Hello John!\n"
     ]
    }
   ],
   "source": [
    "# Fix the errors\n",
    "name = 'John'\n",
    "if name == \"Jacob\":\n",
    "    print( \"Hello Jacob!\" )\n",
    "else:\n",
    "    print( \"Hello {}!\".format(name) )"
   ]
  },
  {
   "cell_type": "code",
   "execution_count": 17,
   "id": "6331e062",
   "metadata": {},
   "outputs": [
    {
     "name": "stdout",
     "output_type": "stream",
     "text": [
      "Enter a time (in military format) without a semicolon:1800\n",
      "Good Evening\n"
     ]
    }
   ],
   "source": [
    "# User input - clock\n",
    "time = int( input( \"Enter a time (in military format) without a semicolon:\" ) )\n",
    "if time < 1200:\n",
    "    print( \"Good morning\" )\n",
    "elif time >= 1700:\n",
    "    print( \"Good Evening\" )\n",
    "else:\n",
    "    print( \"Good Afternoon\" )"
   ]
  },
  {
   "cell_type": "markdown",
   "id": "dd316e5a",
   "metadata": {},
   "source": [
    "Friday Project: Creating a Calculator"
   ]
  },
  {
   "cell_type": "code",
   "execution_count": 2,
   "id": "e3345212",
   "metadata": {},
   "outputs": [
    {
     "name": "stdout",
     "output_type": "stream",
     "text": [
      "Would you like to add/subtract/multiple/divide?add\n",
      "You chose add.\n"
     ]
    }
   ],
   "source": [
    "# step 1: ask user to for calculation to be performed\n",
    "operation = input( \"Would you like to add/subtract/multiple/divide?\").lower()\n",
    "print( \"You chose {}.\".format(operation) )    # for testing purposes"
   ]
  },
  {
   "cell_type": "code",
   "execution_count": 3,
   "id": "0e617f23",
   "metadata": {},
   "outputs": [
    {
     "name": "stdout",
     "output_type": "stream",
     "text": [
      "What is the first number?2\n",
      "What is the second number?5\n",
      "First number: 2\n",
      "Second number: 5\n"
     ]
    }
   ],
   "source": [
    "# Step 2: ask for numbers, alert order matters\n",
    "if operation == \"subtract\" or operation == \"divide\":\n",
    "    print( \"You chose {}.\".format(operation) )\n",
    "    print( \"Please keep in mind that the order of your numbers matter.\" )\n",
    "num1 = input( \"What is the first number?\" )\n",
    "num2 = input( \"What is the second number?\" )\n",
    "print( \"First number: {}\".format(num1) )    # for testing purposes\n",
    "print( \"Second number: {}\".format(num2) )    # for testing purposes"
   ]
  },
  {
   "cell_type": "code",
   "execution_count": 6,
   "id": "9b79b378",
   "metadata": {},
   "outputs": [
    {
     "name": "stdout",
     "output_type": "stream",
     "text": [
      "2.0 + 5.0 = 7.0\n"
     ]
    }
   ],
   "source": [
    "# step 3: setup try/except for mathematical operation\n",
    "try:\n",
    "    # step 3a: immediately try to convert numbers input to floats\n",
    "    num1, num2 = float(num1),float(num2)\n",
    "    # step 3b: perform operation and print result\n",
    "    if operation == \"add\":\n",
    "        result = num1 + num2\n",
    "        print( f\"{num1} + {num2} = {result}\" )\n",
    "    elif operation == \"subtract\":\n",
    "        result = num1 - num2\n",
    "        print( f\"{num1} - {num2} = {result}\" )\n",
    "    elif operation == \"multiply\":\n",
    "        result = num1 * num2\n",
    "        print( f\"{num1} * {num2} = {result}\" )\n",
    "    elif operation == \"divide\":\n",
    "        result = num1 / num2\n",
    "        print( f\"{num1} / {num2} = {result}\" )\n",
    "    else:\n",
    "            # else will hit if they didn't choose an option correctly\n",
    "        print( \"Sorry, ,but '{}' is not an option.\".format(operation) )\n",
    "except:\n",
    "    #step 3c: print error\n",
    "    print( \"Error: Improper numbers used. Please try again.\" )"
   ]
  },
  {
   "cell_type": "code",
   "execution_count": 7,
   "id": "34db9d60",
   "metadata": {},
   "outputs": [
    {
     "name": "stdout",
     "output_type": "stream",
     "text": [
      "Would you like to add/subtract/multiple/divide?multiply\n",
      "What is the first number?9\n",
      "What is the second number?9\n",
      "9.0 * 9.0 = 81.0\n"
     ]
    }
   ],
   "source": [
    "# step 1: ask user to for calculation to be performed\n",
    "operation = input( \"Would you like to add/subtract/multiple/divide?\").lower()\n",
    "\n",
    "# Step 2: ask for numbers, alert order matters\n",
    "if operation == \"subtract\" or operation == \"divide\":\n",
    "    print( \"You chose {}.\".format(operation) )\n",
    "    print( \"Please keep in mind that the order of your numbers matter.\" )\n",
    "num1 = input( \"What is the first number?\" )\n",
    "num2 = input( \"What is the second number?\" )\n",
    "\n",
    "# step 3: setup try/except for mathematical operation\n",
    "try:\n",
    "    # step 3a: immediately try to convert numbers input to floats\n",
    "    num1, num2 = float(num1),float(num2)\n",
    "    # step 3b: perform operation and print result\n",
    "    if operation == \"add\":\n",
    "        result = num1 + num2\n",
    "        print( f\"{num1} + {num2} = {result}\" )\n",
    "    elif operation == \"subtract\":\n",
    "        result = num1 - num2\n",
    "        print( f\"{num1} - {num2} = {result}\" )\n",
    "    elif operation == \"multiply\":\n",
    "        result = num1 * num2\n",
    "        print( f\"{num1} * {num2} = {result}\" )\n",
    "    elif operation == \"divide\":\n",
    "        result = num1 / num2\n",
    "        print( f\"{num1} / {num2} = {result}\" )\n",
    "    else:\n",
    "            # else will hit if they didn't choose an option correctly\n",
    "        print( \"Sorry, ,but '{}' is not an option.\".format(operation) )\n",
    "except:\n",
    "    #step 3c: print error\n",
    "    print( \"Error: Improper numbers used. Please try again.\" )"
   ]
  },
  {
   "cell_type": "code",
   "execution_count": null,
   "id": "24845013",
   "metadata": {},
   "outputs": [],
   "source": []
  }
 ],
 "metadata": {
  "kernelspec": {
   "display_name": "Python 3 (ipykernel)",
   "language": "python",
   "name": "python3"
  },
  "language_info": {
   "codemirror_mode": {
    "name": "ipython",
    "version": 3
   },
   "file_extension": ".py",
   "mimetype": "text/x-python",
   "name": "python",
   "nbconvert_exporter": "python",
   "pygments_lexer": "ipython3",
   "version": "3.9.2"
  }
 },
 "nbformat": 4,
 "nbformat_minor": 5
}
