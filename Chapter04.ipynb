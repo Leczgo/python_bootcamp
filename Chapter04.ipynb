{
 "cells": [
  {
   "cell_type": "markdown",
   "id": "3fb81ce4",
   "metadata": {},
   "source": [
    "## Lists"
   ]
  },
  {
   "cell_type": "code",
   "execution_count": 2,
   "id": "31ce555d",
   "metadata": {},
   "outputs": [
    {
     "name": "stdout",
     "output_type": "stream",
     "text": [
      "[5, 10, 15.2, 20]\n"
     ]
    }
   ],
   "source": [
    "# declaring a list of numbers\n",
    "nums = [5, 10, 15.2, 20]\n",
    "print(nums)"
   ]
  },
  {
   "cell_type": "code",
   "execution_count": 3,
   "id": "5fe638bc",
   "metadata": {},
   "outputs": [
    {
     "name": "stdout",
     "output_type": "stream",
     "text": [
      "10\n",
      "15.2\n"
     ]
    }
   ],
   "source": [
    "# accessing elements within a list\n",
    "print( nums[1] )    # will output the value 2 into num\n",
    "num = nums[2]    # saves index value 2 into num\n",
    "print( num )    # prints value assigned to num"
   ]
  },
  {
   "cell_type": "code",
   "execution_count": 4,
   "id": "6a64365f",
   "metadata": {},
   "outputs": [
    {
     "name": "stdout",
     "output_type": "stream",
     "text": [
      "[4.3, 'word', True]\n"
     ]
    }
   ],
   "source": [
    "# declaring a list of mixed data types\n",
    "num = 4.3\n",
    "data = [num, \"word\", True]    # the power of data collection\n",
    "print( data )"
   ]
  },
  {
   "cell_type": "code",
   "execution_count": 5,
   "id": "95ba5256",
   "metadata": {},
   "outputs": [
    {
     "name": "stdout",
     "output_type": "stream",
     "text": [
      "[5, 'book', [34, 'hello'], True]\n",
      "[34, 'hello']\n"
     ]
    }
   ],
   "source": [
    "# understanding lists within lists\n",
    "data = [5, \"book\", [34, \"hello\"], True]    # lists can hold any type\n",
    "print( data )\n",
    "print( data[2] )"
   ]
  },
  {
   "cell_type": "code",
   "execution_count": 7,
   "id": "949036ed",
   "metadata": {},
   "outputs": [
    {
     "name": "stdout",
     "output_type": "stream",
     "text": [
      "34\n",
      "hello\n",
      "o\n"
     ]
    }
   ],
   "source": [
    "# using repeated bracket notation to access lists within lists\n",
    "print( data[2][0] )    # will output 34\n",
    "inner_list = data[2]    # inner list will equal [34, 'hello']\n",
    "print( inner_list[1] )    # will output 'hello'\n",
    "print( data[1][1] )    # will output 'o'"
   ]
  },
  {
   "cell_type": "code",
   "execution_count": 8,
   "id": "d3680532",
   "metadata": {},
   "outputs": [
    {
     "name": "stdout",
     "output_type": "stream",
     "text": [
      "[5, 10, 15, 20]\n",
      "[100, 10, 15, 20]\n"
     ]
    }
   ],
   "source": [
    "# changing values in a list through index\n",
    "data = [5,10,15,20]\n",
    "print( data )\n",
    "data[0] = 100    # change the value at index 0 - (5 to 100)\n",
    "print( data )"
   ]
  },
  {
   "cell_type": "code",
   "execution_count": 9,
   "id": "f042dd16",
   "metadata": {},
   "outputs": [
    {
     "name": "stdout",
     "output_type": "stream",
     "text": [
      "a: [5, 10]\tb: [5, 10]\n",
      "Location a[0]: 1274558114224\t Location b[0]: 1274558114224\n",
      "a: [20, 10]\tb: [20, 10]\n"
     ]
    }
   ],
   "source": [
    "# understanding how lists are stored\n",
    "a = [5,10]\n",
    "b = a\n",
    "print( \"a: {}\\tb: {}\".format(a,b) )\n",
    "print( \"Location a[0]: {}\\t Location b[0]: {}\".format(id( a[0]),id(b[0] ) ) )\n",
    "a[0] = 20    # re-declaring the value of a[0] also changes b[0]\n",
    "print( \"a: {}\\tb: {}\".format(a,b) )"
   ]
  },
  {
   "cell_type": "code",
   "execution_count": 10,
   "id": "46bd752f",
   "metadata": {},
   "outputs": [
    {
     "name": "stdout",
     "output_type": "stream",
     "text": [
      "data:[50, 10, 15, 20]\tdata_copy:[5, 10, 15, 20]\n"
     ]
    }
   ],
   "source": [
    "# using [:] to copy a list\n",
    "data = [5,10,15,20]\n",
    "data_copy = data[:]    # a single colon copies the list\n",
    "data[0] = 50\n",
    "print( \"data:{}\\tdata_copy:{}\".format(data,data_copy) )"
   ]
  },
  {
   "cell_type": "markdown",
   "id": "4cdd5ec4",
   "metadata": {},
   "source": [
    "#### Monday Exercises"
   ]
  },
  {
   "cell_type": "code",
   "execution_count": 12,
   "id": "9986b9eb",
   "metadata": {},
   "outputs": [
    {
     "name": "stdout",
     "output_type": "stream",
     "text": [
      "I like to play football\n",
      "I like to play basketball\n",
      "I like to play soccer\n",
      "I like to play squash\n",
      "I like to play golf\n",
      "I like to play baseball\n",
      "I like to play hockey\n"
     ]
    }
   ],
   "source": [
    "sports = [\"football\",\"basketball\",\"soccer\",\"squash\",\"golf\",\"baseball\",\"hockey\"]\n",
    "print( \"I like to play {}\".format(sports[0]) )\n",
    "print( \"I like to play {}\".format(sports[1]) )\n",
    "print( \"I like to play {}\".format(sports[2]) )\n",
    "print( \"I like to play {}\".format(sports[3]) )\n",
    "print( \"I like to play {}\".format(sports[4]) )\n",
    "print( \"I like to play {}\".format(sports[5]) )\n",
    "print( \"I like to play {}\".format(sports[6]) )"
   ]
  },
  {
   "cell_type": "code",
   "execution_count": 13,
   "id": "78afeb5c",
   "metadata": {},
   "outputs": [
    {
     "name": "stdout",
     "output_type": "stream",
     "text": [
      "'J','A','S','K'\n"
     ]
    }
   ],
   "source": [
    "names = [\"John\",\"Abraham\",\"Sam\",\"Kelly\"]\n",
    "print(f\"'{names[0][0]}','{names[1][0]}','{names[2][0]}','{names[3][0]}'\")"
   ]
  },
  {
   "cell_type": "markdown",
   "id": "fc8d7857",
   "metadata": {},
   "source": [
    "## For Loops"
   ]
  },
  {
   "cell_type": "code",
   "execution_count": 16,
   "id": "26d6f230",
   "metadata": {},
   "outputs": [
    {
     "name": "stdout",
     "output_type": "stream",
     "text": [
      "Value: 0\n",
      "Value: 1\n",
      "Value: 2\n",
      "Value: 3\n",
      "Value: 4\n"
     ]
    }
   ],
   "source": [
    "# writing the first for loop using range\n",
    "for num in range(5):\n",
    "    print( \"Value: {}\".format(num) )"
   ]
  },
  {
   "cell_type": "code",
   "execution_count": 17,
   "id": "6a288e56",
   "metadata": {},
   "outputs": [
    {
     "name": "stdout",
     "output_type": "stream",
     "text": [
      "Value: 2\n",
      "Value: 4\n",
      "Value: 6\n",
      "Value: 8\n"
     ]
    }
   ],
   "source": [
    "# providing the start, stop, and step for the range function\n",
    "for num in range(2,10,2):\n",
    "    print( \"Value: {}\".format(num) )    # will print all evens between 2 and 10"
   ]
  },
  {
   "cell_type": "code",
   "execution_count": 18,
   "id": "e928c2e7",
   "metadata": {},
   "outputs": [
    {
     "name": "stdout",
     "output_type": "stream",
     "text": [
      "Value: J\n",
      "Value: o\n",
      "Value: h\n",
      "Value: n\n",
      "Value:  \n",
      "Value: S\n",
      "Value: m\n",
      "Value: i\n",
      "Value: t\n",
      "Value: h\n"
     ]
    }
   ],
   "source": [
    "# printing all characters in a name using the 'in' keyword\n",
    "name = 'John Smith'\n",
    "for letter in name:\n",
    "    print( \"Value: {}\".format(letter) )"
   ]
  },
  {
   "cell_type": "code",
   "execution_count": 19,
   "id": "d34f7e63",
   "metadata": {},
   "outputs": [
    {
     "name": "stdout",
     "output_type": "stream",
     "text": [
      "0\n",
      "1\n",
      "2\n",
      "4\n"
     ]
    }
   ],
   "source": [
    "# using the continue statement within a for loop\n",
    "for num in range(5):\n",
    "    if num == 3:\n",
    "        continue\n",
    "    print(num)"
   ]
  },
  {
   "cell_type": "code",
   "execution_count": 20,
   "id": "559faebd",
   "metadata": {},
   "outputs": [
    {
     "name": "stdout",
     "output_type": "stream",
     "text": [
      "0\n",
      "1\n",
      "2\n"
     ]
    }
   ],
   "source": [
    "# breaking out of a loop using the 'break statement'\n",
    "for num in range(5):\n",
    "    if num == 3:\n",
    "        break\n",
    "    print(num)"
   ]
  },
  {
   "cell_type": "code",
   "execution_count": 21,
   "id": "7e3e9ef6",
   "metadata": {},
   "outputs": [],
   "source": [
    "# setting a placeholder using the 'pass' keyword\n",
    "for i in range(5):\n",
    "    # TODO: add a code to print number\n",
    "    pass"
   ]
  },
  {
   "cell_type": "markdown",
   "id": "4a529bc4",
   "metadata": {},
   "source": [
    "#### Tuesday Exercises"
   ]
  },
  {
   "cell_type": "code",
   "execution_count": 22,
   "id": "3da6965c",
   "metadata": {},
   "outputs": [
    {
     "name": "stdout",
     "output_type": "stream",
     "text": [
      "3\n",
      "6\n",
      "9\n",
      "12\n",
      "15\n",
      "18\n",
      "21\n",
      "24\n",
      "27\n",
      "30\n",
      "33\n",
      "36\n",
      "39\n",
      "42\n",
      "45\n",
      "48\n",
      "51\n",
      "54\n",
      "57\n",
      "60\n",
      "63\n",
      "66\n",
      "69\n",
      "72\n",
      "75\n",
      "78\n",
      "81\n",
      "84\n",
      "87\n",
      "90\n",
      "93\n",
      "96\n",
      "99\n"
     ]
    }
   ],
   "source": [
    "# Divisible by 3\n",
    "for num in range(1,100,1):\n",
    "    if num % 3 == 0:\n",
    "        print(num)"
   ]
  },
  {
   "cell_type": "code",
   "execution_count": 36,
   "id": "adf81c63",
   "metadata": {},
   "outputs": [
    {
     "name": "stdout",
     "output_type": "stream",
     "text": [
      "eo\n"
     ]
    }
   ],
   "source": [
    "# only vowels\n",
    "wrd = \"Hello\"\n",
    "str = \"\"\n",
    "for s in wrd:\n",
    "    if s != \"e\" and s != \"o\":\n",
    "        continue\n",
    "    str = str + s\n",
    "print(str)"
   ]
  },
  {
   "cell_type": "markdown",
   "id": "0a6b5323",
   "metadata": {},
   "source": [
    "## While Loops"
   ]
  },
  {
   "cell_type": "code",
   "execution_count": 1,
   "id": "b8ac211c",
   "metadata": {},
   "outputs": [
    {
     "name": "stdout",
     "output_type": "stream",
     "text": [
      "10\n",
      "9\n",
      "8\n",
      "7\n",
      "6\n",
      "5\n",
      "4\n",
      "3\n",
      "2\n",
      "1\n"
     ]
    }
   ],
   "source": [
    "# writing your first while loop\n",
    "health = 10\n",
    "while health > 0:\n",
    "    print( health )\n",
    "    health -= 1    # forgetting this line will result in an infinite loop"
   ]
  },
  {
   "cell_type": "code",
   "execution_count": 2,
   "id": "bf1c80a0",
   "metadata": {},
   "outputs": [
    {
     "name": "stdout",
     "output_type": "stream",
     "text": [
      "0 0\n",
      "0 1\n",
      "0 2\n",
      "1 0\n",
      "1 1\n",
      "1 2\n"
     ]
    }
   ],
   "source": [
    "# using two or more loops together is called a nested loop\n",
    "for i in range( 2 ):    # outside loop\n",
    "    for j in range( 3 ):    # inside loop\n",
    "        print(i,j)"
   ]
  },
  {
   "cell_type": "markdown",
   "id": "3e07df5e",
   "metadata": {},
   "source": [
    "#### Wednesday Exercises"
   ]
  },
  {
   "cell_type": "code",
   "execution_count": 3,
   "id": "04b51ddf",
   "metadata": {},
   "outputs": [
    {
     "name": "stdout",
     "output_type": "stream",
     "text": [
      "Type 'quit' to quit:hello\n",
      "Type 'quit' to quit:hi\n",
      "Type 'quit' to quit:good night\n",
      "Type 'quit' to quit:quit\n"
     ]
    }
   ],
   "source": [
    "# asking for input\n",
    "s = \"\"\n",
    "while s != 'quit':\n",
    "    s = input(\"Type 'quit' to quit:\")"
   ]
  },
  {
   "cell_type": "code",
   "execution_count": 10,
   "id": "0f8afdf3",
   "metadata": {},
   "outputs": [
    {
     "name": "stdout",
     "output_type": "stream",
     "text": [
      "0\n",
      "1\n",
      "2\n"
     ]
    }
   ],
   "source": [
    "# double looping\n",
    "test = False\n",
    "while not test:\n",
    "    for i in range( 6 ):\n",
    "        if i == 3:\n",
    "            test = True\n",
    "            break\n",
    "        print( i )"
   ]
  },
  {
   "cell_type": "markdown",
   "id": "b4a33bf9",
   "metadata": {},
   "source": [
    "## Working With Lists"
   ]
  },
  {
   "cell_type": "code",
   "execution_count": 11,
   "id": "3442d117",
   "metadata": {},
   "outputs": [
    {
     "name": "stdout",
     "output_type": "stream",
     "text": [
      "3\n"
     ]
    }
   ],
   "source": [
    "# checking the number of items in a list\n",
    "nums = [5,10,15]\n",
    "length = len(nums)    # len() returns an integer\n",
    "print(length)"
   ]
  },
  {
   "cell_type": "code",
   "execution_count": 12,
   "id": "da051e76",
   "metadata": {},
   "outputs": [
    {
     "name": "stdout",
     "output_type": "stream",
     "text": [
      "[10, 15]\n",
      "[5, 10]\n",
      "[5, 15]\n",
      "[10, 15]\n"
     ]
    }
   ],
   "source": [
    "# accessing specific items in a list with slices\n",
    "print( nums[1:3] )    # will output items in index 1 and 2\n",
    "print( nums[:2] )    # will ouput items in index 0 and 1\n",
    "print( nums[::2])    # will output items in index 0 and 2\n",
    "print( nums[-2:] )    # will output the last two items in a list"
   ]
  },
  {
   "cell_type": "code",
   "execution_count": 13,
   "id": "f4c396ff",
   "metadata": {},
   "outputs": [
    {
     "name": "stdout",
     "output_type": "stream",
     "text": [
      "[10, 20, 5]\n"
     ]
    }
   ],
   "source": [
    "# adding an item to the back of a list using append\n",
    "nums = [10,20]\n",
    "nums.append(5)\n",
    "print( nums )"
   ]
  },
  {
   "cell_type": "code",
   "execution_count": 15,
   "id": "1aa531c0",
   "metadata": {},
   "outputs": [
    {
     "name": "stdout",
     "output_type": "stream",
     "text": [
      "['glove', 'ball', 'base']\n"
     ]
    }
   ],
   "source": [
    "# adding a value to the beginning of a list\n",
    "words = [\"ball\",\"base\"]\n",
    "words.insert(0,\"glove\")    # the first number is the index, the second is the value to insert\n",
    "print( words )"
   ]
  },
  {
   "cell_type": "code",
   "execution_count": 18,
   "id": "34926ed9",
   "metadata": {},
   "outputs": [
    {
     "name": "stdout",
     "output_type": "stream",
     "text": [
      "5 \n",
      " ['ball']\n"
     ]
    }
   ],
   "source": [
    "# using pop to remove an item from a list and save it to a variable for later use\n",
    "items = [5,\"ball\",True]\n",
    "items.pop()    # removes the last item (True)\n",
    "removed_item = items.pop(0)    # removes (5) and saves it to a variable\n",
    "print(removed_item,\"\\n\",items)"
   ]
  },
  {
   "cell_type": "code",
   "execution_count": 19,
   "id": "bdd83f86",
   "metadata": {},
   "outputs": [
    {
     "name": "stdout",
     "output_type": "stream",
     "text": [
      "['baseball', 'football', 'hockey']\n"
     ]
    }
   ],
   "source": [
    "# using the remove method with a try and except block\n",
    "sports = [\"baseball\",\"soccer\",\"football\",\"hockey\"]\n",
    "try:\n",
    "    sports.remove(\"soccer\")\n",
    "except:\n",
    "    print(\"That item does not exist in the list\")\n",
    "print( sports )"
   ]
  },
  {
   "cell_type": "code",
   "execution_count": 20,
   "id": "75298315",
   "metadata": {},
   "outputs": [
    {
     "name": "stdout",
     "output_type": "stream",
     "text": [
      "3\n",
      "9\n",
      "17\n"
     ]
    }
   ],
   "source": [
    "# using min, max, and sum\n",
    "nums = [5,3,9]\n",
    "print( min(nums) )\n",
    "print( max(nums) )\n",
    "print( sum(nums) )"
   ]
  },
  {
   "cell_type": "code",
   "execution_count": 22,
   "id": "d26e6ced",
   "metadata": {},
   "outputs": [
    {
     "name": "stdout",
     "output_type": "stream",
     "text": [
      "[5, 8, 0, 2] [0, 2, 5, 8]\n"
     ]
    }
   ],
   "source": [
    "# using sorted lists for numerical and alphabetical data\n",
    "nums = [5,8,0,2]\n",
    "sorted_nums = sorted(nums)\n",
    "print(nums,sorted_nums)"
   ]
  },
  {
   "cell_type": "code",
   "execution_count": 23,
   "id": "17956b86",
   "metadata": {},
   "outputs": [
    {
     "name": "stdout",
     "output_type": "stream",
     "text": [
      "[0, 2, 5, 8]\n"
     ]
    }
   ],
   "source": [
    "# sorting a list with sort() in-place\n",
    "nums = [5,8,0,2]\n",
    "nums.sort()\n",
    "print(nums)"
   ]
  },
  {
   "cell_type": "code",
   "execution_count": 25,
   "id": "653262f3",
   "metadata": {},
   "outputs": [
    {
     "name": "stdout",
     "output_type": "stream",
     "text": [
      "Found\n",
      "not Found\n"
     ]
    }
   ],
   "source": [
    "# using conditional statements on a list\n",
    "names = ['Jack','Robert','Mary']\n",
    "if 'Mary' in names:\n",
    "    print( \"Found\" )\n",
    "if 'Jimmy' not in names:\n",
    "    print( \"not Found\" )"
   ]
  },
  {
   "cell_type": "code",
   "execution_count": 28,
   "id": "0d8aa659",
   "metadata": {},
   "outputs": [
    {
     "name": "stdout",
     "output_type": "stream",
     "text": [
      "Empty\n",
      "Not Empty\n",
      "[1]\n"
     ]
    }
   ],
   "source": [
    "# using conditionals to check if a list is empty\n",
    "nums = []\n",
    "if not nums:\n",
    "    print( \"Empty\" )\n",
    "    nums.append(1)\n",
    "if nums:\n",
    "    print( \"Not Empty\" )\n",
    "print( nums )"
   ]
  },
  {
   "cell_type": "code",
   "execution_count": 29,
   "id": "fc1decb6",
   "metadata": {},
   "outputs": [
    {
     "name": "stdout",
     "output_type": "stream",
     "text": [
      "Baseball\n",
      "Hockey\n",
      "Football\n",
      "Basketball\n"
     ]
    }
   ],
   "source": [
    "# using a for loop to print all items in a list\n",
    "sports = [\"Baseball\",\"Hockey\",\"Football\",\"Basketball\"]\n",
    "for sport in sports:\n",
    "    print( sport )"
   ]
  },
  {
   "cell_type": "code",
   "execution_count": 30,
   "id": "a65276a4",
   "metadata": {},
   "outputs": [
    {
     "name": "stdout",
     "output_type": "stream",
     "text": [
      "['Jack', 'Rob', 'Robert']\n"
     ]
    }
   ],
   "source": [
    "# using the while loop to remove a certain value\n",
    "names = [\"Bob\",\"Jack\",\"Rob\",\"Bob\",\"Robert\"]\n",
    "while \"Bob\" in names:\n",
    "    names.remove(\"Bob\")    # removes all instances of 'Bob'\n",
    "print( names )"
   ]
  },
  {
   "cell_type": "markdown",
   "id": "0a34952c",
   "metadata": {},
   "source": [
    "#### Thursday Exercises"
   ]
  },
  {
   "cell_type": "code",
   "execution_count": 31,
   "id": "e6c8610d",
   "metadata": {},
   "outputs": [
    {
     "name": "stdout",
     "output_type": "stream",
     "text": [
      "['Amanda', 'Bob', 'Kenny']\n"
     ]
    }
   ],
   "source": [
    "# removing duplicates\n",
    "names = [\"Bob\",\"Kenny\",\"Amanda\",\"Bob\",\"Kenny\"]\n",
    "for i in names:\n",
    "    if names.count(i) > 1:\n",
    "        names.remove(i)\n",
    "print(names)"
   ]
  },
  {
   "cell_type": "code",
   "execution_count": 33,
   "id": "1ef97067",
   "metadata": {},
   "outputs": [
    {
     "name": "stdout",
     "output_type": "stream",
     "text": [
      "Enter a word. Enter 'quit' to quit:hello\n",
      "Enter a word. Enter 'quit' to quit:hi\n",
      "Enter a word. Enter 'quit' to quit:quit\n",
      "hello\n",
      "hi\n",
      "quit\n"
     ]
    }
   ],
   "source": [
    "# user input\n",
    "words = []\n",
    "word = \"\"\n",
    "while word != 'quit':\n",
    "    word = input(\"Enter a word. Enter 'quit' to quit:\")\n",
    "    words.append( word )\n",
    "for s in words:\n",
    "    print( s )"
   ]
  },
  {
   "cell_type": "markdown",
   "id": "3a4310bc",
   "metadata": {},
   "source": [
    "## Friday Project: Creating Hangman"
   ]
  },
  {
   "cell_type": "code",
   "execution_count": 51,
   "id": "413b7260",
   "metadata": {
    "scrolled": true
   },
   "outputs": [
    {
     "name": "stdout",
     "output_type": "stream",
     "text": [
      "Thanks for playing!\n"
     ]
    }
   ],
   "source": [
    "# import additional functions\n",
    "from random import choice\n",
    "from IPython.display import clear_output\n",
    "\n",
    "# declare game variables\n",
    "words = [\"tree\",\"basket\",\"chair\",\"paper\",\"python\"]\n",
    "word = choice(words)    # randomly picks a word from the list\n",
    "guessed, lives, game_over = [],7,False    # multi-variable assignment\n",
    "\n",
    "# create a list of underscores equal to the length of the word\n",
    "guesses = [\"_ \"] * len(word)\n",
    "\n",
    "# creating the game loop\n",
    "while not game_over:\n",
    "    # output game information\n",
    "    hidden_word = \"\".join(guesses)\n",
    "    print( \"Your guessed letters: {}\".format(guessed) )\n",
    "    print( \"Word to guess: {}\".format(hidden_word) )\n",
    "    print(\"Lives remaining: {}\".format(lives) )\n",
    "    \n",
    "    ans = input( \"Type 'quit' or guess a letter:\" ).lower()\n",
    "    \n",
    "    clear_output()\n",
    "    \n",
    "    if ans == 'quit':\n",
    "        print( \"Thanks for playing!\" )\n",
    "        game_over = True\n",
    "    elif ans in word:    # check if letter in word\n",
    "        print( \"You guessed correctly\" )\n",
    "        \n",
    "        # create a loop to change the underscore to proper letters\n",
    "        for i in range( len(word) ):\n",
    "            if word[i] == ans:\n",
    "                guesses[i] = ans\n",
    "    elif ans in guessed:\n",
    "        print(\"You already guessed that. Try again.\")\n",
    "    else:    # otherwise, lose a life\n",
    "        lives -= 1\n",
    "        print( \"Incorrect, you lost a life!\" )\n",
    "        \n",
    "    if ans not in guessed:\n",
    "        guessed.append(ans)    # add the guessed letters to the list\n",
    "    \n",
    "    if lives <= 0:\n",
    "        print( \"You lost all your lives. You lost!\" )\n",
    "        game_over = True\n",
    "    elif word == \"\".join(guesses):\n",
    "        print( \"Congratulations, you guessed it correctly!\" )\n",
    "        game_over = True\n",
    "    "
   ]
  },
  {
   "cell_type": "markdown",
   "id": "f6d1b896",
   "metadata": {},
   "source": [
    "## Weekly Exercises"
   ]
  },
  {
   "cell_type": "code",
   "execution_count": 40,
   "id": "886107f3",
   "metadata": {
    "scrolled": false
   },
   "outputs": [
    {
     "name": "stdout",
     "output_type": "stream",
     "text": [
      "Choose how many rows to create:5\n",
      "    x    \n",
      "   x x   \n",
      "  x x x  \n",
      " x x x x \n",
      "x x x x x\n"
     ]
    }
   ],
   "source": [
    "# building a pyramid\n",
    "s = \"x\"\n",
    "steps = int( input(\"Choose how many rows to create:\") )\n",
    "spaces = (steps * 2) - 1    # define number of spaces in vector\n",
    "try:\n",
    "    for i in range( 1, steps + 1 ):\n",
    "        temp = [\" \"] * spaces    # create empty vector\n",
    "        for j in range( i ):\n",
    "            if (i % 2) != 0 or i == 0:    # add 'x' values for odd rows\n",
    "                cent = spaces // 2    # define center point index; e.g. index 3 with 7 spaces per vector\n",
    "                offset = (i // 2) * 2     # define offset to begin adding 'x' values\n",
    "                temp[cent - offset + (2 * j)] = s\n",
    "            elif (i % 2) == 0:\n",
    "                cent = spaces // 2    # define center point\n",
    "                offset = i - 1    # define offset to begin adding 'x' values\n",
    "                temp[cent - offset + (2 * j)] = s\n",
    "        print(\"\".join(temp))\n",
    "except:\n",
    "    print(\"You entered an invalid value. Please enter an integer value.\")"
   ]
  },
  {
   "cell_type": "code",
   "execution_count": 74,
   "id": "9711393c",
   "metadata": {
    "scrolled": true
   },
   "outputs": [
    {
     "name": "stdout",
     "output_type": "stream",
     "text": [
      "John\n",
      "Amanda\n"
     ]
    }
   ],
   "source": [
    "# output names\n",
    "names = [\"John\",' ','Amanda',5]\n",
    "for name in names:\n",
    "    if type(name) == str:\n",
    "        if name.isalpha():\n",
    "            print(name)"
   ]
  },
  {
   "cell_type": "code",
   "execution_count": 46,
   "id": "122827b0",
   "metadata": {},
   "outputs": [
    {
     "name": "stdout",
     "output_type": "stream",
     "text": [
      "[89.6, 53.6, 111.2, 84.2]\n"
     ]
    }
   ],
   "source": [
    "# temperature conversion\n",
    "temps = [32,12,44,29]\n",
    "converted = []\n",
    "for temp in temps:\n",
    "    converted.append(temp * (9/5) + 32)\n",
    "print(converted)"
   ]
  }
 ],
 "metadata": {
  "kernelspec": {
   "display_name": "Python 3 (ipykernel)",
   "language": "python",
   "name": "python3"
  },
  "language_info": {
   "codemirror_mode": {
    "name": "ipython",
    "version": 3
   },
   "file_extension": ".py",
   "mimetype": "text/x-python",
   "name": "python",
   "nbconvert_exporter": "python",
   "pygments_lexer": "ipython3",
   "version": "3.10.4"
  }
 },
 "nbformat": 4,
 "nbformat_minor": 5
}
