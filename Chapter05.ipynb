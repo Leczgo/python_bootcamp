{
 "cells": [
  {
   "cell_type": "markdown",
   "id": "6461a923",
   "metadata": {},
   "source": [
    "## Functions"
   ]
  },
  {
   "cell_type": "code",
   "execution_count": 1,
   "id": "4f995ef2",
   "metadata": {},
   "outputs": [
    {
     "name": "stdout",
     "output_type": "stream",
     "text": [
      "Name: John Smith\n",
      "Age: 45\n",
      "Name: John Smith\n",
      "Age: 45\n"
     ]
    }
   ],
   "source": [
    "# writing your first function\n",
    "def printInfo():    # defines name of function\n",
    "    print(\"Name: John Smith\")\n",
    "    print(\"Age: 45\")\n",
    "printInfo()\n",
    "printInfo()"
   ]
  },
  {
   "cell_type": "code",
   "execution_count": 2,
   "id": "3fd435e3",
   "metadata": {},
   "outputs": [
    {
     "name": "stdout",
     "output_type": "stream",
     "text": [
      "15\n"
     ]
    }
   ],
   "source": [
    "# performing a calculation in a function\n",
    "def calc():\n",
    "    x, y = 5, 10\n",
    "    print(x + y)\n",
    "\n",
    "calc()"
   ]
  },
  {
   "cell_type": "markdown",
   "id": "3b3dca9a",
   "metadata": {},
   "source": [
    "#### Monday Exercises"
   ]
  },
  {
   "cell_type": "code",
   "execution_count": 3,
   "id": "51052b11",
   "metadata": {},
   "outputs": [
    {
     "name": "stdout",
     "output_type": "stream",
     "text": [
      "Adam Lecznar\n",
      "Adam Lecznar\n"
     ]
    }
   ],
   "source": [
    "# myName function\n",
    "def myName():\n",
    "    print(\"Adam Lecznar\")\n",
    "\n",
    "myName()\n",
    "myName()"
   ]
  },
  {
   "cell_type": "code",
   "execution_count": 4,
   "id": "f1b0e56a",
   "metadata": {},
   "outputs": [
    {
     "name": "stdout",
     "output_type": "stream",
     "text": [
      "cheese,pepperoni,bacon,sausage,onion\n",
      "cheese,pepperoni,bacon,sausage,onion\n",
      "cheese,pepperoni,bacon,sausage,onion\n"
     ]
    }
   ],
   "source": [
    "# Pizza Function\n",
    "def pizzaToppings():\n",
    "    print(\"cheese,pepperoni,bacon,sausage,onion\")\n",
    "\n",
    "pizzaToppings()\n",
    "pizzaToppings()\n",
    "pizzaToppings()"
   ]
  },
  {
   "cell_type": "markdown",
   "id": "f96c65e5",
   "metadata": {},
   "source": [
    "## Parameters"
   ]
  },
  {
   "cell_type": "code",
   "execution_count": 5,
   "id": "c5f367e7",
   "metadata": {},
   "outputs": [
    {
     "name": "stdout",
     "output_type": "stream",
     "text": [
      "John Smith\n",
      "Amanda Johnson\n"
     ]
    }
   ],
   "source": [
    "def printName(fullname):\n",
    "    print(\"My name is {}\".format(fullname))\n",
    "print('John Smith')\n",
    "print(\"Amanda Johnson\")"
   ]
  },
  {
   "cell_type": "code",
   "execution_count": 6,
   "id": "0599ab19",
   "metadata": {},
   "outputs": [
    {
     "name": "stdout",
     "output_type": "stream",
     "text": [
      "5 + 8 = 13\n",
      "3.5 + 3.5 = 7.0\n",
      "5 + -6 = -1\n"
     ]
    }
   ],
   "source": [
    "# passing multiple parameters into a function\n",
    "def addNums(num1,num2):\n",
    "    result = num1 + num2\n",
    "    print(f\"{num1} + {num2} = {result}\")\n",
    "\n",
    "addNums(5,8)\n",
    "addNums(3.5,3.5)\n",
    "addNums(5,-6)"
   ]
  },
  {
   "cell_type": "code",
   "execution_count": 7,
   "id": "c35ac313",
   "metadata": {},
   "outputs": [
    {
     "name": "stdout",
     "output_type": "stream",
     "text": [
      "4\n",
      "16\n",
      "25\n",
      "100\n",
      "1\n",
      "9\n",
      "36\n"
     ]
    }
   ],
   "source": [
    "# using a function to square all information\n",
    "numbers1 = [2,4,5,10]\n",
    "numbers2 = [1,3,6]\n",
    "def squares(nums):\n",
    "    for num in nums:\n",
    "        print(num ** 2)\n",
    "\n",
    "squares(numbers1)\n",
    "squares(numbers2)"
   ]
  },
  {
   "cell_type": "code",
   "execution_count": 8,
   "id": "64769301",
   "metadata": {},
   "outputs": [
    {
     "name": "stdout",
     "output_type": "stream",
     "text": [
      "Area: 12.56\n"
     ]
    }
   ],
   "source": [
    "# setting default parameters\n",
    "def calcArea(r,pi = 3.14):\n",
    "    area = pi * (r**2)\n",
    "    print(\"Area: {}\".format(area))\n",
    "\n",
    "calcArea(2)"
   ]
  },
  {
   "cell_type": "code",
   "execution_count": 9,
   "id": "c9a375a8",
   "metadata": {},
   "outputs": [
    {
     "name": "stdout",
     "output_type": "stream",
     "text": [
      "John Smith\n",
      "John Paul Smith\n"
     ]
    }
   ],
   "source": [
    "# setting optional parameters\n",
    "def printName(first,last,middle = \"\"):\n",
    "    if middle:\n",
    "        print(f\"{first} {middle} {last}\")\n",
    "    else:\n",
    "        print(f\"{first} {last}\")\n",
    "\n",
    "printName(\"John\",\"Smith\")\n",
    "printName(\"John\",\"Smith\",\"Paul\")"
   ]
  },
  {
   "cell_type": "code",
   "execution_count": 10,
   "id": "bb7beb19",
   "metadata": {},
   "outputs": [
    {
     "name": "stdout",
     "output_type": "stream",
     "text": [
      "5 + 7 = 12\n"
     ]
    }
   ],
   "source": [
    "# explicitly naming parameters\n",
    "addNums(5,num2 = 7)"
   ]
  },
  {
   "cell_type": "code",
   "execution_count": 11,
   "id": "7b9f6932",
   "metadata": {},
   "outputs": [
    {
     "name": "stdout",
     "output_type": "stream",
     "text": [
      "<class 'tuple'>\n",
      "5\n",
      "True\n",
      "Jess\n"
     ]
    }
   ],
   "source": [
    "# using args parameter to take in a tuple of arbitrary values\n",
    "def outputData(names,*args):\n",
    "    print( type(args) )\n",
    "    for arg in args:\n",
    "        print(arg)\n",
    "\n",
    "outputData(\"John Smith\",5,True,\"Jess\")"
   ]
  },
  {
   "cell_type": "code",
   "execution_count": 12,
   "id": "8bf9813b",
   "metadata": {},
   "outputs": [
    {
     "name": "stdout",
     "output_type": "stream",
     "text": [
      "<class 'dict'>\n",
      "John Smith\n",
      "5\n"
     ]
    }
   ],
   "source": [
    "# using kwargs parameter to take in a dictionary of arbitrary values\n",
    "def outputData(**kwargs):\n",
    "    print(type(kwargs))\n",
    "    print( kwargs[\"name\"] )\n",
    "    print( kwargs[\"num\"] )\n",
    "\n",
    "outputData(name = \"John Smith\", num = 5, b = True )"
   ]
  },
  {
   "cell_type": "markdown",
   "id": "720414ce",
   "metadata": {},
   "source": [
    "#### Tuesday Exercises"
   ]
  },
  {
   "cell_type": "code",
   "execution_count": 14,
   "id": "2aabf834",
   "metadata": {},
   "outputs": [
    {
     "name": "stdout",
     "output_type": "stream",
     "text": [
      "Enter a word:Hello\n",
      "True\n"
     ]
    }
   ],
   "source": [
    "# detect uppercased word\n",
    "s = input(\"Enter a word:\")\n",
    "def upDetect(word):\n",
    "    try:\n",
    "        if word[0].isupper():\n",
    "            print(True)\n",
    "        else:\n",
    "            print(False)\n",
    "    except:\n",
    "        print(\"Please enter a valid string.\")\n",
    "\n",
    "upDetect(word = s)"
   ]
  },
  {
   "cell_type": "code",
   "execution_count": 17,
   "id": "9df00b75",
   "metadata": {},
   "outputs": [
    {
     "name": "stdout",
     "output_type": "stream",
     "text": [
      "My name is John Smith\n",
      "My name is John\n",
      "My name is Smith\n",
      "No name passed\n"
     ]
    }
   ],
   "source": [
    "# optional name printing\n",
    "def printName(first = \"\",last = \"\"):\n",
    "    try:\n",
    "        if not first and not last:\n",
    "            print(\"No name passed\")\n",
    "        elif first and not last:\n",
    "            print(\"My name is {}\".format(first))\n",
    "        elif not first and last:\n",
    "            print(\"My name is {}\".format(last))\n",
    "        else:\n",
    "            fullname = first + \" \" + last\n",
    "            print(\"My name is {}\".format(fullname))\n",
    "    except:\n",
    "        print(\"Please enter a valid name.\")\n",
    "\n",
    "printName(\"John\",\"Smith\")\n",
    "printName(\"John\")\n",
    "printName(last = \"Smith\")\n",
    "printName()"
   ]
  },
  {
   "cell_type": "markdown",
   "id": "44f71352",
   "metadata": {},
   "source": [
    "## Return Statement"
   ]
  },
  {
   "cell_type": "code",
   "execution_count": 1,
   "id": "fc629132",
   "metadata": {},
   "outputs": [
    {
     "name": "stdout",
     "output_type": "stream",
     "text": [
      "10.0\n",
      "20\n"
     ]
    }
   ],
   "source": [
    "# using return keyword to return the sum of two numbers\n",
    "def addNums(num1,num2):\n",
    "    return num1 + num2\n",
    "\n",
    "num = addNums(4.5,5.5)    # saves returned value into nums\n",
    "print(num)\n",
    "print(addNums(10,10))    # does not save returned value"
   ]
  },
  {
   "cell_type": "code",
   "execution_count": 2,
   "id": "ccae3fc9",
   "metadata": {},
   "outputs": [
    {
     "name": "stdout",
     "output_type": "stream",
     "text": [
      "True\n"
     ]
    }
   ],
   "source": [
    "# shorthand syntax using a ternary operator\n",
    "def searchList(aList,el):\n",
    "    return True if el in aList else False\n",
    "\n",
    "result = searchList([\"one\",2,\"three\"],2)    # will return and store True\n",
    "print(result)"
   ]
  },
  {
   "cell_type": "markdown",
   "id": "7233ecb0",
   "metadata": {},
   "source": [
    "#### Wednesday Exercises"
   ]
  },
  {
   "cell_type": "code",
   "execution_count": 4,
   "id": "bf4bbb18",
   "metadata": {},
   "outputs": [
    {
     "name": "stdout",
     "output_type": "stream",
     "text": [
      "Adam Lecznar\n"
     ]
    }
   ],
   "source": [
    "# return full name\n",
    "def fullName(first,last):\n",
    "    return first + \" \" + last\n",
    "\n",
    "myName = fullName(\"Adam\",\"Lecznar\")\n",
    "print(myName)"
   ]
  },
  {
   "cell_type": "code",
   "execution_count": 5,
   "id": "68adceba",
   "metadata": {},
   "outputs": [
    {
     "name": "stdout",
     "output_type": "stream",
     "text": [
      "Type something:I'm here\n",
      "I'm here\n"
     ]
    }
   ],
   "source": [
    "# user input function\n",
    "def user():\n",
    "    text = input(\"Type something:\")\n",
    "    return text\n",
    "\n",
    "s = user()\n",
    "print(s)"
   ]
  },
  {
   "cell_type": "markdown",
   "id": "d60da284",
   "metadata": {},
   "source": [
    "## Scope"
   ]
  },
  {
   "cell_type": "code",
   "execution_count": 13,
   "id": "4db553a8",
   "metadata": {},
   "outputs": [
    {
     "ename": "UnboundLocalError",
     "evalue": "local variable 'number' referenced before assignment",
     "output_type": "error",
     "traceback": [
      "\u001b[1;31m---------------------------------------------------------------------------\u001b[0m",
      "\u001b[1;31mUnboundLocalError\u001b[0m                         Traceback (most recent call last)",
      "Input \u001b[1;32mIn [13]\u001b[0m, in \u001b[0;36m<cell line: 5>\u001b[1;34m()\u001b[0m\n\u001b[0;32m      3\u001b[0m \u001b[38;5;28;01mdef\u001b[39;00m \u001b[38;5;21mscopeTest\u001b[39m():\n\u001b[0;32m      4\u001b[0m     number \u001b[38;5;241m+\u001b[39m\u001b[38;5;241m=\u001b[39m \u001b[38;5;241m1\u001b[39m\n\u001b[1;32m----> 5\u001b[0m \u001b[43mscopeTest\u001b[49m\u001b[43m(\u001b[49m\u001b[43m)\u001b[49m\n",
      "Input \u001b[1;32mIn [13]\u001b[0m, in \u001b[0;36mscopeTest\u001b[1;34m()\u001b[0m\n\u001b[0;32m      3\u001b[0m \u001b[38;5;28;01mdef\u001b[39;00m \u001b[38;5;21mscopeTest\u001b[39m():\n\u001b[1;32m----> 4\u001b[0m     number \u001b[38;5;241m+\u001b[39m\u001b[38;5;241m=\u001b[39m \u001b[38;5;241m1\u001b[39m\n",
      "\u001b[1;31mUnboundLocalError\u001b[0m: local variable 'number' referenced before assignment"
     ]
    }
   ],
   "source": [
    "# displaying where global files can be accessed\n",
    "number = 5\n",
    "def scopeTest():\n",
    "    number += 1\n",
    "scopeTest()"
   ]
  },
  {
   "cell_type": "code",
   "execution_count": 7,
   "id": "037f400d",
   "metadata": {},
   "outputs": [
    {
     "name": "stdout",
     "output_type": "stream",
     "text": [
      "function\n"
     ]
    }
   ],
   "source": [
    "# accessing variables defined in a function\n",
    "def scopeTest():\n",
    "    word = \"function\"\n",
    "    return word\n",
    "\n",
    "value = scopeTest()\n",
    "print(value)"
   ]
  },
  {
   "cell_type": "code",
   "execution_count": 8,
   "id": "ed38644b",
   "metadata": {},
   "outputs": [
    {
     "name": "stdout",
     "output_type": "stream",
     "text": [
      "Before Altering: ['baseball', 'football', 'hockey', 'basketball']\n",
      "After Altering: ['soccer', 'football', 'hockey', 'basketball']\n"
     ]
    }
   ],
   "source": [
    "# changing list item values by using index\n",
    "sports = [\"baseball\",\"football\",'hockey','basketball']\n",
    "def change(aList):\n",
    "    aList[0] = \"soccer\"\n",
    "\n",
    "print(\"Before Altering: {}\".format(sports))\n",
    "change(sports)\n",
    "print(\"After Altering: {}\".format(sports))"
   ]
  },
  {
   "cell_type": "markdown",
   "id": "9397e9cf",
   "metadata": {},
   "source": [
    "#### Thursday Exercises"
   ]
  },
  {
   "cell_type": "code",
   "execution_count": 11,
   "id": "fc5c58bd",
   "metadata": {},
   "outputs": [
    {
     "name": "stdout",
     "output_type": "stream",
     "text": [
      "['Bill', 'Todd', 'Amanda']\n"
     ]
    }
   ],
   "source": [
    "# changing a name in a list\n",
    "names = [\"Bill\",\"Rich\",\"Amanda\"]\n",
    "def nameChange(aList,name,index):\n",
    "    aList[index] = name\n",
    "\n",
    "nameChange(names,\"Todd\",1)\n",
    "print(names)"
   ]
  },
  {
   "cell_type": "markdown",
   "id": "c9eb19db",
   "metadata": {},
   "source": [
    "#### Friday Exercise: Shopping List"
   ]
  },
  {
   "cell_type": "code",
   "execution_count": 22,
   "id": "dc9ad3f4",
   "metadata": {},
   "outputs": [
    {
     "name": "stdout",
     "output_type": "stream",
     "text": [
      "Here is your cart:\n",
      "-1 chicken\n"
     ]
    }
   ],
   "source": [
    "# import necessary functions\n",
    "from IPython.display import clear_output\n",
    "\n",
    "# global list variable\n",
    "cart = []\n",
    "\n",
    "# create function to add items to cart\n",
    "def addItem(item):\n",
    "    clear_output()\n",
    "    cart.append(item)\n",
    "    print( \"{} has been added to the cart\".format(item) )\n",
    "\n",
    "# create function to remove items from the cart\n",
    "def clearItem(item):\n",
    "    clear_output()\n",
    "    try:\n",
    "        cart.pop( int(item) - 1 )\n",
    "    except:\n",
    "        pass\n",
    "    try:\n",
    "        cart.remove(item)\n",
    "        print( \"{} was removed from the cart.\".format(item) )\n",
    "    except:\n",
    "        print( \"Sorry, the item could not be removed.\" )\n",
    "\n",
    "# create a function to show items in the cart\n",
    "def showCart():\n",
    "    clear_output()\n",
    "    if cart:\n",
    "        print( \"Here is your cart:\" )\n",
    "        for item in cart:\n",
    "            print( \"-{} {}\".format(cart.index(item) + 1,item) )\n",
    "    else:\n",
    "        print( \"Your cart is empty.\" )\n",
    "\n",
    "# create a function to clear the cart\n",
    "def clearCart():\n",
    "    clear_output()\n",
    "    cart.clear()\n",
    "    print( \"Your cart is empty.\" )\n",
    "\n",
    "# create a main function that loops until the user quits\n",
    "def main():\n",
    "    done = False\n",
    "    \n",
    "    while not done:\n",
    "        ans = input( \"Choose action ('quit','add','remove','show','clear'): \" ).lower()\n",
    "        \n",
    "        # base case\n",
    "        if ans == 'quit':\n",
    "            print( \"Thank you for using the shopping cart.\" )\n",
    "            showCart()\n",
    "            done = True\n",
    "        elif ans == 'add':\n",
    "            item = input( \"What would you like to add? \".title() )\n",
    "            addItem(item)\n",
    "        elif ans == 'remove':\n",
    "            showCart()\n",
    "            item == input( \"What would you like to remove? \".title() )\n",
    "            clearItem(item)\n",
    "        elif ans == 'show':\n",
    "            showCart()\n",
    "        elif ans == 'clear':\n",
    "            clearCart()\n",
    "        else:\n",
    "            print( \"Sorry, that was not an option.\" )\n",
    "\n",
    "main()    # run the program"
   ]
  },
  {
   "cell_type": "code",
   "execution_count": null,
   "id": "c1f31da3",
   "metadata": {},
   "outputs": [],
   "source": []
  }
 ],
 "metadata": {
  "kernelspec": {
   "display_name": "Python 3 (ipykernel)",
   "language": "python",
   "name": "python3"
  },
  "language_info": {
   "codemirror_mode": {
    "name": "ipython",
    "version": 3
   },
   "file_extension": ".py",
   "mimetype": "text/x-python",
   "name": "python",
   "nbconvert_exporter": "python",
   "pygments_lexer": "ipython3",
   "version": "3.10.4"
  }
 },
 "nbformat": 4,
 "nbformat_minor": 5
}
