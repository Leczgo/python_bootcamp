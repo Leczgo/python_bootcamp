{
 "cells": [
  {
   "cell_type": "markdown",
   "id": "c4cafcd3",
   "metadata": {},
   "source": [
    "## Dictionaries"
   ]
  },
  {
   "cell_type": "code",
   "execution_count": 1,
   "id": "ba1d6603",
   "metadata": {},
   "outputs": [
    {
     "name": "stdout",
     "output_type": "stream",
     "text": [
      "{'name': 'Morty', 'Age': 26}\n"
     ]
    }
   ],
   "source": [
    "# declaring a dictionary variable\n",
    "empty = {}    # an empty dictionary\n",
    "person = {\"name\":\"John Smith\"}    # dictionary with key:value pair\n",
    "customer = {\"name\":\"Morty\",\"Age\":26}    # a dictionary with two key:value pairs\n",
    "print( customer )"
   ]
  },
  {
   "cell_type": "code",
   "execution_count": 2,
   "id": "17536950",
   "metadata": {},
   "outputs": [
    {
     "name": "stdout",
     "output_type": "stream",
     "text": [
      "John\n"
     ]
    }
   ],
   "source": [
    "# accessing information through keys\n",
    "person = {'name':'John'}\n",
    "print( person['name'] )"
   ]
  },
  {
   "cell_type": "code",
   "execution_count": 3,
   "id": "52a51a65",
   "metadata": {},
   "outputs": [
    {
     "name": "stdout",
     "output_type": "stream",
     "text": [
      "John\n",
      "None Age is not available.\n"
     ]
    }
   ],
   "source": [
    "# using the get() method to access dictionary information\n",
    "person = {'name':'John'}\n",
    "print( person.get('name') )\n",
    "print( person.get('age'),\"Age is not available.\" )"
   ]
  },
  {
   "cell_type": "code",
   "execution_count": 4,
   "id": "dfbaa8e0",
   "metadata": {},
   "outputs": [
    {
     "name": "stdout",
     "output_type": "stream",
     "text": [
      "baseball\n"
     ]
    }
   ],
   "source": [
    "# storing a list within a dictionary and accessing it\n",
    "data = {'sports':['baseball','hockey','basketball','soccer']}\n",
    "print( data['sports'][0] )"
   ]
  },
  {
   "cell_type": "code",
   "execution_count": 5,
   "id": "da7eb8f4",
   "metadata": {},
   "outputs": [
    {
     "name": "stdout",
     "output_type": "stream",
     "text": [
      "{'name': 'Kirsten'}\n",
      "Kirsten\n"
     ]
    }
   ],
   "source": [
    "# storing a dictionary within a list and accessing it\n",
    "data = ['John','dennis',{'name':\"Kirsten\"}]\n",
    "print( data[2] )\n",
    "print( data[2]['name'] )"
   ]
  },
  {
   "cell_type": "code",
   "execution_count": 6,
   "id": "fc0f2fb4",
   "metadata": {},
   "outputs": [
    {
     "name": "stdout",
     "output_type": "stream",
     "text": [
      "{'2018': 108, '2017': 93}\n",
      "108\n"
     ]
    }
   ],
   "source": [
    "# storing a dictionary within a dictionary and accessing it\n",
    "data = {\n",
    "    \"team\":\"Boston Red Sox\",\n",
    "    \"wins\":{'2018':108,'2017':93}\n",
    "}\n",
    "print( data['wins'] )\n",
    "print( data['wins']['2018'])"
   ]
  },
  {
   "cell_type": "markdown",
   "id": "0fbe7fad",
   "metadata": {},
   "source": [
    "#### Monday Exercises"
   ]
  },
  {
   "cell_type": "code",
   "execution_count": 8,
   "id": "f308018b",
   "metadata": {},
   "outputs": [
    {
     "name": "stdout",
     "output_type": "stream",
     "text": [
      "Please enter your name: John\n",
      "Please enter your age: 37\n",
      "{'name': 'John', 'age': 37}\n"
     ]
    }
   ],
   "source": [
    "# create a personal information dictionary\n",
    "def persInfo():\n",
    "    name = input( \"Please enter your name: \" )\n",
    "    age = input( \"Please enter your age: \" )\n",
    "    info = {'name':name,'age':int(age)}\n",
    "    print(info)\n",
    "\n",
    "persInfo()"
   ]
  },
  {
   "cell_type": "code",
   "execution_count": 10,
   "id": "a17b5312",
   "metadata": {},
   "outputs": [
    {
     "name": "stdout",
     "output_type": "stream",
     "text": [
      "cheese\n",
      "sausage\n",
      "peppers\n"
     ]
    }
   ],
   "source": [
    "# accessing ingredients\n",
    "pizza = { 'ingredients':['cheese','sausage','peppers'] }\n",
    "for j in range( len( pizza['ingredients'] ) ):\n",
    "    print( pizza['ingredients'][j] )"
   ]
  },
  {
   "cell_type": "markdown",
   "id": "c9d15c6d",
   "metadata": {},
   "source": [
    "#### Tuesday: Working With Dictionaries"
   ]
  },
  {
   "cell_type": "code",
   "execution_count": 11,
   "id": "5d4f5aea",
   "metadata": {},
   "outputs": [
    {
     "name": "stdout",
     "output_type": "stream",
     "text": [
      "Year: 2018\tColor: blue\n"
     ]
    }
   ],
   "source": [
    "# adding new key:value pairs to dictionaries\n",
    "car = { 'year':2018 }\n",
    "car['color'] = 'blue'\n",
    "print( \"Year: {}\\tColor: {}\".format(car['year'],car['color']) )"
   ]
  },
  {
   "cell_type": "code",
   "execution_count": 13,
   "id": "675a7c01",
   "metadata": {},
   "outputs": [
    {
     "name": "stdout",
     "output_type": "stream",
     "text": [
      "Year: 2018\tColor: red\n"
     ]
    }
   ],
   "source": [
    "# modifying key:value pairs in dictionaries\n",
    "car = {'year':2018,'color':'blue'}\n",
    "car['color'] = 'red'\n",
    "print( \"Year: {}\\tColor: {}\".format(car['year'],car['color']) )"
   ]
  },
  {
   "cell_type": "code",
   "execution_count": 14,
   "id": "99f8d15f",
   "metadata": {},
   "outputs": [
    {
     "name": "stdout",
     "output_type": "stream",
     "text": [
      "{}\n"
     ]
    }
   ],
   "source": [
    "# deleting a key:value pair in from a dictionary\n",
    "car = {'year':2018}\n",
    "try:\n",
    "    del car['year']\n",
    "    print( car )\n",
    "except:\n",
    "    print( \"That key does not exist.\" )"
   ]
  },
  {
   "cell_type": "code",
   "execution_count": 16,
   "id": "be94b70c",
   "metadata": {},
   "outputs": [
    {
     "name": "stdout",
     "output_type": "stream",
     "text": [
      "name\n",
      "John\n",
      "age\n",
      "24\n"
     ]
    }
   ],
   "source": [
    "# looping over a dictionary using keys\n",
    "person = {'name':'John','age':24}\n",
    "for key in person.keys():\n",
    "    print(key)\n",
    "    print(person[key])"
   ]
  },
  {
   "cell_type": "code",
   "execution_count": 17,
   "id": "6cad13f8",
   "metadata": {},
   "outputs": [
    {
     "name": "stdout",
     "output_type": "stream",
     "text": [
      "John\n",
      "24\n"
     ]
    }
   ],
   "source": [
    "# looping over a dictionay using values\n",
    "person = {'name':'John','age':24}\n",
    "for value in person.values():\n",
    "    print(value)"
   ]
  },
  {
   "cell_type": "code",
   "execution_count": 18,
   "id": "fcb6bfc9",
   "metadata": {},
   "outputs": [
    {
     "name": "stdout",
     "output_type": "stream",
     "text": [
      "name : John\n",
      "age : 26\n"
     ]
    }
   ],
   "source": [
    "# looping over a dictionary via the key:value pairs\n",
    "person = {'name':'John','age':26}\n",
    "for key,value in person.items():\n",
    "    print(\"{} : {}\".format(key,value) )"
   ]
  },
  {
   "cell_type": "markdown",
   "id": "0f0d7b81",
   "metadata": {},
   "source": [
    "#### Tuesday Exercises"
   ]
  },
  {
   "cell_type": "code",
   "execution_count": 20,
   "id": "9f6871f1",
   "metadata": {},
   "outputs": [
    {
     "name": "stdout",
     "output_type": "stream",
     "text": [
      "Enter your name: 衍达\n",
      "Enter your address: 台北\n",
      "Enter your phone number: 777-777-7777\n",
      "name : 衍达\n",
      "address : 台北\n",
      "number : 777-777-7777\n"
     ]
    }
   ],
   "source": [
    "# create user information dictionary\n",
    "def userInfo():\n",
    "    name = input( \"Enter your name: \" )\n",
    "    address = input( \"Enter your address: \" )\n",
    "    number = input( \"Enter your phone number: \" )\n",
    "    info = {'name':name,'address':address,'number':number}\n",
    "    for k,v in info.items():\n",
    "        print(\"{} : {}\".format(k,v) )\n",
    "\n",
    "userInfo()"
   ]
  },
  {
   "cell_type": "markdown",
   "id": "2c782696",
   "metadata": {},
   "source": [
    "#### Tuples, Sets, and Frozensets"
   ]
  },
  {
   "cell_type": "code",
   "execution_count": 1,
   "id": "8e274ca4",
   "metadata": {},
   "outputs": [
    {
     "name": "stdout",
     "output_type": "stream",
     "text": [
      "<class 'tuple'> <class 'tuple'>\n"
     ]
    },
    {
     "ename": "TypeError",
     "evalue": "'tuple' object does not support item assignment",
     "output_type": "error",
     "traceback": [
      "\u001b[1;31m---------------------------------------------------------------------------\u001b[0m",
      "\u001b[1;31mTypeError\u001b[0m                                 Traceback (most recent call last)",
      "Input \u001b[1;32mIn [1]\u001b[0m, in \u001b[0;36m<cell line: 5>\u001b[1;34m()\u001b[0m\n\u001b[0;32m      3\u001b[0m t2 \u001b[38;5;241m=\u001b[39m \u001b[38;5;28;01mTrue\u001b[39;00m,\u001b[38;5;241m1\u001b[39m\n\u001b[0;32m      4\u001b[0m \u001b[38;5;28mprint\u001b[39m( \u001b[38;5;28mtype\u001b[39m(t1),\u001b[38;5;28mtype\u001b[39m(t2) )\n\u001b[1;32m----> 5\u001b[0m t1[\u001b[38;5;241m0\u001b[39m] \u001b[38;5;241m=\u001b[39m \u001b[38;5;241m1\u001b[39m\n",
      "\u001b[1;31mTypeError\u001b[0m: 'tuple' object does not support item assignment"
     ]
    }
   ],
   "source": [
    "# declaring a tuple\n",
    "t1 = (\"hello\",2,\"hello\")\n",
    "t2 = True,1\n",
    "print( type(t1),type(t2) )\n",
    "t1[0] = 1    # will crash"
   ]
  },
  {
   "cell_type": "code",
   "execution_count": 3,
   "id": "1e568f0e",
   "metadata": {},
   "outputs": [
    {
     "name": "stdout",
     "output_type": "stream",
     "text": [
      "{1, 2, 3}\n",
      "{4, 5}\n",
      "<class 'set'> <class 'set'>\n",
      "{2, 3, 5}\n"
     ]
    }
   ],
   "source": [
    "# declaring a set\n",
    "s1 = set( [1,2,3,1] )\n",
    "s2 = {4,4,5}\n",
    "print(s1)\n",
    "print(s2)\n",
    "print( type(s1),type(s2) )\n",
    "s1.add(5)\n",
    "s1.remove(1)\n",
    "print( s1 )"
   ]
  },
  {
   "cell_type": "code",
   "execution_count": 4,
   "id": "3a2582bf",
   "metadata": {},
   "outputs": [
    {
     "name": "stdout",
     "output_type": "stream",
     "text": [
      "frozenset({1, 2, 3, 4})\n",
      "<class 'frozenset'>\n"
     ]
    }
   ],
   "source": [
    "# declaring a frozenset\n",
    "fset = frozenset( [1,2,3,4] )\n",
    "print(fset)\n",
    "print(type(fset))"
   ]
  },
  {
   "cell_type": "markdown",
   "id": "5ce76957",
   "metadata": {},
   "source": [
    "#### Wednesday Exercises"
   ]
  },
  {
   "cell_type": "code",
   "execution_count": 11,
   "id": "a9b7836d",
   "metadata": {},
   "outputs": [
    {
     "name": "stdout",
     "output_type": "stream",
     "text": [
      "Your account numbers are listed below:\n",
      "frozenset({12345, 12356})\n"
     ]
    }
   ],
   "source": [
    "# create frozenset of bank account numbers\n",
    "from IPython.display import clear_output\n",
    "def bank():\n",
    "    finished = False\n",
    "    nums = []\n",
    "    while not finished:\n",
    "        clear_output()\n",
    "        act = input(\"Enter an account number. Enter 'quit' to quit.\").lower()\n",
    "        if act == 'quit':\n",
    "            finished = True\n",
    "        else:\n",
    "            try:\n",
    "                nums.append(int(act))\n",
    "            except:\n",
    "                print( \"Please enter a valid account number.\" )\n",
    "    sets = frozenset( nums )\n",
    "    clear_output()\n",
    "    print( \"Your account numbers are listed below:\")\n",
    "    print(sets)\n",
    "\n",
    "bank()"
   ]
  },
  {
   "cell_type": "markdown",
   "id": "549ccd4f",
   "metadata": {},
   "source": [
    "#### Reading & Writing Files"
   ]
  },
  {
   "cell_type": "code",
   "execution_count": 2,
   "id": "ba0731be",
   "metadata": {},
   "outputs": [],
   "source": [
    "from os import getcwd"
   ]
  },
  {
   "cell_type": "code",
   "execution_count": 3,
   "id": "a55fe0b7",
   "metadata": {},
   "outputs": [
    {
     "data": {
      "text/plain": [
       "'C:\\\\Projects\\\\python_bootcamp'"
      ]
     },
     "execution_count": 3,
     "metadata": {},
     "output_type": "execute_result"
    }
   ],
   "source": [
    "getcwd()"
   ]
  },
  {
   "cell_type": "code",
   "execution_count": 4,
   "id": "cdb59d42",
   "metadata": {},
   "outputs": [
    {
     "name": "stdout",
     "output_type": "stream",
     "text": [
      "this is a test\n"
     ]
    }
   ],
   "source": [
    "# opening creating and writing a text file\n",
    "f = open(\"test.txt\",\"w+\")\n",
    "f.write(\"this is a test\")\n",
    "f.close()\n",
    "# reading from a text file\n",
    "f = open(\"test.txt\",\"r\")\n",
    "data = f.read()\n",
    "f.close()\n",
    "print( data )"
   ]
  },
  {
   "cell_type": "code",
   "execution_count": 5,
   "id": "e0b178f4",
   "metadata": {},
   "outputs": [],
   "source": [
    "# opening/creating and writing to a .csv file\n",
    "import csv\n",
    "with open(\"test.csv\",mode = \"w\",newline = \"\") as f:\n",
    "    writer = csv.writer(f,delimiter = \",\")\n",
    "    writer.writerow( [\"Name\",\"City\"] )\n",
    "    writer.writerow( [\"Craig Lou\",\"Taiwan\"] )"
   ]
  },
  {
   "cell_type": "code",
   "execution_count": 6,
   "id": "b8be3f08",
   "metadata": {},
   "outputs": [
    {
     "name": "stdout",
     "output_type": "stream",
     "text": [
      "['Name', 'City']\n",
      "['Craig Lou', 'Taiwan']\n"
     ]
    }
   ],
   "source": [
    "# reading from csv files\n",
    "with open(\"test.csv\",mode = \"r\") as f:\n",
    "    reader = csv.reader(f,delimiter = \",\")\n",
    "    for row in reader:\n",
    "        print( row )"
   ]
  },
  {
   "cell_type": "markdown",
   "id": "7ce1cf4d",
   "metadata": {},
   "source": [
    "#### Thursday Exercises"
   ]
  },
  {
   "cell_type": "code",
   "execution_count": 13,
   "id": "9a6dfcd1",
   "metadata": {},
   "outputs": [
    {
     "name": "stdout",
     "output_type": "stream",
     "text": [
      "Enter your favorite number: 4\n",
      "4\n"
     ]
    }
   ],
   "source": [
    "# storing favorite number\n",
    "def askFav():\n",
    "    f = open(\"favnums.txt\",\"w+\")\n",
    "    num = input(\"Enter your favorite number: \")\n",
    "    f.write(num)\n",
    "    f.close\n",
    "askFav()\n",
    "text = open(\"favnums.txt\",\"r\").read()\n",
    "print( text )"
   ]
  },
  {
   "cell_type": "code",
   "execution_count": 12,
   "id": "86778db8",
   "metadata": {},
   "outputs": [
    {
     "name": "stdout",
     "output_type": "stream",
     "text": [
      "['name', 'language']\n",
      "['Dave', 'Python']\n",
      "['Dennis', 'C']\n",
      "['Peter', 'Java']\n",
      "['Jess', 'Python']\n"
     ]
    }
   ],
   "source": [
    "# write data to csv\n",
    "data = { 'name':['Dave','Dennis','Peter','Jess'],'language':['Python','C','Java','Python'] }\n",
    "with open('data.csv',mode = \"w\",newline = \"\") as f:\n",
    "    writer = csv.writer(f,delimiter = \",\")\n",
    "    writer.writerow( data.keys() )\n",
    "    for j in range( len( data['name'] ) ):\n",
    "        writer.writerow( [ data['name'][j],data['language'][j] ] )\n",
    "\n",
    "with open(\"data.csv\",mode = \"r\") as f:\n",
    "    reader = csv.reader(f,delimiter = \",\")\n",
    "    for row in reader:\n",
    "        print(row)"
   ]
  },
  {
   "cell_type": "markdown",
   "id": "cff335d1",
   "metadata": {},
   "source": [
    "#### Friday Exercise: CSV Database"
   ]
  },
  {
   "cell_type": "code",
   "execution_count": 19,
   "id": "83585f72",
   "metadata": {
    "scrolled": true
   },
   "outputs": [
    {
     "name": "stdout",
     "output_type": "stream",
     "text": [
      "['name', 'password']\n"
     ]
    }
   ],
   "source": [
    "# setup and imports !!ONE-TIME ONLY!!\n",
    "import csv\n",
    "from IPython.display import clear_output\n",
    "# create .csv file with headers\n",
    "f = open(\"user_database.csv\",mode = \"w+\",newline = \"\")\n",
    "csv.writer(f,delimiter = \",\").writerow([\"name\",\"password\"])\n",
    "f.close()    # close file"
   ]
  },
  {
   "cell_type": "code",
   "execution_count": 36,
   "id": "f7315230",
   "metadata": {},
   "outputs": [],
   "source": [
    "# sub-function 1: log-in\n",
    "def log_in():\n",
    "    users = {}\n",
    "    user = input( \"Please enter your email address: \" ).lower()\n",
    "    with open(\"user_database.csv\",mode = \"r\") as d:\n",
    "        for row in csv.reader(d, delimiter = \",\"):\n",
    "            users[row[0]] = row[1]\n",
    "    if user in users.keys():\n",
    "        password = input( \"Please enter your password (case-sensitive): \" )\n",
    "        if users[user] == password:\n",
    "            print(\"You have successfully logged in.\")\n",
    "            return True\n",
    "        else:\n",
    "            print(\"Incorrect password entered. Please enter the correct password.\")\n",
    "            return False\n",
    "    else:\n",
    "        print(\"User not found. Please register this user.\")\n",
    "        return False"
   ]
  },
  {
   "cell_type": "code",
   "execution_count": 41,
   "id": "1306ebcf",
   "metadata": {},
   "outputs": [],
   "source": [
    "# sub_function 2: register\n",
    "def register():\n",
    "    users = {}\n",
    "    user = input( \"Please enter your email address: \" ).lower()\n",
    "    f = open(\"user_database.csv\",mode = \"a+\",newline = \"\")\n",
    "    for row in csv.reader(f,delimiter = \",\"):\n",
    "        users[row[0]] = row[1]\n",
    "    if user in users.keys():\n",
    "        print(\"User already registered. Please try logging in.\")\n",
    "    else:\n",
    "        password = input(\"Please enter your passord (case-sensitive): \")\n",
    "        password2 = input(\"Please enter your password (case-sensitive) again: \")\n",
    "        if password == password2:\n",
    "            csv.writer(f,delimiter = \",\").writerow([user,password])\n",
    "            print( \"You have successfully registered this user. You may now log in.\")\n",
    "        else:\n",
    "            print(\"The passwords did not match. Please try registering again.\")"
   ]
  },
  {
   "cell_type": "code",
   "execution_count": 40,
   "id": "173e7a47",
   "metadata": {
    "scrolled": false
   },
   "outputs": [
    {
     "name": "stdout",
     "output_type": "stream",
     "text": [
      "You have been logged out and the program has closed. Thank you.\n"
     ]
    }
   ],
   "source": [
    "# create main loop\n",
    "# set initial conditions\n",
    "login = False\n",
    "quit = False\n",
    "# begin main loop\n",
    "while quit == False:\n",
    "    if not login:\n",
    "        action = input(\"Would you like to 'login', 'register', or 'quit'?\").lower()\n",
    "        if action == 'login':\n",
    "            clear_output()\n",
    "            login = log_in()\n",
    "        elif action == 'register':\n",
    "            clear_output()\n",
    "            register()\n",
    "        elif action == 'quit':\n",
    "            clear_output()\n",
    "            quit = True\n",
    "            print( \"You have been logged out and the program has closed. Thank you.\" )\n",
    "        else:\n",
    "            clear_output()\n",
    "            print(\"Please enter a valid command.\")\n",
    "    else:\n",
    "        action = input(\"Would you like to 'quit' or 'logout'?\").lower()\n",
    "        if action == 'logout':\n",
    "            clear_output()\n",
    "            login = False\n",
    "            print( \"You have sucessfully been logged out.\" )\n",
    "        elif action == quit:\n",
    "            clear_output()\n",
    "            quit = True\n",
    "            print( \"You have been logged out and the program has closed. Thank you.\" )\n",
    "        else:\n",
    "            clear_output()\n",
    "            print(\"Please enter a valid command.\")"
   ]
  },
  {
   "cell_type": "code",
   "execution_count": null,
   "id": "dac3471d",
   "metadata": {},
   "outputs": [],
   "source": []
  }
 ],
 "metadata": {
  "kernelspec": {
   "display_name": "Python 3 (ipykernel)",
   "language": "python",
   "name": "python3"
  },
  "language_info": {
   "codemirror_mode": {
    "name": "ipython",
    "version": 3
   },
   "file_extension": ".py",
   "mimetype": "text/x-python",
   "name": "python",
   "nbconvert_exporter": "python",
   "pygments_lexer": "ipython3",
   "version": "3.10.4"
  }
 },
 "nbformat": 4,
 "nbformat_minor": 5
}
