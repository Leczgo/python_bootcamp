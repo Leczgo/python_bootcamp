{
 "cells": [
  {
   "cell_type": "markdown",
   "id": "f06d4e5d",
   "metadata": {},
   "source": [
    "## Object-Oriented Programming"
   ]
  },
  {
   "cell_type": "markdown",
   "id": "053c7a8c",
   "metadata": {},
   "source": [
    "#### Creating & Instantiating a Class"
   ]
  },
  {
   "cell_type": "code",
   "execution_count": 1,
   "id": "cd12236f",
   "metadata": {},
   "outputs": [],
   "source": [
    "# creating your first class\n",
    "class car():\n",
    "    pass"
   ]
  },
  {
   "cell_type": "code",
   "execution_count": 2,
   "id": "93770bd2",
   "metadata": {},
   "outputs": [
    {
     "name": "stdout",
     "output_type": "stream",
     "text": [
      "<__main__.car object at 0x000001E819176500>\n"
     ]
    }
   ],
   "source": [
    "# instantiating an object from a class\n",
    "class car():\n",
    "    pass\n",
    "ford = car()\n",
    "print(ford)"
   ]
  },
  {
   "cell_type": "code",
   "execution_count": 3,
   "id": "69900fab",
   "metadata": {},
   "outputs": [
    {
     "name": "stdout",
     "output_type": "stream",
     "text": [
      "131022812881\n",
      "131022812581\n"
     ]
    }
   ],
   "source": [
    "# creating multiple instances of an object from a class\n",
    "class car():\n",
    "    pass\n",
    "ford = car()\n",
    "subaru = car()\n",
    "print(hash(ford))\n",
    "print(hash(subaru))"
   ]
  },
  {
   "cell_type": "markdown",
   "id": "51176ea2",
   "metadata": {},
   "source": [
    "#### Monday Exercises"
   ]
  },
  {
   "cell_type": "code",
   "execution_count": 5,
   "id": "1377fe35",
   "metadata": {},
   "outputs": [],
   "source": [
    "class animals():\n",
    "    pass\n",
    "lion = animals()\n",
    "tiger = animals()"
   ]
  },
  {
   "cell_type": "markdown",
   "id": "d03766ba",
   "metadata": {},
   "source": [
    "#### Attributes"
   ]
  },
  {
   "cell_type": "code",
   "execution_count": 7,
   "id": "63b15215",
   "metadata": {},
   "outputs": [
    {
     "name": "stdout",
     "output_type": "stream",
     "text": [
      "red\n"
     ]
    }
   ],
   "source": [
    "# assigning class attributes\n",
    "class car():\n",
    "    sound = \"beep\"    # all car objects will have this sound attribute and its value\n",
    "    color = 'red'    # all car objects will have this color attribute and its value\n",
    "ford = car()\n",
    "print( ford.color )"
   ]
  },
  {
   "cell_type": "code",
   "execution_count": 8,
   "id": "e8f0943d",
   "metadata": {},
   "outputs": [
    {
     "name": "stdout",
     "output_type": "stream",
     "text": [
      "beep\n",
      "honk\n"
     ]
    }
   ],
   "source": [
    "# changing the value of a class attribute\n",
    "class car():\n",
    "    sound = 'beep'\n",
    "    color = 'red'\n",
    "ford = car()\n",
    "print(ford.sound)\n",
    "ford.sound = 'honk'    # this changes the attribute of the ford object, all other car class objects are unaffected\n",
    "print(ford.sound)"
   ]
  },
  {
   "cell_type": "code",
   "execution_count": 9,
   "id": "f7b4590e",
   "metadata": {},
   "outputs": [
    {
     "name": "stdout",
     "output_type": "stream",
     "text": [
      "blue\n"
     ]
    }
   ],
   "source": [
    "# using the __init()__ method to give instances personalized attributes\n",
    "class car():\n",
    "    def __init__(self,color):\n",
    "        self.color = color    # sets color attribute to the value passed in the instance\n",
    "\n",
    "ford = car(\"blue\")    # ford object instantiated with color blue\n",
    "print( ford.color )"
   ]
  },
  {
   "cell_type": "code",
   "execution_count": 10,
   "id": "4e4bcbf6",
   "metadata": {},
   "outputs": [
    {
     "name": "stdout",
     "output_type": "stream",
     "text": [
      "blue 2018\n",
      "red 2016\n"
     ]
    }
   ],
   "source": [
    "# defining different values for multiple instances\n",
    "class car():\n",
    "    def __init__(self,color,year):\n",
    "        self.color = color\n",
    "        self.year = year\n",
    "\n",
    "ford = car('blue',2018)\n",
    "subaru = car('red',2016)\n",
    "\n",
    "print( ford.color,ford.year )\n",
    "print( subaru.color,subaru.year )"
   ]
  },
  {
   "cell_type": "code",
   "execution_count": 11,
   "id": "891932dc",
   "metadata": {},
   "outputs": [
    {
     "name": "stdout",
     "output_type": "stream",
     "text": [
      "beep\n",
      "blue\n"
     ]
    }
   ],
   "source": [
    "# using and accessing a global attribute\n",
    "class car():\n",
    "    sound = 'beep'    # global attribute\n",
    "    def __init__(self,color):\n",
    "        self.color = color    # instance specific attribute\n",
    "\n",
    "print( car.sound )\n",
    "# print( car.color )    # won't work because sound is an instance specific attribute\n",
    "\n",
    "ford = car('blue')\n",
    "print( ford.color )"
   ]
  },
  {
   "cell_type": "markdown",
   "id": "5ac69a61",
   "metadata": {},
   "source": [
    "#### Tuesday Exercises"
   ]
  },
  {
   "cell_type": "code",
   "execution_count": 12,
   "id": "9f4f0f92",
   "metadata": {},
   "outputs": [],
   "source": [
    "# create a class for dog\n",
    "class dog():\n",
    "    species = \"canine\"\n",
    "    def __init__(self,name,breed):\n",
    "        self.name = name\n",
    "        self.breed = breed\n",
    "\n",
    "dog1 = dog('Sammi','Husky')\n",
    "dog2 = dog('Casey','Chocolate Lab')"
   ]
  },
  {
   "cell_type": "code",
   "execution_count": 13,
   "id": "5b723699",
   "metadata": {},
   "outputs": [
    {
     "name": "stdout",
     "output_type": "stream",
     "text": [
      "Heather\n"
     ]
    }
   ],
   "source": [
    "# user input\n",
    "class Person():\n",
    "    def __init__(self,name):\n",
    "        self.name = name\n",
    "\n",
    "person1 = Person(\"Heather\")\n",
    "print(person1.name)"
   ]
  },
  {
   "cell_type": "markdown",
   "id": "2389cf1f",
   "metadata": {},
   "source": [
    "#### Methods"
   ]
  },
  {
   "cell_type": "code",
   "execution_count": 1,
   "id": "f339f027",
   "metadata": {},
   "outputs": [
    {
     "name": "stdout",
     "output_type": "stream",
     "text": [
      "bark\n"
     ]
    }
   ],
   "source": [
    "# declaring a method and calling it in an instance\n",
    "class dog():\n",
    "    def makesound(self):\n",
    "        print(\"bark\")\n",
    "\n",
    "sam = dog()\n",
    "sam.makesound()"
   ]
  },
  {
   "cell_type": "code",
   "execution_count": 2,
   "id": "3715b087",
   "metadata": {},
   "outputs": [
    {
     "name": "stdout",
     "output_type": "stream",
     "text": [
      "bark\n"
     ]
    }
   ],
   "source": [
    "# using the self keyword to access attributes within a class\n",
    "class dog():\n",
    "    sound = \"bark\"\n",
    "    def makesound(self):\n",
    "        print(self.sound)\n",
    "\n",
    "sam = dog()\n",
    "sam.makesound()"
   ]
  },
  {
   "cell_type": "code",
   "execution_count": 4,
   "id": "8db0e627",
   "metadata": {},
   "outputs": [
    {
     "name": "stdout",
     "output_type": "stream",
     "text": [
      "I am a dog\n",
      "bark\n"
     ]
    }
   ],
   "source": [
    "# global methods vs. instantial methods\n",
    "class dog():\n",
    "    sound = \"bark\"\n",
    "    def makesound(self):\n",
    "        print(self.sound)\n",
    "    def printInfo():\n",
    "        print( \"I am a dog\" )\n",
    "\n",
    "dog.printInfo()\n",
    "# dog.makesound    # will produce an error because the class is calling an instance-based method\n",
    "\n",
    "sam = dog()\n",
    "sam.makesound()\n",
    "# sam.printInfo()    # will produce an error because the instance is calling a class-based method"
   ]
  },
  {
   "cell_type": "code",
   "execution_count": 5,
   "id": "95c53330",
   "metadata": {},
   "outputs": [
    {
     "name": "stdout",
     "output_type": "stream",
     "text": [
      "6\n"
     ]
    }
   ],
   "source": [
    "# writing methods that accept parameters\n",
    "class dog():\n",
    "    def showAge(self,age):\n",
    "        print(age)    # self parameter not needed because instance specific attributes aren't used in the method\n",
    "\n",
    "sam = dog()\n",
    "sam.showAge( 6 )"
   ]
  },
  {
   "cell_type": "code",
   "execution_count": 6,
   "id": "34f4281e",
   "metadata": {},
   "outputs": [
    {
     "name": "stdout",
     "output_type": "stream",
     "text": [
      "Sammi\n"
     ]
    }
   ],
   "source": [
    "# using methods to set or return attribute values  !!proper programming practice!!\n",
    "class dog():\n",
    "    name = ''\n",
    "    def setName(self,new_name):\n",
    "        self.name = new_name\n",
    "    def getName(self):\n",
    "        return self.name\n",
    "\n",
    "sam = dog()\n",
    "sam.setName(\"Sammi\")\n",
    "print( sam.getName() )"
   ]
  },
  {
   "cell_type": "code",
   "execution_count": 7,
   "id": "1cc72a7e",
   "metadata": {},
   "outputs": [
    {
     "name": "stdout",
     "output_type": "stream",
     "text": [
      "6\n"
     ]
    }
   ],
   "source": [
    "# using methods to increment / decrement an attribute\n",
    "class dog():\n",
    "    age = 5\n",
    "    def happyBirthday(self):\n",
    "        self.age += 1\n",
    "\n",
    "sam = dog()\n",
    "sam.happyBirthday()\n",
    "print(sam.age)"
   ]
  },
  {
   "cell_type": "code",
   "execution_count": 8,
   "id": "37a6c378",
   "metadata": {},
   "outputs": [
    {
     "name": "stdout",
     "output_type": "stream",
     "text": [
      "Puppy!\n"
     ]
    }
   ],
   "source": [
    "# calling a class method from another method\n",
    "class dog():\n",
    "    age = 6\n",
    "    def getAge(self):\n",
    "        return self.age\n",
    "    def printInfo(self):\n",
    "        if self.getAge() < 10:\n",
    "            print(\"Puppy!\")\n",
    "\n",
    "sam = dog()\n",
    "sam.printInfo()"
   ]
  },
  {
   "cell_type": "code",
   "execution_count": 9,
   "id": "58dcf77e",
   "metadata": {},
   "outputs": [
    {
     "name": "stdout",
     "output_type": "stream",
     "text": [
      "This is a dog class!\n"
     ]
    }
   ],
   "source": [
    "# using magic methods\n",
    "class dog():\n",
    "    def __str__(self):\n",
    "        return \"This is a dog class!\"\n",
    "\n",
    "sam = dog()\n",
    "print(sam)"
   ]
  },
  {
   "cell_type": "markdown",
   "id": "b135f70e",
   "metadata": {},
   "source": [
    "#### Wednesday Exercises"
   ]
  },
  {
   "cell_type": "code",
   "execution_count": 11,
   "id": "225b67e6",
   "metadata": {},
   "outputs": [
    {
     "name": "stdout",
     "output_type": "stream",
     "text": [
      "\n",
      "Feline\n"
     ]
    }
   ],
   "source": [
    "# setter and getter methods\n",
    "class animals():\n",
    "    def __init__(self,name = \"\"):\n",
    "        self.name = name\n",
    "    def setName(self,newName):\n",
    "        self.name = newName\n",
    "    def getName(self):\n",
    "        print(self.name)\n",
    "\n",
    "lions = animals()\n",
    "lions.getName()\n",
    "lions.setName(\"Feline\")\n",
    "lions.getName()"
   ]
  },
  {
   "cell_type": "code",
   "execution_count": 12,
   "id": "b96450a6",
   "metadata": {},
   "outputs": [
    {
     "name": "stdout",
     "output_type": "stream",
     "text": [
      "You are 0 years old!\n",
      "You are 64 years old!\n"
     ]
    }
   ],
   "source": [
    "# user input\n",
    "class person():\n",
    "    def __init__(self,name,age = 0):\n",
    "        self.name = name\n",
    "        self.age = age\n",
    "    def setAge(self,newAge):\n",
    "        self.age = newAge\n",
    "    def getAge(self):\n",
    "        print( \"You are {} years old!\".format(self.age) )\n",
    "\n",
    "todd = person(\"Todd\")\n",
    "todd.getAge()\n",
    "todd.setAge(64)\n",
    "todd.getAge()"
   ]
  },
  {
   "cell_type": "markdown",
   "id": "8647b2b7",
   "metadata": {},
   "source": [
    "#### Inheritance"
   ]
  },
  {
   "cell_type": "code",
   "execution_count": 13,
   "id": "0cada9c3",
   "metadata": {},
   "outputs": [
    {
     "name": "stdout",
     "output_type": "stream",
     "text": [
      "roar\n"
     ]
    }
   ],
   "source": [
    "# inheriting a class and accessing the inherited method\n",
    "class Animal():\n",
    "    def makeSound(self):\n",
    "        print( \"roar\" )\n",
    "class dog(Animal):    # inheriting from the Animal() class\n",
    "    species = \"Canine\"\n",
    "\n",
    "sam = dog()\n",
    "sam.makeSound()    # accessing the inherited method\n",
    "lion = Animal()\n",
    "# lion.species    # not accessible because inheritance does not work backward"
   ]
  },
  {
   "cell_type": "code",
   "execution_count": 17,
   "id": "9d45c97d",
   "metadata": {},
   "outputs": [
    {
     "name": "stdout",
     "output_type": "stream",
     "text": [
      "Canine\n"
     ]
    }
   ],
   "source": [
    "# using the super() method\n",
    "class Animals():\n",
    "    def __init__(self,species):\n",
    "        self.species = species\n",
    "class dog(Animals):\n",
    "    def __init__(self, species,name):\n",
    "        self.name = name\n",
    "        super().__init__(species)\n",
    "\n",
    "sam = dog(\"Canine\",\"Sammi\")\n",
    "print( sam.species )"
   ]
  },
  {
   "cell_type": "code",
   "execution_count": 19,
   "id": "25e990a5",
   "metadata": {},
   "outputs": [
    {
     "name": "stdout",
     "output_type": "stream",
     "text": [
      "bark\n",
      "roar\n"
     ]
    }
   ],
   "source": [
    "# overriding methods defined in superclass\n",
    "class Animal():\n",
    "    def makeSound(self):\n",
    "        print(\"roar\")\n",
    "class Dog(Animal):\n",
    "    def makeSound(self):\n",
    "        print(\"bark\")\n",
    "\n",
    "sam,lion = Dog(),Animal()\n",
    "\n",
    "sam.makeSound()\n",
    "lion.makeSound()"
   ]
  },
  {
   "cell_type": "code",
   "execution_count": 22,
   "id": "18d6fd04",
   "metadata": {},
   "outputs": [
    {
     "name": "stdout",
     "output_type": "stream",
     "text": [
      "9.8 Ford\n"
     ]
    }
   ],
   "source": [
    "# inheriting multiple classes\n",
    "class physics():\n",
    "    gravity = 9.8\n",
    "class car():\n",
    "    def __init__(self,make,model,year):\n",
    "        self.make,self.model,self.year = make,model,year\n",
    "class Ford(physics,car):\n",
    "    def __init__(self,model,year):\n",
    "        car.__init__(self,\"Ford\",model,year)\n",
    "\n",
    "truck = Ford(\"F-150\",2018)\n",
    "print(truck.gravity,truck.make)"
   ]
  },
  {
   "cell_type": "markdown",
   "id": "4fee4e27",
   "metadata": {},
   "source": [
    "#### Thursday Exercises"
   ]
  },
  {
   "cell_type": "code",
   "execution_count": 32,
   "id": "80b4b86a",
   "metadata": {},
   "outputs": [
    {
     "name": "stdout",
     "output_type": "stream",
     "text": [
      "Hello, my name is Max and I am on the good guys.\n",
      "Hello, my name is Tony and I am on the bad guys.\n"
     ]
    }
   ],
   "source": [
    "# good guys / bad guys\n",
    "class characters():\n",
    "    height = \"\"\n",
    "    weight = \"\"\n",
    "    def __init__(self,name = \"Max\",team = \"good\"):\n",
    "        self.name,self.team = name,team\n",
    "    def sayHello(self):\n",
    "        print( \"Hello, my name is {} and I am on the {} guys.\".format(self.name,self.team) )\n",
    "\n",
    "class goodguys(characters):\n",
    "    def __init__(self,name):\n",
    "        super().__init__(name,\"good\")\n",
    "        \n",
    "class badguys(characters):\n",
    "    def __init__(self,name):\n",
    "        super().__init__(name,\"bad\")\n",
    "\n",
    "Max = goodguys(\"Max\")\n",
    "tony = badguys(\"Tony\")\n",
    "Max.sayHello()\n",
    "tony.sayHello()"
   ]
  },
  {
   "cell_type": "code",
   "execution_count": null,
   "id": "6805035c",
   "metadata": {},
   "outputs": [],
   "source": []
  }
 ],
 "metadata": {
  "kernelspec": {
   "display_name": "Python 3 (ipykernel)",
   "language": "python",
   "name": "python3"
  },
  "language_info": {
   "codemirror_mode": {
    "name": "ipython",
    "version": 3
   },
   "file_extension": ".py",
   "mimetype": "text/x-python",
   "name": "python",
   "nbconvert_exporter": "python",
   "pygments_lexer": "ipython3",
   "version": "3.10.4"
  }
 },
 "nbformat": 4,
 "nbformat_minor": 5
}
