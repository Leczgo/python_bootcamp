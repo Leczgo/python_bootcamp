{
 "cells": [
  {
   "cell_type": "markdown",
   "id": "f136ed54",
   "metadata": {},
   "source": [
    "## Efficiency"
   ]
  },
  {
   "cell_type": "markdown",
   "id": "2994ce55",
   "metadata": {},
   "source": [
    "#### Weekly Challenge: Prime Numbers"
   ]
  },
  {
   "cell_type": "code",
   "execution_count": 1,
   "id": "bc1dbb70",
   "metadata": {},
   "outputs": [],
   "source": [
    "def Prime(num):\n",
    "    try:\n",
    "        int(num)\n",
    "    except:\n",
    "        print(\"Please input a valid integer.\")"
   ]
  },
  {
   "cell_type": "markdown",
   "id": "d1eecff0",
   "metadata": {},
   "source": [
    "#### List Comprehension"
   ]
  },
  {
   "cell_type": "code",
   "execution_count": 3,
   "id": "aa2b339b",
   "metadata": {},
   "outputs": [
    {
     "name": "stdout",
     "output_type": "stream",
     "text": [
      "[0, 1, 2, 3, 4, 5, 6, 7, 8, 9, 10, 11, 12, 13, 14, 15, 16, 17, 18, 19, 20, 21, 22, 23, 24, 25, 26, 27, 28, 29, 30, 31, 32, 33, 34, 35, 36, 37, 38, 39, 40, 41, 42, 43, 44, 45, 46, 47, 48, 49, 50, 51, 52, 53, 54, 55, 56, 57, 58, 59, 60, 61, 62, 63, 64, 65, 66, 67, 68, 69, 70, 71, 72, 73, 74, 75, 76, 77, 78, 79, 80, 81, 82, 83, 84, 85, 86, 87, 88, 89, 90, 91, 92, 93, 94, 95, 96, 97, 98, 99]\n"
     ]
    }
   ],
   "source": [
    "# create a list of numbers using list comprehension\n",
    "ls = [ x for x in range(100) ]\n",
    "print( ls )"
   ]
  },
  {
   "cell_type": "code",
   "execution_count": 4,
   "id": "3eb53787",
   "metadata": {},
   "outputs": [
    {
     "name": "stdout",
     "output_type": "stream",
     "text": [
      "[0, 2, 4, 6, 8, 10, 12, 14, 16, 18, 20, 22, 24, 26, 28, 30, 32, 34, 36, 38, 40, 42, 44, 46, 48, 50, 52, 54, 56, 58, 60, 62, 64, 66, 68, 70, 72, 74, 76, 78, 80, 82, 84, 86, 88, 90, 92, 94, 96, 98]\n"
     ]
    }
   ],
   "source": [
    "# using if statements within list comprehension\n",
    "nums = [ x for x in range(100) if x % 2 == 0 ]\n",
    "print( nums )"
   ]
  },
  {
   "cell_type": "code",
   "execution_count": 5,
   "id": "82bf3917",
   "metadata": {},
   "outputs": [
    {
     "name": "stdout",
     "output_type": "stream",
     "text": [
      "['Even', 'Odd', 'Even', 'Odd', 'Even', 'Odd', 'Even', 'Odd', 'Even', 'Odd']\n"
     ]
    }
   ],
   "source": [
    "# using an if/else statement within list comprehension\n",
    "nums = [ \"Even\" if x % 2 == 0 else \"Odd\" for x in range(10) ]\n",
    "print( nums )"
   ]
  },
  {
   "cell_type": "code",
   "execution_count": 6,
   "id": "4433871e",
   "metadata": {},
   "outputs": [
    {
     "name": "stdout",
     "output_type": "stream",
     "text": [
      "[4, 16, 36, 64]\n"
     ]
    }
   ],
   "source": [
    "# creating a list of squared numbers from an original list using list comprehension\n",
    "nums = [2,4,6,8]\n",
    "nums_sqrd = [num ** 2 for num in nums]\n",
    "print(nums_sqrd)"
   ]
  },
  {
   "cell_type": "code",
   "execution_count": 7,
   "id": "2a2d1f0b",
   "metadata": {},
   "outputs": [
    {
     "name": "stdout",
     "output_type": "stream",
     "text": [
      "{0: 0, 2: 4, 4: 16, 6: 36, 8: 64}\n"
     ]
    }
   ],
   "source": [
    "# creating a dictionary of squared numbers and even numbers using comprehension\n",
    "numbers = [x for x in range(10)]\n",
    "squares = {num : num **2 for num in numbers if num % 2 == 0}\n",
    "print( squares )"
   ]
  },
  {
   "cell_type": "markdown",
   "id": "2a0b4bc7",
   "metadata": {},
   "source": [
    "#### Monday Exercises"
   ]
  },
  {
   "cell_type": "code",
   "execution_count": 9,
   "id": "dfacc170",
   "metadata": {},
   "outputs": [
    {
     "name": "stdout",
     "output_type": "stream",
     "text": [
      "[53.6, 69.8, 59.0, 89.6]\n"
     ]
    }
   ],
   "source": [
    "# converting celsius to farenheit\n",
    "Cl = [12,21,15,32]\n",
    "Fh = [(x * 9 / 5) + 32 for x in Cl]\n",
    "print( Fh )"
   ]
  },
  {
   "cell_type": "code",
   "execution_count": 18,
   "id": "ae9d9f20",
   "metadata": {},
   "outputs": [
    {
     "name": "stdout",
     "output_type": "stream",
     "text": [
      "Please enter a number between 1 and 100: 25\n",
      "[25, 50, 75, 100]\n"
     ]
    }
   ],
   "source": [
    "try:\n",
    "    X = int( input( \"Please enter a number between 1 and 100: \" ) )\n",
    "    div = [x for x in range(1,101) if (x % X) == 0]\n",
    "    print( div )\n",
    "except:\n",
    "    print(\"Please enter a valid integer.\")"
   ]
  },
  {
   "cell_type": "markdown",
   "id": "42c35b4c",
   "metadata": {},
   "source": [
    "#### Lambda Functions"
   ]
  },
  {
   "cell_type": "code",
   "execution_count": 19,
   "id": "3d31cc40",
   "metadata": {},
   "outputs": [
    {
     "data": {
      "text/plain": [
       "16"
      ]
     },
     "execution_count": 19,
     "metadata": {},
     "output_type": "execute_result"
    }
   ],
   "source": [
    "# using a lambda to square a number\n",
    "(lambda x : x ** 2)(4)"
   ]
  },
  {
   "cell_type": "code",
   "execution_count": 20,
   "id": "ffff484c",
   "metadata": {},
   "outputs": [
    {
     "data": {
      "text/plain": [
       "50"
      ]
     },
     "execution_count": 20,
     "metadata": {},
     "output_type": "execute_result"
    }
   ],
   "source": [
    "# passing arguments into a lambda\n",
    "(lambda x,y : x * y)(5,10)"
   ]
  },
  {
   "cell_type": "code",
   "execution_count": 21,
   "id": "8a0c999e",
   "metadata": {},
   "outputs": [
    {
     "name": "stdout",
     "output_type": "stream",
     "text": [
      "<function <lambda> at 0x0000026128A4A290>\n",
      "25\n"
     ]
    }
   ],
   "source": [
    "# saving a lambda function into a variable\n",
    "square = lambda x : x ** 2\n",
    "print(square)\n",
    "result = square(5)\n",
    "print(result)"
   ]
  },
  {
   "cell_type": "code",
   "execution_count": 22,
   "id": "d9399658",
   "metadata": {},
   "outputs": [
    {
     "name": "stdout",
     "output_type": "stream",
     "text": [
      "10\n"
     ]
    }
   ],
   "source": [
    "# using if/else statments in a lambda function\n",
    "greater = lambda x,y : x if x > y else y\n",
    "result = greater(5,10)\n",
    "print(result)"
   ]
  },
  {
   "cell_type": "code",
   "execution_count": 24,
   "id": "e33e30d8",
   "metadata": {},
   "outputs": [
    {
     "name": "stdout",
     "output_type": "stream",
     "text": [
      "10\n",
      "15\n"
     ]
    }
   ],
   "source": [
    "# return a lambda function from another function\n",
    "def my_func(n):\n",
    "    return lambda x : x * n\n",
    "doubler = my_func(2)\n",
    "print( doubler(5) )\n",
    "tripler = my_func(3)\n",
    "print( tripler(5) )"
   ]
  },
  {
   "cell_type": "markdown",
   "id": "d6a7656d",
   "metadata": {},
   "source": [
    "#### Tuesday Exercises"
   ]
  },
  {
   "cell_type": "code",
   "execution_count": 25,
   "id": "168200a0",
   "metadata": {},
   "outputs": [
    {
     "data": {
      "text/plain": [
       "False"
      ]
     },
     "execution_count": 25,
     "metadata": {},
     "output_type": "execute_result"
    }
   ],
   "source": [
    "# fill in the blanks\n",
    "# ______ x _ True if x _ 50 _____ False\n",
    "(lambda x : True if x > 50 else False)(25)"
   ]
  },
  {
   "cell_type": "code",
   "execution_count": 26,
   "id": "7310893c",
   "metadata": {},
   "outputs": [
    {
     "data": {
      "text/plain": [
       "59.0"
      ]
     },
     "execution_count": 26,
     "metadata": {},
     "output_type": "execute_result"
    }
   ],
   "source": [
    "conver = lambda x : (x * 9 / 5) + 32\n",
    "conver(15)"
   ]
  },
  {
   "cell_type": "markdown",
   "id": "75c8cd55",
   "metadata": {},
   "source": [
    "#### Map, Reduce, and Filter"
   ]
  },
  {
   "cell_type": "code",
   "execution_count": 1,
   "id": "1589faf5",
   "metadata": {},
   "outputs": [
    {
     "name": "stdout",
     "output_type": "stream",
     "text": [
      "<map object at 0x000001B285FEB190>\n",
      "<class 'map'>\n",
      "[54.5, 56.480000000000004, 59.0, 89.6]\n"
     ]
    }
   ],
   "source": [
    "# using map functions without lambdas to convert celsius\n",
    "def convertDeg(C):\n",
    "    return (9 / 5 * C) + 32\n",
    "temps = [12.5,13.6,15,32]\n",
    "converted_temps = map(convertDeg,temps)    # returns map object (iterator)\n",
    "# map() works somewhat like apply() in R\n",
    "print(converted_temps)\n",
    "print( type(converted_temps) )\n",
    "converted_temps = list( converted_temps )    # converts map object to list\n",
    "print( converted_temps )"
   ]
  },
  {
   "cell_type": "code",
   "execution_count": 4,
   "id": "471cb157",
   "metadata": {},
   "outputs": [
    {
     "name": "stdout",
     "output_type": "stream",
     "text": [
      "[54.5, 56.48, 59.0, 48.56]\n"
     ]
    }
   ],
   "source": [
    "# using a map function with lambda\n",
    "temps = [12.5,13.6,15,9.2]\n",
    "converted_temps = list( map( lambda C: C * 9 / 5 + 32 , temps ) )\n",
    "print( converted_temps )"
   ]
  },
  {
   "cell_type": "code",
   "execution_count": 5,
   "id": "0b9d4f8d",
   "metadata": {},
   "outputs": [
    {
     "name": "stdout",
     "output_type": "stream",
     "text": [
      "<filter object at 0x000001B2872BDFC0>\n",
      "[13.6, 15]\n"
     ]
    }
   ],
   "source": [
    "# using filter function without lambda function, filter out temps below 55 degrees F\n",
    "def filterTemps(C):\n",
    "    converted = (9/5) * C + 32\n",
    "    return True if converted > 55 else False\n",
    "temps = [12.5,13.6,15,9.2]\n",
    "filtered_temps = filter( filterTemps, temps )\n",
    "print( filtered_temps )\n",
    "filtered_temps = list( filtered_temps )\n",
    "print( filtered_temps )"
   ]
  },
  {
   "cell_type": "code",
   "execution_count": 7,
   "id": "865bc4d2",
   "metadata": {},
   "outputs": [
    {
     "name": "stdout",
     "output_type": "stream",
     "text": [
      "[13.6, 15]\n"
     ]
    }
   ],
   "source": [
    "# using the filter function with lambda function, filter out temps below 55 degress F\n",
    "temps = [12.5,13.6,15,9.2]\n",
    "converted_temps = filter( lambda C : C * (9/5) + 32 > 55, temps)\n",
    "print(list(converted_temps))"
   ]
  },
  {
   "cell_type": "code",
   "execution_count": 17,
   "id": "e3ab0bdc",
   "metadata": {},
   "outputs": [
    {
     "name": "stdout",
     "output_type": "stream",
     "text": [
      "24\n",
      "3\n"
     ]
    }
   ],
   "source": [
    "# for informational purposes, this is how to use the reduce function\n",
    "from functools import reduce\n",
    "nums = [1,2,3,4]\n",
    "result = reduce( lambda a,b : a * b , nums )\n",
    "print( result )\n",
    "print(nums)"
   ]
  },
  {
   "cell_type": "markdown",
   "id": "0ab1d683",
   "metadata": {},
   "source": [
    "#### Wednesday Exercises"
   ]
  },
  {
   "cell_type": "code",
   "execution_count": 27,
   "id": "1638f7a0",
   "metadata": {},
   "outputs": [
    {
     "name": "stdout",
     "output_type": "stream",
     "text": [
      "<map object at 0x000001B2860FE770>\n",
      "['ryan', 'PAUL', 'kevin connors']\n"
     ]
    }
   ],
   "source": [
    "# Mapping Names\n",
    "names = [\"Ryan\",\"Paul\",\"Kevin Connors\"]\n",
    "formated_names = map( lambda C : C.lower() if (names.index(C) % 2) == 0 else C.upper() , names )\n",
    "print( formated_names )\n",
    "print( list( formated_names ) )"
   ]
  },
  {
   "cell_type": "code",
   "execution_count": 31,
   "id": "74c61fb3",
   "metadata": {},
   "outputs": [
    {
     "name": "stdout",
     "output_type": "stream",
     "text": [
      "['Amanda', 'abby']\n",
      "['Amanda', 'abby']\n"
     ]
    }
   ],
   "source": [
    "# filtering names\n",
    "names = ['Amanda','Frank','abby','ripal']\n",
    "filtered_names = filter( lambda C : True if C.lower().startswith('a') else False, names )\n",
    "print( list( filtered_names ) )\n",
    "filtered_names = filter( lambda C : C.lower().startswith('a') , names )\n",
    "print( list( filtered_names ) )"
   ]
  },
  {
   "cell_type": "markdown",
   "id": "46698cd2",
   "metadata": {},
   "source": [
    "#### Recursive Functions and Memoization"
   ]
  },
  {
   "cell_type": "code",
   "execution_count": 37,
   "id": "20a13c6d",
   "metadata": {},
   "outputs": [
    {
     "name": "stdout",
     "output_type": "stream",
     "text": [
      "120\n"
     ]
    }
   ],
   "source": [
    "# writing a factorial using recursive functions\n",
    "def factorial(n):\n",
    "    if n <= 1:\n",
    "        return 1\n",
    "    else:\n",
    "        return factorial(n - 1) * n\n",
    "print( factorial(5) )"
   ]
  },
  {
   "cell_type": "code",
   "execution_count": 39,
   "id": "d193e15c",
   "metadata": {},
   "outputs": [
    {
     "name": "stdout",
     "output_type": "stream",
     "text": [
      "5\n"
     ]
    }
   ],
   "source": [
    "# writing the fibonacci sequence using recursive functions\n",
    "def fib(n):\n",
    "    if n <= 1:\n",
    "        return n\n",
    "    else:\n",
    "        return fib(n - 1) + fib(n - 2)\n",
    "\n",
    "print( fib(5) )"
   ]
  },
  {
   "cell_type": "code",
   "execution_count": 43,
   "id": "e50409f8",
   "metadata": {},
   "outputs": [
    {
     "name": "stdout",
     "output_type": "stream",
     "text": [
      "12586269025\n"
     ]
    }
   ],
   "source": [
    "# using memoization with the fibonacci sequence\n",
    "cache = {}\n",
    "def fib(n):\n",
    "    if n in cache:\n",
    "        return cache[n]\n",
    "    result = 0\n",
    "    if n <= 1:\n",
    "        result = n\n",
    "    else:\n",
    "        result = fib(n-1) + fib(n-2)\n",
    "    cache[n] = result\n",
    "    \n",
    "    return result\n",
    "\n",
    "print( fib(50) )"
   ]
  },
  {
   "cell_type": "code",
   "execution_count": 42,
   "id": "c437fc85",
   "metadata": {},
   "outputs": [
    {
     "name": "stdout",
     "output_type": "stream",
     "text": [
      "12586269025\n"
     ]
    }
   ],
   "source": [
    "# using @lru_cache for memoization in recursive functions\n",
    "from functools import lru_cache\n",
    "@lru_cache()\n",
    "def fib(n):\n",
    "    if n <= 1:\n",
    "        return n\n",
    "    else:\n",
    "        return fib(n - 1) + fib(n - 2)\n",
    "\n",
    "print(fib(50))"
   ]
  },
  {
   "cell_type": "markdown",
   "id": "e45cd123",
   "metadata": {},
   "source": [
    "#### Thursday Exercises"
   ]
  },
  {
   "cell_type": "code",
   "execution_count": 44,
   "id": "f7cc864f",
   "metadata": {},
   "outputs": [
    {
     "name": "stdout",
     "output_type": "stream",
     "text": [
      "30414093201713378043612608166064768844377641568960512000000000000\n"
     ]
    }
   ],
   "source": [
    "# cacheing a factorial function part 1\n",
    "cache = {}\n",
    "def factorial(n):\n",
    "    if n in cache:\n",
    "        return cache[n]\n",
    "    result = 0\n",
    "    if n <= 1:\n",
    "        result = n\n",
    "    else:\n",
    "        result = factorial(n - 1) * n\n",
    "    cache[n] = result\n",
    "    return result\n",
    "\n",
    "print( factorial(50) )"
   ]
  },
  {
   "cell_type": "code",
   "execution_count": 45,
   "id": "d0ad9977",
   "metadata": {},
   "outputs": [
    {
     "name": "stdout",
     "output_type": "stream",
     "text": [
      "30414093201713378043612608166064768844377641568960512000000000000\n"
     ]
    }
   ],
   "source": [
    "# cacheing a factorial function part 2\n",
    "from functools import lru_cache\n",
    "@lru_cache()\n",
    "def factorial(n):\n",
    "    if n <= 1:\n",
    "        return n\n",
    "    else:\n",
    "        return factorial(n - 1) * n\n",
    "\n",
    "print( factorial(50) )"
   ]
  },
  {
   "cell_type": "code",
   "execution_count": 6,
   "id": "2c2e620e",
   "metadata": {},
   "outputs": [
    {
     "ename": "SyntaxError",
     "evalue": "invalid syntax (2216347988.py, line 6)",
     "output_type": "error",
     "traceback": [
      "\u001b[1;36m  Input \u001b[1;32mIn [6]\u001b[1;36m\u001b[0m\n\u001b[1;33m    elif instance(x[index],list) for index in x:\u001b[0m\n\u001b[1;37m                                 ^\u001b[0m\n\u001b[1;31mSyntaxError\u001b[0m\u001b[1;31m:\u001b[0m invalid syntax\n"
     ]
    }
   ],
   "source": [
    "# create a recursive data searching fuction\n",
    "search = [2,3,[18,22],6]\n",
    "def searchList(x,y):\n",
    "    if y in x:\n",
    "        return True\n",
    "    elif instance(x[index],list) for index in x:\n",
    "        x = \n",
    "        return searchList(x[index],y)\n",
    "    else:\n",
    "        return False\n",
    "print( searchList(search,18) )"
   ]
  },
  {
   "cell_type": "markdown",
   "id": "82a4c591",
   "metadata": {},
   "source": [
    "#### Friday Project: Writing a Binary Search"
   ]
  },
  {
   "cell_type": "code",
   "execution_count": 26,
   "id": "4f4d135d",
   "metadata": {},
   "outputs": [
    {
     "name": "stdout",
     "output_type": "stream",
     "text": [
      "[1, 4, 8, 9, 10, 12, 12, 13, 16, 17]\n",
      "False\n"
     ]
    }
   ],
   "source": [
    "# setting up initial conditions\n",
    "import random\n",
    "\n",
    "nums = [random.randint(0,20) for i in range(10)]    # create a list of ten numbers between 1 and 20\n",
    "\n",
    "def binarySearch(aList,num):\n",
    "    aList.sort()\n",
    "    \n",
    "    while aList:\n",
    "    \n",
    "        mid = len(aList) // 2\n",
    "    \n",
    "        if aList[mid] == num:\n",
    "            return True\n",
    "        elif aList[mid] > num:\n",
    "            aList = aList[:mid]\n",
    "        elif aList[mid] < num:\n",
    "            aList = aList[mid + 1:]\n",
    "    return False\n",
    "\n",
    "print( sorted(nums) )\n",
    "print( binarySearch(nums,3) )"
   ]
  },
  {
   "cell_type": "markdown",
   "id": "d4b3b6f1",
   "metadata": {},
   "source": [
    "#### Weekly Challenges"
   ]
  },
  {
   "cell_type": "code",
   "execution_count": 29,
   "id": "efcd17bb",
   "metadata": {},
   "outputs": [
    {
     "name": "stdout",
     "output_type": "stream",
     "text": [
      "[0, 5, 6, 6, 11, 12, 13, 15, 17, 17]\n"
     ]
    },
    {
     "ename": "IndexError",
     "evalue": "list index out of range",
     "output_type": "error",
     "traceback": [
      "\u001b[1;31m---------------------------------------------------------------------------\u001b[0m",
      "\u001b[1;31mIndexError\u001b[0m                                Traceback (most recent call last)",
      "Input \u001b[1;32mIn [29]\u001b[0m, in \u001b[0;36m<cell line: 22>\u001b[1;34m()\u001b[0m\n\u001b[0;32m     19\u001b[0m         \u001b[38;5;28;01mreturn\u001b[39;00m \u001b[38;5;28;01mFalse\u001b[39;00m\n\u001b[0;32m     21\u001b[0m \u001b[38;5;28mprint\u001b[39m( \u001b[38;5;28msorted\u001b[39m(nums) )\n\u001b[1;32m---> 22\u001b[0m \u001b[38;5;28mprint\u001b[39m( \u001b[43mbinarySearch\u001b[49m\u001b[43m(\u001b[49m\u001b[43mnums\u001b[49m\u001b[43m,\u001b[49m\u001b[38;5;241;43m3\u001b[39;49m\u001b[43m)\u001b[49m )\n",
      "Input \u001b[1;32mIn [29]\u001b[0m, in \u001b[0;36mbinarySearch\u001b[1;34m(aList, num)\u001b[0m\n\u001b[0;32m     13\u001b[0m     \u001b[38;5;28;01mreturn\u001b[39;00m \u001b[38;5;28;01mTrue\u001b[39;00m\n\u001b[0;32m     14\u001b[0m \u001b[38;5;28;01melif\u001b[39;00m aList[mid] \u001b[38;5;241m>\u001b[39m num:\n\u001b[1;32m---> 15\u001b[0m     \u001b[38;5;28;01mreturn\u001b[39;00m \u001b[43mbinarySearch\u001b[49m\u001b[43m(\u001b[49m\u001b[43maList\u001b[49m\u001b[43m[\u001b[49m\u001b[43m:\u001b[49m\u001b[43mmid\u001b[49m\u001b[43m]\u001b[49m\u001b[43m,\u001b[49m\u001b[43mnum\u001b[49m\u001b[43m)\u001b[49m\n\u001b[0;32m     16\u001b[0m \u001b[38;5;28;01melif\u001b[39;00m aList[mid] \u001b[38;5;241m<\u001b[39m num:\n\u001b[0;32m     17\u001b[0m     \u001b[38;5;28;01mreturn\u001b[39;00m binarySearch(aList[mid \u001b[38;5;241m+\u001b[39m \u001b[38;5;241m1\u001b[39m:],num)\n",
      "Input \u001b[1;32mIn [29]\u001b[0m, in \u001b[0;36mbinarySearch\u001b[1;34m(aList, num)\u001b[0m\n\u001b[0;32m     13\u001b[0m     \u001b[38;5;28;01mreturn\u001b[39;00m \u001b[38;5;28;01mTrue\u001b[39;00m\n\u001b[0;32m     14\u001b[0m \u001b[38;5;28;01melif\u001b[39;00m aList[mid] \u001b[38;5;241m>\u001b[39m num:\n\u001b[1;32m---> 15\u001b[0m     \u001b[38;5;28;01mreturn\u001b[39;00m \u001b[43mbinarySearch\u001b[49m\u001b[43m(\u001b[49m\u001b[43maList\u001b[49m\u001b[43m[\u001b[49m\u001b[43m:\u001b[49m\u001b[43mmid\u001b[49m\u001b[43m]\u001b[49m\u001b[43m,\u001b[49m\u001b[43mnum\u001b[49m\u001b[43m)\u001b[49m\n\u001b[0;32m     16\u001b[0m \u001b[38;5;28;01melif\u001b[39;00m aList[mid] \u001b[38;5;241m<\u001b[39m num:\n\u001b[0;32m     17\u001b[0m     \u001b[38;5;28;01mreturn\u001b[39;00m binarySearch(aList[mid \u001b[38;5;241m+\u001b[39m \u001b[38;5;241m1\u001b[39m:],num)\n",
      "Input \u001b[1;32mIn [29]\u001b[0m, in \u001b[0;36mbinarySearch\u001b[1;34m(aList, num)\u001b[0m\n\u001b[0;32m     13\u001b[0m     \u001b[38;5;28;01mreturn\u001b[39;00m \u001b[38;5;28;01mTrue\u001b[39;00m\n\u001b[0;32m     14\u001b[0m \u001b[38;5;28;01melif\u001b[39;00m aList[mid] \u001b[38;5;241m>\u001b[39m num:\n\u001b[1;32m---> 15\u001b[0m     \u001b[38;5;28;01mreturn\u001b[39;00m \u001b[43mbinarySearch\u001b[49m\u001b[43m(\u001b[49m\u001b[43maList\u001b[49m\u001b[43m[\u001b[49m\u001b[43m:\u001b[49m\u001b[43mmid\u001b[49m\u001b[43m]\u001b[49m\u001b[43m,\u001b[49m\u001b[43mnum\u001b[49m\u001b[43m)\u001b[49m\n\u001b[0;32m     16\u001b[0m \u001b[38;5;28;01melif\u001b[39;00m aList[mid] \u001b[38;5;241m<\u001b[39m num:\n\u001b[0;32m     17\u001b[0m     \u001b[38;5;28;01mreturn\u001b[39;00m binarySearch(aList[mid \u001b[38;5;241m+\u001b[39m \u001b[38;5;241m1\u001b[39m:],num)\n",
      "Input \u001b[1;32mIn [29]\u001b[0m, in \u001b[0;36mbinarySearch\u001b[1;34m(aList, num)\u001b[0m\n\u001b[0;32m     15\u001b[0m     \u001b[38;5;28;01mreturn\u001b[39;00m binarySearch(aList[:mid],num)\n\u001b[0;32m     16\u001b[0m \u001b[38;5;28;01melif\u001b[39;00m aList[mid] \u001b[38;5;241m<\u001b[39m num:\n\u001b[1;32m---> 17\u001b[0m     \u001b[38;5;28;01mreturn\u001b[39;00m \u001b[43mbinarySearch\u001b[49m\u001b[43m(\u001b[49m\u001b[43maList\u001b[49m\u001b[43m[\u001b[49m\u001b[43mmid\u001b[49m\u001b[43m \u001b[49m\u001b[38;5;241;43m+\u001b[39;49m\u001b[43m \u001b[49m\u001b[38;5;241;43m1\u001b[39;49m\u001b[43m:\u001b[49m\u001b[43m]\u001b[49m\u001b[43m,\u001b[49m\u001b[43mnum\u001b[49m\u001b[43m)\u001b[49m\n\u001b[0;32m     18\u001b[0m \u001b[38;5;28;01melse\u001b[39;00m:\n\u001b[0;32m     19\u001b[0m     \u001b[38;5;28;01mreturn\u001b[39;00m \u001b[38;5;28;01mFalse\u001b[39;00m\n",
      "Input \u001b[1;32mIn [29]\u001b[0m, in \u001b[0;36mbinarySearch\u001b[1;34m(aList, num)\u001b[0m\n\u001b[0;32m      8\u001b[0m aList\u001b[38;5;241m.\u001b[39msort()\n\u001b[0;32m     10\u001b[0m mid \u001b[38;5;241m=\u001b[39m \u001b[38;5;28mlen\u001b[39m(aList) \u001b[38;5;241m/\u001b[39m\u001b[38;5;241m/\u001b[39m \u001b[38;5;241m2\u001b[39m\n\u001b[1;32m---> 12\u001b[0m \u001b[38;5;28;01mif\u001b[39;00m \u001b[43maList\u001b[49m\u001b[43m[\u001b[49m\u001b[43mmid\u001b[49m\u001b[43m]\u001b[49m \u001b[38;5;241m==\u001b[39m num:\n\u001b[0;32m     13\u001b[0m     \u001b[38;5;28;01mreturn\u001b[39;00m \u001b[38;5;28;01mTrue\u001b[39;00m\n\u001b[0;32m     14\u001b[0m \u001b[38;5;28;01melif\u001b[39;00m aList[mid] \u001b[38;5;241m>\u001b[39m num:\n",
      "\u001b[1;31mIndexError\u001b[0m: list index out of range"
     ]
    }
   ],
   "source": [
    "# Recursive Binary Search\n",
    "# setting up initial conditions\n",
    "import random\n",
    "\n",
    "nums = [random.randint(0,20) for i in range(10)]    # create a list of ten numbers between 1 and 20\n",
    "\n",
    "def binarySearch(aList,num):\n",
    "    aList.sort()\n",
    "    \n",
    "    mid = len(aList) // 2\n",
    "    \n",
    "    if aList[mid] == num:\n",
    "        return True\n",
    "    elif aList[mid] > num:\n",
    "        return binarySearch(aList[:mid],num)\n",
    "    elif aList[mid] < num:\n",
    "        return binarySearch(aList[mid + 1:],num)\n",
    "    else:\n",
    "        return False\n",
    "\n",
    "print( sorted(nums) )\n",
    "print( binarySearch(nums,3) )"
   ]
  },
  {
   "cell_type": "code",
   "execution_count": null,
   "id": "544b360e",
   "metadata": {},
   "outputs": [],
   "source": []
  }
 ],
 "metadata": {
  "kernelspec": {
   "display_name": "Python 3 (ipykernel)",
   "language": "python",
   "name": "python3"
  },
  "language_info": {
   "codemirror_mode": {
    "name": "ipython",
    "version": 3
   },
   "file_extension": ".py",
   "mimetype": "text/x-python",
   "name": "python",
   "nbconvert_exporter": "python",
   "pygments_lexer": "ipython3",
   "version": "3.10.4"
  }
 },
 "nbformat": 4,
 "nbformat_minor": 5
}
