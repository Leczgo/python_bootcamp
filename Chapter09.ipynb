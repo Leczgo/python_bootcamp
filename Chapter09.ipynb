{
 "cells": [
  {
   "cell_type": "markdown",
   "id": "500649c4",
   "metadata": {},
   "source": [
    "## Advanced Topics: Complexity"
   ]
  },
  {
   "cell_type": "markdown",
   "id": "d3c19dc4",
   "metadata": {},
   "source": [
    "### Generators and Iterators"
   ]
  },
  {
   "cell_type": "code",
   "execution_count": 3,
   "id": "77c1ec04",
   "metadata": {},
   "outputs": [
    {
     "name": "stdout",
     "output_type": "stream",
     "text": [
      "baseball\n",
      "soccer\n",
      "football\n",
      "hockey\n",
      "basketball\n"
     ]
    }
   ],
   "source": [
    "# creating a basic iterator from an iterable\n",
    "sports = [\"baseball\",\"soccer\",\"football\",\"hockey\",\"basketball\"]\n",
    "my_iter = iter(sports)\n",
    "print( next(my_iter) )    # prints first item\n",
    "print( next(my_iter) )    # prints second item\n",
    "print( next(my_iter) )    # prints third item\n",
    "for item in my_iter:\n",
    "    print(item)\n",
    "#print( next(my_iter) )    # will produce an error"
   ]
  },
  {
   "cell_type": "code",
   "execution_count": 5,
   "id": "11db98ab",
   "metadata": {},
   "outputs": [
    {
     "name": "stdout",
     "output_type": "stream",
     "text": [
      "a\n",
      "b\n",
      "c\n",
      "d\n",
      "e\n",
      "f\n",
      "g\n",
      "h\n",
      "i\n",
      "j\n",
      "k\n",
      "l\n",
      "m\n",
      "n\n",
      "o\n",
      "p\n",
      "q\n",
      "r\n",
      "s\n",
      "t\n",
      "u\n",
      "v\n",
      "w\n",
      "x\n",
      "y\n",
      "z\n"
     ]
    }
   ],
   "source": [
    "# creating our own iterator\n",
    "class Alphabet():\n",
    "    def __iter__(self):\n",
    "        self.letters = \"abcdefghijklmnopqrstuvwxyz\"\n",
    "        self.index = 0\n",
    "        return self\n",
    "    def __next__(self):\n",
    "        if self.index <= 25:\n",
    "            char = self.letters[self.index]\n",
    "            self.index += 1\n",
    "            return char\n",
    "        else:\n",
    "            raise StopIteration\n",
    "\n",
    "for char in Alphabet():\n",
    "    print(char)"
   ]
  },
  {
   "cell_type": "code",
   "execution_count": 10,
   "id": "5add6ff9",
   "metadata": {},
   "outputs": [
    {
     "name": "stdout",
     "output_type": "stream",
     "text": [
      "Generator start value: 0\n",
      "For loop X value: 0\n",
      "Generator start value: 1\n",
      "For loop X value: 1\n",
      "Generator start value: 2\n",
      "For loop X value: 2\n",
      "Generator start value: 3\n",
      "For loop X value: 3\n",
      "Generator start value: 4\n",
      "For loop X value: 4\n",
      "<generator object myRange at 0x0000023986705D20>\n",
      "range(0, 5)\n"
     ]
    }
   ],
   "source": [
    "# creating a Range() generator\n",
    "def myRange(stop,start = 0,step = 1):\n",
    "    while start < stop:\n",
    "        print( \"Generator start value: {}\".format(start) )\n",
    "        yield start\n",
    "        start += step    # increment start value, otherwise infinite loop\n",
    "\n",
    "for x in myRange(5):\n",
    "    print( \"For loop X value: {}\".format(x) )\n",
    "print( myRange( 5 ) )\n",
    "print( range( 5 ) )"
   ]
  },
  {
   "cell_type": "markdown",
   "id": "80cc7f8b",
   "metadata": {},
   "source": [
    "#### Monday Exercises"
   ]
  },
  {
   "cell_type": "code",
   "execution_count": 37,
   "id": "f331fcf5",
   "metadata": {},
   "outputs": [
    {
     "name": "stdout",
     "output_type": "stream",
     "text": [
      "5\n",
      "4\n",
      "3\n",
      "2\n",
      "1\n"
     ]
    }
   ],
   "source": [
    "# reverse list iterator\n",
    "class reverseList():\n",
    "    def __init__(self,List):\n",
    "        self.oper = List\n",
    "        self.last = len(List) - 1\n",
    "    def __iter__(self):\n",
    "        self.oper\n",
    "        self.index = 0\n",
    "        return self\n",
    "    def __next__(self):\n",
    "        if self.index <= len(self.oper) - 1:\n",
    "            val = self.oper[self.last - self.index]\n",
    "            self.index += 1\n",
    "            return val\n",
    "        else:\n",
    "            raise StopIteration\n",
    "\n",
    "nums =[1,2,3,4,5]\n",
    "for val in reverseList(nums):\n",
    "    print(val)"
   ]
  },
  {
   "cell_type": "code",
   "execution_count": 40,
   "id": "8c0b2914",
   "metadata": {},
   "outputs": [
    {
     "name": "stdout",
     "output_type": "stream",
     "text": [
      "0\n",
      "1\n",
      "4\n",
      "9\n",
      "16\n"
     ]
    }
   ],
   "source": [
    "# return squares of a range\n",
    "def sqRange(stop,start = 0,step = 1):\n",
    "    while start <= stop:\n",
    "        print(start ** 2)\n",
    "        yield start\n",
    "        start += 1\n",
    "\n",
    "for i in sqRange(4):\n",
    "    continue"
   ]
  },
  {
   "cell_type": "markdown",
   "id": "235c2875",
   "metadata": {},
   "source": [
    "### Decorators"
   ]
  },
  {
   "cell_type": "code",
   "execution_count": 41,
   "id": "d45a300e",
   "metadata": {},
   "outputs": [
    {
     "name": "stdout",
     "output_type": "stream",
     "text": [
      "=======\n",
      "John!\n",
      "=======\n"
     ]
    }
   ],
   "source": [
    "# creating and applying our own decorator using the @ symbol\n",
    "\n",
    "def decorator(func):\n",
    "    def wrap():\n",
    "        print(\"=======\")\n",
    "        func()\n",
    "        print(\"=======\")\n",
    "    return wrap\n",
    "\n",
    "@decorator\n",
    "def printName():\n",
    "    print(\"John!\")\n",
    "\n",
    "printName()"
   ]
  },
  {
   "cell_type": "code",
   "execution_count": 46,
   "id": "ab4383b7",
   "metadata": {},
   "outputs": [
    {
     "name": "stdout",
     "output_type": "stream",
     "text": [
      "Hello!\n",
      "Hello!\n",
      "Hello!\n",
      "Hello!\n"
     ]
    }
   ],
   "source": [
    "# creating a decorator that accepts a parameter\n",
    "\n",
    "def numTimes(num):\n",
    "    def wrap(func):\n",
    "        for i in range(num):\n",
    "            func()\n",
    "    return wrap\n",
    "\n",
    "@numTimes(4)    # decorators with parameters automatically run the function\n",
    "def sayHello():\n",
    "    print( \"Hello!\" )"
   ]
  },
  {
   "cell_type": "code",
   "execution_count": 48,
   "id": "581d3d35",
   "metadata": {},
   "outputs": [
    {
     "name": "stdout",
     "output_type": "stream",
     "text": [
      "Congratulations Paul, you are now 44\n"
     ]
    }
   ],
   "source": [
    "# creating a decorator for a function that accepts parameters\n",
    "def birthday(func):\n",
    "    def wrap(name,age):\n",
    "        func(name,age + 1)\n",
    "    return wrap\n",
    "\n",
    "@birthday\n",
    "def celebrate(name,age):\n",
    "    print( \"Congratulations {}, you are now {}\".format(name,age) )\n",
    "\n",
    "celebrate(\"Paul\",43)"
   ]
  },
  {
   "cell_type": "code",
   "execution_count": 51,
   "id": "2900e334",
   "metadata": {},
   "outputs": [
    {
     "name": "stdout",
     "output_type": "stream",
     "text": [
      "What is your password?ilywfp\n",
      "Access granted. Welcome Jessie\n"
     ]
    }
   ],
   "source": [
    "# real world sim, restricting user access\n",
    "def login_required(func):\n",
    "    def wrap(user):\n",
    "        password = input( \"What is your password?\")\n",
    "        if password == user[\"password\"]:\n",
    "            func(user)\n",
    "        else:\n",
    "            print( \"Access Denied\" )\n",
    "    return wrap\n",
    "\n",
    "@login_required\n",
    "def restrictedFunc(user):\n",
    "    print( \"Access granted. Welcome {}\".format(user[\"name\"]) )\n",
    "\n",
    "user = {\"name\":\"Jessie\",\"password\":\"ilywfp\"}\n",
    "\n",
    "restrictedFunc(user)"
   ]
  },
  {
   "cell_type": "markdown",
   "id": "f3a5caa1",
   "metadata": {},
   "source": [
    "#### Tuesday Exercises"
   ]
  },
  {
   "cell_type": "code",
   "execution_count": 54,
   "id": "e95f7426",
   "metadata": {},
   "outputs": [
    {
     "name": "stdout",
     "output_type": "stream",
     "text": [
      "Enter a number: 50\n",
      "Less Than 100\n"
     ]
    }
   ],
   "source": [
    "# less than 100\n",
    "def lessThan(func):\n",
    "    num = int( input( \"Enter a number: \" ) )\n",
    "    def wrap():\n",
    "        if num < 100:\n",
    "            func()\n",
    "    return wrap\n",
    "\n",
    "@lessThan\n",
    "def numFunc():\n",
    "    print( \"Less Than 100\" )\n",
    "\n",
    "numFunc()"
   ]
  },
  {
   "cell_type": "code",
   "execution_count": 55,
   "id": "2e7912a1",
   "metadata": {},
   "outputs": [
    {
     "name": "stdout",
     "output_type": "stream",
     "text": [
      "url\n",
      "This is a url\n"
     ]
    }
   ],
   "source": [
    "# creating a route\n",
    "def route(text):\n",
    "    def wrap(func):\n",
    "        print( text )\n",
    "        func()\n",
    "    return wrap\n",
    "\n",
    "@route('url')\n",
    "def page():\n",
    "    print( 'This is a url' )"
   ]
  },
  {
   "cell_type": "markdown",
   "id": "88846ff4",
   "metadata": {},
   "source": [
    "### Modules"
   ]
  },
  {
   "cell_type": "code",
   "execution_count": 3,
   "id": "663be1f2",
   "metadata": {},
   "outputs": [
    {
     "name": "stdout",
     "output_type": "stream",
     "text": [
      "2\n",
      "3\n",
      "3.141592653589793\n"
     ]
    }
   ],
   "source": [
    "# import the entire math module\n",
    "import math\n",
    "print( math.floor(2.5) )    # rounds down\n",
    "print( math.ceil(2.5) )    # rounds up\n",
    "print( math.pi )"
   ]
  },
  {
   "cell_type": "code",
   "execution_count": 4,
   "id": "e1eef722",
   "metadata": {},
   "outputs": [
    {
     "name": "stdout",
     "output_type": "stream",
     "text": [
      "2\n",
      "3.141592653589793\n"
     ]
    }
   ],
   "source": [
    "# importing only functions, variables from the math function\n",
    "from math import floor, pi\n",
    "print( floor(2.5) )\n",
    "#print( ceil(2.5) )    # will produce an error because the ceil() function was not imported\n",
    "\n",
    "print( pi )"
   ]
  },
  {
   "cell_type": "code",
   "execution_count": 5,
   "id": "4db53d5c",
   "metadata": {},
   "outputs": [
    {
     "name": "stdout",
     "output_type": "stream",
     "text": [
      "2\n"
     ]
    }
   ],
   "source": [
    "# using the 'as' keyword to create an alias for imports\n",
    "from math import floor as f\n",
    "print( f(2.5) )"
   ]
  },
  {
   "cell_type": "code",
   "execution_count": 8,
   "id": "9947cf6f",
   "metadata": {},
   "outputs": [
    {
     "name": "stdout",
     "output_type": "stream",
     "text": [
      "Module Successfully Imported\n",
      "5\n",
      "10\n",
      "John is 43 years old.\n"
     ]
    }
   ],
   "source": [
    "# using the %run command in jupyter notebooks to access our own modules\n",
    "%run test.py\n",
    "print( length )\n",
    "print( width )\n",
    "printInfo(\"John\",43)"
   ]
  },
  {
   "cell_type": "markdown",
   "id": "31ef9f5e",
   "metadata": {},
   "source": [
    "#### Wednesday Exercises"
   ]
  },
  {
   "cell_type": "code",
   "execution_count": 10,
   "id": "25446c13",
   "metadata": {},
   "outputs": [
    {
     "name": "stdout",
     "output_type": "stream",
     "text": [
      "Help on built-in function sleep in module time:\n",
      "\n",
      "sleep(...)\n",
      "    sleep(seconds)\n",
      "    \n",
      "    Delay execution for a given number of seconds.  The argument may be\n",
      "    a floating point number for subsecond precision.\n",
      "\n",
      "Time module imported\n"
     ]
    }
   ],
   "source": [
    "# using the time module\n",
    "from time import sleep\n",
    "help(sleep)\n",
    "\n",
    "sleep(5)\n",
    "print(\"Time module imported\")"
   ]
  },
  {
   "cell_type": "code",
   "execution_count": 12,
   "id": "3b0fc827",
   "metadata": {},
   "outputs": [
    {
     "data": {
      "text/plain": [
       "50"
      ]
     },
     "execution_count": 12,
     "metadata": {},
     "output_type": "execute_result"
    }
   ],
   "source": [
    "# using a custom module\n",
    "%run calculation.py\n",
    "calcArea(length = 5,width = 10)"
   ]
  },
  {
   "cell_type": "markdown",
   "id": "e26e7fb1",
   "metadata": {},
   "source": [
    "### Understanding Algorithmic Complexity"
   ]
  },
  {
   "cell_type": "code",
   "execution_count": 2,
   "id": "83b23e33",
   "metadata": {},
   "outputs": [],
   "source": [
    "# creating data collections to test for time complexity\n",
    "import time\n",
    "d = {}    # generate fake dictionary\n",
    "for i in range(10000000):\n",
    "    d[i] = 'value'\n",
    "\n",
    "big_list = [x for x in range(10000000)]"
   ]
  },
  {
   "cell_type": "code",
   "execution_count": 3,
   "id": "0bdc3353",
   "metadata": {},
   "outputs": [
    {
     "name": "stdout",
     "output_type": "stream",
     "text": [
      "Found in dictionary\n",
      "Elapsed time for dictionary: 0.0\n",
      "Found in list\n",
      "Elapsed time for list: 0.38845348358154297\n"
     ]
    }
   ],
   "source": [
    "# retrieving information and tracking time to see which is faster: dictionaries or lists\n",
    "start_time = time.time()    # tracking time for dictionary\n",
    "if 9999999 in d:\n",
    "    print( 'Found in dictionary' )\n",
    "end_time = time.time() - start_time\n",
    "print( \"Elapsed time for dictionary: {}\".format(end_time) )\n",
    "start_time = time.time()    # tracking time for list\n",
    "if 9999999 in big_list:\n",
    "    print('Found in list')\n",
    "end_time = time.time() - start_time\n",
    "print( \"Elapsed time for list: {}\".format(end_time) )"
   ]
  },
  {
   "cell_type": "code",
   "execution_count": 10,
   "id": "306d6539",
   "metadata": {},
   "outputs": [],
   "source": [
    "# testing bubble sort vs insertion sort\n",
    "def bubbleSort(aList):\n",
    "    for i in range( len(aList) ):\n",
    "        switched = False\n",
    "        for j in range( len(aList) - 1 ):\n",
    "            if aList[j] > aList[j + 1]:\n",
    "                aList[j],aList[j + 1] = aList[j + 1],aList[j]\n",
    "                switched = True\n",
    "        if switched == False:\n",
    "            break\n",
    "    return aList\n",
    "\n",
    "def insertionSort(aList):\n",
    "    for i in range(1,len(aList)):\n",
    "        if aList[i] < aList[i-1]:\n",
    "            for j in range(i,0,-1):\n",
    "                if aList[j] < aList[j-1]:\n",
    "                    aList[j],aList[j + 1] = aList[j + 1],aList[j]\n",
    "            else:\n",
    "                break\n",
    "    return aList"
   ]
  },
  {
   "cell_type": "code",
   "execution_count": 12,
   "id": "60005fd9",
   "metadata": {},
   "outputs": [
    {
     "name": "stdout",
     "output_type": "stream",
     "text": [
      "Elapsed time for bubble sort: 6.725449085235596\n",
      "Elapsed time for insertion sort: 0.0\n"
     ]
    }
   ],
   "source": [
    "# calling bubbleSort and insertionSort to test time required\n",
    "from random import randint\n",
    "nums = [randint(0,100) for x in range(5000)]\n",
    "start_time = time.time()\n",
    "bubbleSort(nums)\n",
    "end_time = time.time() - start_time\n",
    "print( \"Elapsed time for bubble sort: {}\".format(end_time) )\n",
    "start_time = time.time()\n",
    "insertionSort(nums)\n",
    "end_time = time.time() - start_time\n",
    "print( \"Elapsed time for insertion sort: {}\".format(end_time) )"
   ]
  },
  {
   "cell_type": "code",
   "execution_count": null,
   "id": "19f54659",
   "metadata": {},
   "outputs": [],
   "source": []
  }
 ],
 "metadata": {
  "kernelspec": {
   "display_name": "Python 3 (ipykernel)",
   "language": "python",
   "name": "python3"
  },
  "language_info": {
   "codemirror_mode": {
    "name": "ipython",
    "version": 3
   },
   "file_extension": ".py",
   "mimetype": "text/x-python",
   "name": "python",
   "nbconvert_exporter": "python",
   "pygments_lexer": "ipython3",
   "version": "3.10.4"
  }
 },
 "nbformat": 4,
 "nbformat_minor": 5
}
